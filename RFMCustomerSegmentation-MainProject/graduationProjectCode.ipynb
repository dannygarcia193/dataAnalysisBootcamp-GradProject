{
 "cells": [
  {
   "cell_type": "markdown",
   "metadata": {
    "colab_type": "text",
    "id": "qpQxac_JqoRE"
   },
   "source": [
    "<h1 style=\"text-align:center;\">Everything Plus's U.K. Customer Profiles Using RFM Analysis</h1>"
   ]
  },
  {
   "cell_type": "markdown",
   "metadata": {},
   "source": [
    "## <a href=\"https://public.tableau.com/profile/daniel.garcia.rodriguez#!/vizhome/graduationProject/RFMDashboard\">Link</a> to dashboard solution."
   ]
  },
  {
   "cell_type": "markdown",
   "metadata": {},
   "source": [
    "### By: Daniel Garcia\n",
    "### Date Completed: 10/2/2020"
   ]
  },
  {
   "cell_type": "markdown",
   "metadata": {},
   "source": [
    "<div>\n",
    "<table style=\"align:left;font-family: sans-serif; border-collapse: collapse;border: 1px solid #ddd;width:40%\">\n",
    "  <tr style=\"background-color: #f2f2f2;\">\n",
    "    <th style=\"padding-top: 20px;\n",
    "  padding-bottom: 15px;padding-left:20px;font-size:25px;\n",
    "  text-align: center;background-color: #4CAF50;\n",
    "  color: white;\">Table of Contents</th></tr>\n",
    "    <tr><td style=\"text-align:left;font-size:16px;padding-top: 10px;padding-bottom: 5px;\"><a href=\"#1\">1. Introduction</a></td></tr>\n",
    "    <tr><td style=\"text-align:left;font-size:16px;padding-top: 10px;padding-bottom: 5px;\"><a href=\"#2\">2. General Overview of Data</a></td></tr>\n",
    "    <tr><td style=\"text-align:left;font-size:16px;padding-top: 10px;padding-bottom: 5px;\"><a href=\"#3\">3. Data Preprocessing</a></td></tr>\n",
    "    <tr><td style=\"text-align:left;font-size:16px;padding-top: 10px;padding-bottom: 5px;\"><a href=\"#4\">4. Exploratory Data Analysis</a></td></tr>\n",
    "    <tr><td style=\"text-align:left;font-size:16px;padding-top: 10px;padding-bottom: 5px;\"><a href=\"#5\">5. Product Clustering (exploratory)</a></td></tr>\n",
    "    <tr><td style=\"text-align:left;font-size:16px;padding-top: 10px;padding-bottom: 5px;\"><a href=\"#6\">6. RFM Segmentation</a></td></tr>\n",
    "    <tr><td style=\"text-align:left;font-size:16px;padding-top: 10px;padding-bottom: 5px;\"><a href=\"#7\">7. Conclusion</a></td></tr>\n",
    " </table>\n",
    "</div>"
   ]
  },
  {
   "cell_type": "markdown",
   "metadata": {},
   "source": [
    "<a id='1'></a>"
   ]
  },
  {
   "cell_type": "markdown",
   "metadata": {},
   "source": [
    "# 1. Introduction\n",
    "\n",
    "## 1.1 Business Goal\n",
    "Identify and form segments of customers based on similar purchasing characteristics (from transactional data) to inform the sales and marketing strategy of the company. Hypothetically speaking, the company is interested in profiles for customers located in the U.K. where the majority of their customers are located in. In terms of currency, the company hypothetically requested that it be in U.S. dollar rather than in pounds. Lastly, the company also requested that the analysis to be based on one year (here defined as year from the last day of transaction recorded in the dataset).\n",
    "\n",
    "## 1.2 Method Overview\n",
    "\n",
    "Segment users based on their consumer profiles using RFM and produced dashboard for hypothetical client (online store marketing and sales team). My mains steps:\n",
    "1. Got a general idea of the underlying data through basic exploration steps\n",
    "2. Dealt with missing values, erroneous or faulty data (ie. negative values), dropped duplicates, and changed data types.\n",
    "3. Carried out exploratory data analysis. Explored the distribution of variables (ie. `quantity`) over time (date, month) and per unique customer.\n",
    "4. Preprocessed and conducted an exploratory clustering analysis of the products; used Facebook's fastText unsupervised algorithm to create vectors from product name and then applied K-means on the result (no statistical tests were done to test K-means clustering performance.\n",
    "5. Used RFM model to segment customers. \n",
    "6. Exported relevant data from analysis and created a Tableau dashboard as a deliverable for hypothetical stakeholder.\n",
    "\n",
    "\n",
    "## 1.3 Description of the data\n",
    "\n",
    "The dataset contains the transaction history of Everything Plus, an online store that sells household goods.\n",
    "\n",
    "The file `ecommerce_dataset_us.csv` contains the following columns:\n",
    "\n",
    "`InvoiceNo` — Invoice number uniquely assigned to each transaction. If this code starts with the letter 'c', it indicates a cancellation.\n",
    "\n",
    "`StockCode` — item identifier\n",
    "\n",
    "`Description` — item name\n",
    "\n",
    "`Quantity`\n",
    "\n",
    "`InvoiceDate` — order date\n",
    "\n",
    "`UnitPrice` — price per item\n",
    "\n",
    "`CustomerID`"
   ]
  },
  {
   "cell_type": "markdown",
   "metadata": {},
   "source": [
    "# 1.4 Solution"
   ]
  },
  {
   "cell_type": "markdown",
   "metadata": {},
   "source": [
    "**Note:** Design may not be as responsive. Needs some adjustments but for now here's my final draft dashboard solution."
   ]
  },
  {
   "cell_type": "code",
   "execution_count": 2,
   "metadata": {},
   "outputs": [
    {
     "data": {
      "text/html": [
       "<div class='tableauPlaceholder' id='viz1602221158022' style='position: relative'><noscript><a href='#'><img alt=' ' src='https:&#47;&#47;public.tableau.com&#47;static&#47;images&#47;gr&#47;graduationProject&#47;RFMDashboard&#47;1_rss.png' style='border: none' /></a></noscript><object class='tableauViz'  style='display:none;'><param name='host_url' value='https%3A%2F%2Fpublic.tableau.com%2F' /> <param name='embed_code_version' value='3' /> <param name='site_root' value='' /><param name='name' value='graduationProject&#47;RFMDashboard' /><param name='tabs' value='no' /><param name='toolbar' value='yes' /><param name='static_image' value='https:&#47;&#47;public.tableau.com&#47;static&#47;images&#47;gr&#47;graduationProject&#47;RFMDashboard&#47;1.png' /> <param name='animate_transition' value='yes' /><param name='display_static_image' value='yes' /><param name='display_spinner' value='yes' /><param name='display_overlay' value='yes' /><param name='display_count' value='yes' /><param name='language' value='en' /></object></div>                <script type='text/javascript'>                    var divElement = document.getElementById('viz1602221158022');                    var vizElement = divElement.getElementsByTagName('object')[0];                    if ( divElement.offsetWidth > 800 ) { vizElement.style.width='100%';vizElement.style.height=(divElement.offsetWidth*0.75)+'px';} else if ( divElement.offsetWidth > 500 ) { vizElement.style.width='100%';vizElement.style.height=(divElement.offsetWidth*0.75)+'px';} else { vizElement.style.width='100%';vizElement.style.height='1727px';}                     var scriptElement = document.createElement('script');                    scriptElement.src = 'https://public.tableau.com/javascripts/api/viz_v1.js';                    vizElement.parentNode.insertBefore(scriptElement, vizElement);                </script>\n"
      ],
      "text/plain": [
       "<IPython.core.display.HTML object>"
      ]
     },
     "metadata": {},
     "output_type": "display_data"
    }
   ],
   "source": [
    "%%html\n",
    "<div class='tableauPlaceholder' id='viz1602221158022' style='position: relative'><noscript><a href='#'><img alt=' ' src='https:&#47;&#47;public.tableau.com&#47;static&#47;images&#47;gr&#47;graduationProject&#47;RFMDashboard&#47;1_rss.png' style='border: none' /></a></noscript><object class='tableauViz'  style='display:none;'><param name='host_url' value='https%3A%2F%2Fpublic.tableau.com%2F' /> <param name='embed_code_version' value='3' /> <param name='site_root' value='' /><param name='name' value='graduationProject&#47;RFMDashboard' /><param name='tabs' value='no' /><param name='toolbar' value='yes' /><param name='static_image' value='https:&#47;&#47;public.tableau.com&#47;static&#47;images&#47;gr&#47;graduationProject&#47;RFMDashboard&#47;1.png' /> <param name='animate_transition' value='yes' /><param name='display_static_image' value='yes' /><param name='display_spinner' value='yes' /><param name='display_overlay' value='yes' /><param name='display_count' value='yes' /><param name='language' value='en' /></object></div>                <script type='text/javascript'>                    var divElement = document.getElementById('viz1602221158022');                    var vizElement = divElement.getElementsByTagName('object')[0];                    if ( divElement.offsetWidth > 800 ) { vizElement.style.width='100%';vizElement.style.height=(divElement.offsetWidth*0.75)+'px';} else if ( divElement.offsetWidth > 500 ) { vizElement.style.width='100%';vizElement.style.height=(divElement.offsetWidth*0.75)+'px';} else { vizElement.style.width='100%';vizElement.style.height='1727px';}                     var scriptElement = document.createElement('script');                    scriptElement.src = 'https://public.tableau.com/javascripts/api/viz_v1.js';                    vizElement.parentNode.insertBefore(scriptElement, vizElement);                </script>"
   ]
  },
  {
   "cell_type": "markdown",
   "metadata": {
    "colab_type": "text",
    "id": "v3_WYjlGqoRo"
   },
   "source": [
    "## 1.5 Packages Used"
   ]
  },
  {
   "cell_type": "code",
   "execution_count": 3,
   "metadata": {
    "colab": {
     "base_uri": "https://localhost:8080/",
     "height": 191
    },
    "colab_type": "code",
    "id": "cZ_mT6VoqoR9",
    "outputId": "2d056aba-4591-4137-d490-f9e611ca9ea1"
   },
   "outputs": [
    {
     "name": "stderr",
     "output_type": "stream",
     "text": [
      "C:\\Users\\garci\\Anaconda3\\lib\\site-packages\\statsmodels\\tools\\_testing.py:19: FutureWarning: pandas.util.testing is deprecated. Use the functions in the public API at pandas.testing instead.\n",
      "  import pandas.util.testing as tm\n",
      "[nltk_data] Downloading package averaged_perceptron_tagger to\n",
      "[nltk_data]     C:\\Users\\garci\\AppData\\Roaming\\nltk_data...\n",
      "[nltk_data]   Package averaged_perceptron_tagger is already up-to-\n",
      "[nltk_data]       date!\n",
      "[nltk_data] Downloading package punkt to\n",
      "[nltk_data]     C:\\Users\\garci\\AppData\\Roaming\\nltk_data...\n",
      "[nltk_data]   Package punkt is already up-to-date!\n",
      "[nltk_data] Downloading package wordnet to\n",
      "[nltk_data]     C:\\Users\\garci\\AppData\\Roaming\\nltk_data...\n",
      "[nltk_data]   Package wordnet is already up-to-date!\n",
      "[nltk_data] Downloading package stopwords to\n",
      "[nltk_data]     C:\\Users\\garci\\AppData\\Roaming\\nltk_data...\n",
      "[nltk_data]   Package stopwords is already up-to-date!\n"
     ]
    },
    {
     "data": {
      "text/plain": [
       "True"
      ]
     },
     "execution_count": 3,
     "metadata": {},
     "output_type": "execute_result"
    }
   ],
   "source": [
    "# Main libraries used - data wrangling and plotting\n",
    "import pandas as pd; import numpy as np\n",
    "import seaborn as sns; import matplotlib.pyplot as plt; import matplotlib\n",
    "from commonFunctions import missing_values, modifyChartBasic , modifyChartExtra, count_values\n",
    "from IPython.display import display\n",
    "import os\n",
    "# Stats\n",
    "from sklearn.cluster import KMeans\n",
    "import scipy.stats as st\n",
    "from math import log, floor, sqrt, log10\n",
    "\n",
    "#Dates\n",
    "import itertools\n",
    "from dateutil.relativedelta import relativedelta\n",
    "import datetime as dt\n",
    "\n",
    "# Word cloud and treemap\n",
    "import squarify\n",
    "from PIL import Image\n",
    "from wordcloud import WordCloud, STOPWORDS, ImageColorGenerator\n",
    "import io\n",
    "\n",
    "#Word Preprocessing\n",
    "#import fasttext\n",
    "import re\n",
    "import nltk; from nltk.stem import WordNetLemmatizer;from nltk.corpus import stopwords\n",
    "from nltk.tokenize import word_tokenize; from nltk.tag import pos_tag #noun extraction\n",
    "nltk.download('averaged_perceptron_tagger'); nltk.download('punkt')\n",
    "nltk.download('wordnet'); nltk.download('stopwords')"
   ]
  },
  {
   "cell_type": "markdown",
   "metadata": {},
   "source": [
    "<a id='2'></a>"
   ]
  },
  {
   "cell_type": "markdown",
   "metadata": {
    "colab_type": "text",
    "id": "uLEoYDlIqoSO"
   },
   "source": [
    "# 2. General Overview of Data"
   ]
  },
  {
   "cell_type": "markdown",
   "metadata": {
    "colab_type": "text",
    "id": "Iza_ATb_qoSR"
   },
   "source": [
    "Reading in main dataset and only customer ID and country columns:  main aim is to keep only customers located in U.K."
   ]
  },
  {
   "cell_type": "code",
   "execution_count": 4,
   "metadata": {
    "colab": {},
    "colab_type": "code",
    "id": "-6hRO1JaqoST"
   },
   "outputs": [],
   "source": [
    "filepath = os.getcwd()+'\\ecommerce_dataset_us.csv'\n",
    "filepath2 = os.getcwd()+'\\data.csv'\n",
    "df = pd.read_csv(filepath, sep='delimiter', delimiter='\\t',\n",
    "                 parse_dates=['InvoiceDate'])  # main data\n",
    "kaggle = pd.read_csv(filepath2, encoding='unicode_escape', usecols=[\n",
    "                     'CustomerID', 'Country'])  # to keep U.K. customers"
   ]
  },
  {
   "cell_type": "markdown",
   "metadata": {
    "colab_type": "text",
    "id": "MfC9nJN_qoSv"
   },
   "source": [
    "Ensuring that the number of unique customers are the same and that both datasets share the same unique customer IDs."
   ]
  },
  {
   "cell_type": "code",
   "execution_count": 5,
   "metadata": {
    "colab": {
     "base_uri": "https://localhost:8080/",
     "height": 52
    },
    "colab_type": "code",
    "id": "neuBOHeNqoSy",
    "outputId": "8bb35b4d-1cbf-43e8-baad-e5a8327937c3"
   },
   "outputs": [
    {
     "name": "stdout",
     "output_type": "stream",
     "text": [
      "Kaggle unique users: 4372 | Main data unique users 4372\n"
     ]
    },
    {
     "data": {
      "text/plain": [
       "{True}"
      ]
     },
     "execution_count": 5,
     "metadata": {},
     "output_type": "execute_result"
    }
   ],
   "source": [
    "print(\n",
    "    f\"Kaggle unique users: {kaggle['CustomerID'].nunique()} | Main data unique users {df['CustomerID'].nunique()}\")\n",
    "\n",
    "# do both datasets share the same unique customer IDs?\n",
    "set(df['CustomerID'].fillna(0).unique() ==\n",
    "    kaggle['CustomerID'].fillna(0).unique())"
   ]
  },
  {
   "cell_type": "markdown",
   "metadata": {
    "colab_type": "text",
    "id": "jjSSnB0hqoTF"
   },
   "source": [
    "Everything is good here. Before merging, let's check the countries' relative share in the dataframe."
   ]
  },
  {
   "cell_type": "code",
   "execution_count": 6,
   "metadata": {
    "colab": {
     "base_uri": "https://localhost:8080/",
     "height": 405
    },
    "colab_type": "code",
    "id": "reVYbfMYqoTI",
    "outputId": "e776308a-cb90-4d08-86c7-231b1787bbd4"
   },
   "outputs": [
    {
     "data": {
      "text/plain": [
       "Text(0.5, 0, 'Percent (%)')"
      ]
     },
     "execution_count": 6,
     "metadata": {},
     "output_type": "execute_result"
    },
    {
     "data": {
      "image/png": "[encoded data removed]",
      "text/plain": [
       "<Figure size 720x432 with 1 Axes>"
      ]
     },
     "metadata": {
      "needs_background": "light"
     },
     "output_type": "display_data"
    }
   ],
   "source": [
    "kaggle['Country'].value_counts(\n",
    "    normalize=True).sort_values().plot.barh(figsize=(10, 6))\n",
    "plt.xlabel(\"Percent (%)\")"
   ]
  },
  {
   "cell_type": "markdown",
   "metadata": {
    "colab_type": "text",
    "id": "r2mzPCKfqoTW"
   },
   "source": [
    "Roughly 90% of more of customers come from the U.K. Let's filter out all the countries except U.K."
   ]
  },
  {
   "cell_type": "code",
   "execution_count": 7,
   "metadata": {
    "colab": {
     "base_uri": "https://localhost:8080/",
     "height": 202
    },
    "colab_type": "code",
    "id": "WnLqXZQFqoTZ",
    "outputId": "be4f82ef-2d0c-41a4-e45a-940154f590e6"
   },
   "outputs": [
    {
     "data": {
      "text/html": [
       "<div>\n",
       "<style scoped>\n",
       "    .dataframe tbody tr th:only-of-type {\n",
       "        vertical-align: middle;\n",
       "    }\n",
       "\n",
       "    .dataframe tbody tr th {\n",
       "        vertical-align: top;\n",
       "    }\n",
       "\n",
       "    .dataframe thead th {\n",
       "        text-align: right;\n",
       "    }\n",
       "</style>\n",
       "<table border=\"1\" class=\"dataframe\">\n",
       "  <thead>\n",
       "    <tr style=\"text-align: right;\">\n",
       "      <th></th>\n",
       "      <th>orderID</th>\n",
       "      <th>itemID</th>\n",
       "      <th>description</th>\n",
       "      <th>quantity</th>\n",
       "      <th>orderDate</th>\n",
       "      <th>unitPrice</th>\n",
       "      <th>customerID</th>\n",
       "    </tr>\n",
       "  </thead>\n",
       "  <tbody>\n",
       "    <tr>\n",
       "      <th>0</th>\n",
       "      <td>536365</td>\n",
       "      <td>85123A</td>\n",
       "      <td>WHITE HANGING HEART T-LIGHT HOLDER</td>\n",
       "      <td>6</td>\n",
       "      <td>2018-11-29 08:26:00</td>\n",
       "      <td>2.55</td>\n",
       "      <td>17850.0</td>\n",
       "    </tr>\n",
       "    <tr>\n",
       "      <th>1</th>\n",
       "      <td>536365</td>\n",
       "      <td>71053</td>\n",
       "      <td>WHITE METAL LANTERN</td>\n",
       "      <td>6</td>\n",
       "      <td>2018-11-29 08:26:00</td>\n",
       "      <td>3.39</td>\n",
       "      <td>17850.0</td>\n",
       "    </tr>\n",
       "    <tr>\n",
       "      <th>2</th>\n",
       "      <td>536365</td>\n",
       "      <td>84406B</td>\n",
       "      <td>CREAM CUPID HEARTS COAT HANGER</td>\n",
       "      <td>8</td>\n",
       "      <td>2018-11-29 08:26:00</td>\n",
       "      <td>2.75</td>\n",
       "      <td>17850.0</td>\n",
       "    </tr>\n",
       "    <tr>\n",
       "      <th>3</th>\n",
       "      <td>536365</td>\n",
       "      <td>84029G</td>\n",
       "      <td>KNITTED UNION FLAG HOT WATER BOTTLE</td>\n",
       "      <td>6</td>\n",
       "      <td>2018-11-29 08:26:00</td>\n",
       "      <td>3.39</td>\n",
       "      <td>17850.0</td>\n",
       "    </tr>\n",
       "    <tr>\n",
       "      <th>4</th>\n",
       "      <td>536365</td>\n",
       "      <td>84029E</td>\n",
       "      <td>RED WOOLLY HOTTIE WHITE HEART.</td>\n",
       "      <td>6</td>\n",
       "      <td>2018-11-29 08:26:00</td>\n",
       "      <td>3.39</td>\n",
       "      <td>17850.0</td>\n",
       "    </tr>\n",
       "  </tbody>\n",
       "</table>\n",
       "</div>"
      ],
      "text/plain": [
       "  orderID  itemID                          description  quantity  \\\n",
       "0  536365  85123A   WHITE HANGING HEART T-LIGHT HOLDER         6   \n",
       "1  536365   71053                  WHITE METAL LANTERN         6   \n",
       "2  536365  84406B       CREAM CUPID HEARTS COAT HANGER         8   \n",
       "3  536365  84029G  KNITTED UNION FLAG HOT WATER BOTTLE         6   \n",
       "4  536365  84029E       RED WOOLLY HOTTIE WHITE HEART.         6   \n",
       "\n",
       "            orderDate  unitPrice  customerID  \n",
       "0 2018-11-29 08:26:00       2.55     17850.0  \n",
       "1 2018-11-29 08:26:00       3.39     17850.0  \n",
       "2 2018-11-29 08:26:00       2.75     17850.0  \n",
       "3 2018-11-29 08:26:00       3.39     17850.0  \n",
       "4 2018-11-29 08:26:00       3.39     17850.0  "
      ]
     },
     "execution_count": 7,
     "metadata": {},
     "output_type": "execute_result"
    }
   ],
   "source": [
    "customersFromUK = kaggle.query(\"Country=='United Kingdom'\")[\n",
    "    'CustomerID'].unique()\n",
    "df = df.query(\"CustomerID in @customersFromUK\").reset_index(\n",
    "    drop=True)  # customers from U.K. only\n",
    "\n",
    "# rename columns for convenience\n",
    "df.columns = ['orderID', 'itemID', 'description',\n",
    "              'quantity', 'orderDate', 'unitPrice', 'customerID']\n",
    "df.head()"
   ]
  },
  {
   "cell_type": "markdown",
   "metadata": {
    "colab_type": "text",
    "id": "G7NCLY4tqoTu"
   },
   "source": [
    "Another filtering we'll need to do is to ensure that the dates are within one year from each other (will be used for RFM model). "
   ]
  },
  {
   "cell_type": "code",
   "execution_count": 8,
   "metadata": {
    "colab": {
     "base_uri": "https://localhost:8080/",
     "height": 327
    },
    "colab_type": "code",
    "id": "poN4PLtIqoTx",
    "outputId": "378097ba-0500-4294-87d8-b4c1b7c77ffc"
   },
   "outputs": [
    {
     "data": {
      "text/plain": [
       "<matplotlib.axes._subplots.AxesSubplot at 0x239cde2a7c8>"
      ]
     },
     "execution_count": 8,
     "metadata": {},
     "output_type": "execute_result"
    },
    {
     "data": {
      "image/png": "[encoded data removed]",
      "text/plain": [
       "<Figure size 1080x360 with 1 Axes>"
      ]
     },
     "metadata": {
      "needs_background": "light"
     },
     "output_type": "display_data"
    }
   ],
   "source": [
    "df['orderDate'].hist(figsize=(15,5),bins=100)"
   ]
  },
  {
   "cell_type": "markdown",
   "metadata": {
    "colab_type": "text",
    "id": "h64pyN8OqoT8"
   },
   "source": [
    "Here we can see gap between the Jan. 2019 as well as Nov to Dec.2018. For this case, we'll be filtering the dataset by subtracting one year from the maximum date available. "
   ]
  },
  {
   "cell_type": "code",
   "execution_count": 9,
   "metadata": {
    "colab": {
     "base_uri": "https://localhost:8080/",
     "height": 69
    },
    "colab_type": "code",
    "id": "NOH5MQMUqoT_",
    "outputId": "133da55c-b748-4c0c-89f8-69c5cf7f98fb"
   },
   "outputs": [
    {
     "name": "stdout",
     "output_type": "stream",
     "text": [
      "min   2018-11-29 08:26:00\n",
      "max   2019-12-07 12:49:00\n",
      "Name: orderDate, dtype: datetime64[ns]\n"
     ]
    }
   ],
   "source": [
    "oneYearThreshold = df['orderDate'].max() -  relativedelta(years=1)\n",
    "print(df['orderDate'].agg([min, max]))"
   ]
  },
  {
   "cell_type": "markdown",
   "metadata": {
    "colab_type": "text",
    "id": "c22o-K4fqoUN"
   },
   "source": [
    "So in the end, we'll be droppping roughly 8-10 dates from the data. "
   ]
  },
  {
   "cell_type": "code",
   "execution_count": 10,
   "metadata": {
    "colab": {
     "base_uri": "https://localhost:8080/",
     "height": 202
    },
    "colab_type": "code",
    "id": "kr9zpbxwqoUO",
    "outputId": "8eb1873a-a989-4104-b95f-5d1417b47ddc"
   },
   "outputs": [
    {
     "data": {
      "text/html": [
       "<div>\n",
       "<style scoped>\n",
       "    .dataframe tbody tr th:only-of-type {\n",
       "        vertical-align: middle;\n",
       "    }\n",
       "\n",
       "    .dataframe tbody tr th {\n",
       "        vertical-align: top;\n",
       "    }\n",
       "\n",
       "    .dataframe thead th {\n",
       "        text-align: right;\n",
       "    }\n",
       "</style>\n",
       "<table border=\"1\" class=\"dataframe\">\n",
       "  <thead>\n",
       "    <tr style=\"text-align: right;\">\n",
       "      <th></th>\n",
       "      <th>orderID</th>\n",
       "      <th>itemID</th>\n",
       "      <th>description</th>\n",
       "      <th>quantity</th>\n",
       "      <th>orderDate</th>\n",
       "      <th>unitPrice</th>\n",
       "      <th>customerID</th>\n",
       "    </tr>\n",
       "  </thead>\n",
       "  <tbody>\n",
       "    <tr>\n",
       "      <th>0</th>\n",
       "      <td>538014</td>\n",
       "      <td>22969</td>\n",
       "      <td>HOMEMADE JAM SCENTED CANDLES</td>\n",
       "      <td>12</td>\n",
       "      <td>2018-12-07 12:49:00</td>\n",
       "      <td>1.45</td>\n",
       "      <td>14440.0</td>\n",
       "    </tr>\n",
       "    <tr>\n",
       "      <th>1</th>\n",
       "      <td>538014</td>\n",
       "      <td>72802B</td>\n",
       "      <td>OCEAN SCENT CANDLE IN JEWELLED BOX</td>\n",
       "      <td>12</td>\n",
       "      <td>2018-12-07 12:49:00</td>\n",
       "      <td>4.25</td>\n",
       "      <td>14440.0</td>\n",
       "    </tr>\n",
       "    <tr>\n",
       "      <th>2</th>\n",
       "      <td>538014</td>\n",
       "      <td>85066</td>\n",
       "      <td>CREAM SWEETHEART MINI CHEST</td>\n",
       "      <td>12</td>\n",
       "      <td>2018-12-07 12:49:00</td>\n",
       "      <td>12.75</td>\n",
       "      <td>14440.0</td>\n",
       "    </tr>\n",
       "    <tr>\n",
       "      <th>3</th>\n",
       "      <td>538014</td>\n",
       "      <td>82483</td>\n",
       "      <td>WOOD 2 DRAWER CABINET WHITE FINISH</td>\n",
       "      <td>6</td>\n",
       "      <td>2018-12-07 12:49:00</td>\n",
       "      <td>5.95</td>\n",
       "      <td>14440.0</td>\n",
       "    </tr>\n",
       "    <tr>\n",
       "      <th>4</th>\n",
       "      <td>538014</td>\n",
       "      <td>82486</td>\n",
       "      <td>WOOD S/3 CABINET ANT WHITE FINISH</td>\n",
       "      <td>6</td>\n",
       "      <td>2018-12-07 12:49:00</td>\n",
       "      <td>7.95</td>\n",
       "      <td>14440.0</td>\n",
       "    </tr>\n",
       "  </tbody>\n",
       "</table>\n",
       "</div>"
      ],
      "text/plain": [
       "  orderID  itemID                         description  quantity  \\\n",
       "0  538014   22969        HOMEMADE JAM SCENTED CANDLES        12   \n",
       "1  538014  72802B  OCEAN SCENT CANDLE IN JEWELLED BOX        12   \n",
       "2  538014   85066         CREAM SWEETHEART MINI CHEST        12   \n",
       "3  538014   82483  WOOD 2 DRAWER CABINET WHITE FINISH         6   \n",
       "4  538014   82486   WOOD S/3 CABINET ANT WHITE FINISH         6   \n",
       "\n",
       "            orderDate  unitPrice  customerID  \n",
       "0 2018-12-07 12:49:00       1.45     14440.0  \n",
       "1 2018-12-07 12:49:00       4.25     14440.0  \n",
       "2 2018-12-07 12:49:00      12.75     14440.0  \n",
       "3 2018-12-07 12:49:00       5.95     14440.0  \n",
       "4 2018-12-07 12:49:00       7.95     14440.0  "
      ]
     },
     "execution_count": 10,
     "metadata": {},
     "output_type": "execute_result"
    }
   ],
   "source": [
    "df= df[df['orderDate'] >= oneYearThreshold].reset_index(drop=True)\n",
    "df.head()"
   ]
  },
  {
   "cell_type": "code",
   "execution_count": 11,
   "metadata": {
    "colab": {
     "base_uri": "https://localhost:8080/",
     "height": 260
    },
    "colab_type": "code",
    "id": "9I3aDJ9zqoUV",
    "outputId": "61b28726-8072-4416-e1bb-94e0a3b2612d"
   },
   "outputs": [
    {
     "name": "stdout",
     "output_type": "stream",
     "text": [
      "<class 'pandas.core.frame.DataFrame'>\n",
      "RangeIndex: 477839 entries, 0 to 477838\n",
      "Data columns (total 7 columns):\n",
      " #   Column       Non-Null Count   Dtype         \n",
      "---  ------       --------------   -----         \n",
      " 0   orderID      477839 non-null  object        \n",
      " 1   itemID       477839 non-null  object        \n",
      " 2   description  476457 non-null  object        \n",
      " 3   quantity     477839 non-null  int64         \n",
      " 4   orderDate    477839 non-null  datetime64[ns]\n",
      " 5   unitPrice    477839 non-null  float64       \n",
      " 6   customerID   349413 non-null  float64       \n",
      "dtypes: datetime64[ns](1), float64(2), int64(1), object(3)\n",
      "memory usage: 25.5+ MB\n"
     ]
    }
   ],
   "source": [
    "df.info()"
   ]
  },
  {
   "cell_type": "markdown",
   "metadata": {
    "colab_type": "text",
    "id": "gM5zzpb1qoUa"
   },
   "source": [
    "Some missing values in the description and customer ID columns.\n",
    "OrderID and itemID as objects which should be numerical. We'll keep this in mind."
   ]
  },
  {
   "cell_type": "code",
   "execution_count": 12,
   "metadata": {
    "colab": {
     "base_uri": "https://localhost:8080/",
     "height": 294
    },
    "colab_type": "code",
    "id": "3V_jbDjpqoUd",
    "outputId": "7ae9a82b-5081-45ac-fd70-fb58cdc34904"
   },
   "outputs": [
    {
     "data": {
      "text/html": [
       "<div>\n",
       "<style scoped>\n",
       "    .dataframe tbody tr th:only-of-type {\n",
       "        vertical-align: middle;\n",
       "    }\n",
       "\n",
       "    .dataframe tbody tr th {\n",
       "        vertical-align: top;\n",
       "    }\n",
       "\n",
       "    .dataframe thead th {\n",
       "        text-align: right;\n",
       "    }\n",
       "</style>\n",
       "<table border=\"1\" class=\"dataframe\">\n",
       "  <thead>\n",
       "    <tr style=\"text-align: right;\">\n",
       "      <th></th>\n",
       "      <th>quantity</th>\n",
       "      <th>unitPrice</th>\n",
       "      <th>customerID</th>\n",
       "    </tr>\n",
       "  </thead>\n",
       "  <tbody>\n",
       "    <tr>\n",
       "      <th>count</th>\n",
       "      <td>477839.00000</td>\n",
       "      <td>477839.000000</td>\n",
       "      <td>349413.000000</td>\n",
       "    </tr>\n",
       "    <tr>\n",
       "      <th>mean</th>\n",
       "      <td>8.66135</td>\n",
       "      <td>4.435794</td>\n",
       "      <td>15539.360940</td>\n",
       "    </tr>\n",
       "    <tr>\n",
       "      <th>std</th>\n",
       "      <td>231.22014</td>\n",
       "      <td>92.744878</td>\n",
       "      <td>1591.376289</td>\n",
       "    </tr>\n",
       "    <tr>\n",
       "      <th>min</th>\n",
       "      <td>-80995.00000</td>\n",
       "      <td>-11062.060000</td>\n",
       "      <td>12346.000000</td>\n",
       "    </tr>\n",
       "    <tr>\n",
       "      <th>25%</th>\n",
       "      <td>1.00000</td>\n",
       "      <td>1.250000</td>\n",
       "      <td>14189.000000</td>\n",
       "    </tr>\n",
       "    <tr>\n",
       "      <th>50%</th>\n",
       "      <td>3.00000</td>\n",
       "      <td>2.080000</td>\n",
       "      <td>15505.000000</td>\n",
       "    </tr>\n",
       "    <tr>\n",
       "      <th>75%</th>\n",
       "      <td>10.00000</td>\n",
       "      <td>4.130000</td>\n",
       "      <td>16923.000000</td>\n",
       "    </tr>\n",
       "    <tr>\n",
       "      <th>max</th>\n",
       "      <td>80995.00000</td>\n",
       "      <td>38970.000000</td>\n",
       "      <td>18287.000000</td>\n",
       "    </tr>\n",
       "  </tbody>\n",
       "</table>\n",
       "</div>"
      ],
      "text/plain": [
       "           quantity      unitPrice     customerID\n",
       "count  477839.00000  477839.000000  349413.000000\n",
       "mean        8.66135       4.435794   15539.360940\n",
       "std       231.22014      92.744878    1591.376289\n",
       "min    -80995.00000  -11062.060000   12346.000000\n",
       "25%         1.00000       1.250000   14189.000000\n",
       "50%         3.00000       2.080000   15505.000000\n",
       "75%        10.00000       4.130000   16923.000000\n",
       "max     80995.00000   38970.000000   18287.000000"
      ]
     },
     "execution_count": 12,
     "metadata": {},
     "output_type": "execute_result"
    }
   ],
   "source": [
    "df.describe()"
   ]
  },
  {
   "cell_type": "markdown",
   "metadata": {},
   "source": [
    "When looking at the statistical description of the dataframe we can observe some anomalies in the data for the quantity an unit price columns."
   ]
  },
  {
   "cell_type": "markdown",
   "metadata": {},
   "source": [
    "Checking for quantity column."
   ]
  },
  {
   "cell_type": "code",
   "execution_count": 13,
   "metadata": {
    "colab": {},
    "colab_type": "code",
    "id": "jzlPlEJDqoUk"
   },
   "outputs": [
    {
     "data": {
      "text/html": [
       "<div>\n",
       "<style scoped>\n",
       "    .dataframe tbody tr th:only-of-type {\n",
       "        vertical-align: middle;\n",
       "    }\n",
       "\n",
       "    .dataframe tbody tr th {\n",
       "        vertical-align: top;\n",
       "    }\n",
       "\n",
       "    .dataframe thead th {\n",
       "        text-align: right;\n",
       "    }\n",
       "</style>\n",
       "<table border=\"1\" class=\"dataframe\">\n",
       "  <thead>\n",
       "    <tr style=\"text-align: right;\">\n",
       "      <th></th>\n",
       "      <th>orderID</th>\n",
       "      <th>itemID</th>\n",
       "      <th>description</th>\n",
       "      <th>quantity</th>\n",
       "      <th>orderDate</th>\n",
       "      <th>unitPrice</th>\n",
       "      <th>customerID</th>\n",
       "    </tr>\n",
       "  </thead>\n",
       "  <tbody>\n",
       "    <tr>\n",
       "      <th>476466</th>\n",
       "      <td>581483</td>\n",
       "      <td>23843</td>\n",
       "      <td>PAPER CRAFT , LITTLE BIRDIE</td>\n",
       "      <td>80995</td>\n",
       "      <td>2019-12-07 09:15:00</td>\n",
       "      <td>2.08</td>\n",
       "      <td>16446.0</td>\n",
       "    </tr>\n",
       "    <tr>\n",
       "      <th>476467</th>\n",
       "      <td>C581484</td>\n",
       "      <td>23843</td>\n",
       "      <td>PAPER CRAFT , LITTLE BIRDIE</td>\n",
       "      <td>-80995</td>\n",
       "      <td>2019-12-07 09:27:00</td>\n",
       "      <td>2.08</td>\n",
       "      <td>16446.0</td>\n",
       "    </tr>\n",
       "  </tbody>\n",
       "</table>\n",
       "</div>"
      ],
      "text/plain": [
       "        orderID itemID                  description  quantity  \\\n",
       "476466   581483  23843  PAPER CRAFT , LITTLE BIRDIE     80995   \n",
       "476467  C581484  23843  PAPER CRAFT , LITTLE BIRDIE    -80995   \n",
       "\n",
       "                 orderDate  unitPrice  customerID  \n",
       "476466 2019-12-07 09:15:00       2.08     16446.0  \n",
       "476467 2019-12-07 09:27:00       2.08     16446.0  "
      ]
     },
     "execution_count": 13,
     "metadata": {},
     "output_type": "execute_result"
    }
   ],
   "source": [
    "qmin, qmax = df['quantity'].agg([min, max])\n",
    "\n",
    "df.query('quantity in [@qmin, @qmax]')"
   ]
  },
  {
   "cell_type": "markdown",
   "metadata": {
    "colab_type": "text",
    "id": "5g4vtoXlqoU7"
   },
   "source": [
    "Interestingly enough, we can observe that there are negative values recorded in the dataset with the columns having outliers are indicated by the quantity and unit price's maximum value and 75% quantile. It seems likely that the negative values are from canceled orders. Before looking, let's check for any other instances of erroneous data (ie. duplicates)."
   ]
  },
  {
   "cell_type": "markdown",
   "metadata": {},
   "source": [
    "Checking for duplicated data."
   ]
  },
  {
   "cell_type": "code",
   "execution_count": 14,
   "metadata": {
    "colab": {
     "base_uri": "https://localhost:8080/",
     "height": 589
    },
    "colab_type": "code",
    "id": "NMoVfO8GqoVQ",
    "outputId": "4fa67507-bdd2-4571-a23c-bf6d7ef37a9c"
   },
   "outputs": [
    {
     "data": {
      "text/html": [
       "<div>\n",
       "<style scoped>\n",
       "    .dataframe tbody tr th:only-of-type {\n",
       "        vertical-align: middle;\n",
       "    }\n",
       "\n",
       "    .dataframe tbody tr th {\n",
       "        vertical-align: top;\n",
       "    }\n",
       "\n",
       "    .dataframe thead th {\n",
       "        text-align: right;\n",
       "    }\n",
       "</style>\n",
       "<table border=\"1\" class=\"dataframe\">\n",
       "  <thead>\n",
       "    <tr style=\"text-align: right;\">\n",
       "      <th></th>\n",
       "      <th>orderID</th>\n",
       "      <th>itemID</th>\n",
       "      <th>description</th>\n",
       "      <th>quantity</th>\n",
       "      <th>orderDate</th>\n",
       "      <th>unitPrice</th>\n",
       "      <th>customerID</th>\n",
       "    </tr>\n",
       "  </thead>\n",
       "  <tbody>\n",
       "    <tr>\n",
       "      <th>114</th>\n",
       "      <td>538035</td>\n",
       "      <td>20728</td>\n",
       "      <td>LUNCH BAG CARS BLUE</td>\n",
       "      <td>3</td>\n",
       "      <td>2018-12-07 13:03:00</td>\n",
       "      <td>1.65</td>\n",
       "      <td>16065.0</td>\n",
       "    </tr>\n",
       "    <tr>\n",
       "      <th>212</th>\n",
       "      <td>538051</td>\n",
       "      <td>22659</td>\n",
       "      <td>LUNCH BOX I LOVE LONDON</td>\n",
       "      <td>2</td>\n",
       "      <td>2018-12-07 13:24:00</td>\n",
       "      <td>1.95</td>\n",
       "      <td>18041.0</td>\n",
       "    </tr>\n",
       "    <tr>\n",
       "      <th>1948</th>\n",
       "      <td>538155</td>\n",
       "      <td>21907</td>\n",
       "      <td>I'M ON HOLIDAY METAL SIGN</td>\n",
       "      <td>1</td>\n",
       "      <td>2018-12-07 16:52:00</td>\n",
       "      <td>2.10</td>\n",
       "      <td>16907.0</td>\n",
       "    </tr>\n",
       "    <tr>\n",
       "      <th>2071</th>\n",
       "      <td>538166</td>\n",
       "      <td>21915</td>\n",
       "      <td>RED  HARMONICA IN BOX</td>\n",
       "      <td>5</td>\n",
       "      <td>2018-12-07 18:09:00</td>\n",
       "      <td>1.25</td>\n",
       "      <td>17965.0</td>\n",
       "    </tr>\n",
       "    <tr>\n",
       "      <th>2118</th>\n",
       "      <td>538168</td>\n",
       "      <td>22739</td>\n",
       "      <td>RIBBON REEL CHRISTMAS SOCK BAUBLE</td>\n",
       "      <td>5</td>\n",
       "      <td>2018-12-07 19:23:00</td>\n",
       "      <td>1.65</td>\n",
       "      <td>14702.0</td>\n",
       "    </tr>\n",
       "    <tr>\n",
       "      <th>...</th>\n",
       "      <td>...</td>\n",
       "      <td>...</td>\n",
       "      <td>...</td>\n",
       "      <td>...</td>\n",
       "      <td>...</td>\n",
       "      <td>...</td>\n",
       "      <td>...</td>\n",
       "    </tr>\n",
       "    <tr>\n",
       "      <th>477684</th>\n",
       "      <td>581538</td>\n",
       "      <td>22068</td>\n",
       "      <td>BLACK PIRATE TREASURE CHEST</td>\n",
       "      <td>1</td>\n",
       "      <td>2019-12-07 11:34:00</td>\n",
       "      <td>0.39</td>\n",
       "      <td>14446.0</td>\n",
       "    </tr>\n",
       "    <tr>\n",
       "      <th>477698</th>\n",
       "      <td>581538</td>\n",
       "      <td>23318</td>\n",
       "      <td>BOX OF 6 MINI VINTAGE CRACKERS</td>\n",
       "      <td>1</td>\n",
       "      <td>2019-12-07 11:34:00</td>\n",
       "      <td>2.49</td>\n",
       "      <td>14446.0</td>\n",
       "    </tr>\n",
       "    <tr>\n",
       "      <th>477701</th>\n",
       "      <td>581538</td>\n",
       "      <td>22992</td>\n",
       "      <td>REVOLVER WOODEN RULER</td>\n",
       "      <td>1</td>\n",
       "      <td>2019-12-07 11:34:00</td>\n",
       "      <td>1.95</td>\n",
       "      <td>14446.0</td>\n",
       "    </tr>\n",
       "    <tr>\n",
       "      <th>477708</th>\n",
       "      <td>581538</td>\n",
       "      <td>22694</td>\n",
       "      <td>WICKER STAR</td>\n",
       "      <td>1</td>\n",
       "      <td>2019-12-07 11:34:00</td>\n",
       "      <td>2.10</td>\n",
       "      <td>14446.0</td>\n",
       "    </tr>\n",
       "    <tr>\n",
       "      <th>477710</th>\n",
       "      <td>581538</td>\n",
       "      <td>23343</td>\n",
       "      <td>JUMBO BAG VINTAGE CHRISTMAS</td>\n",
       "      <td>1</td>\n",
       "      <td>2019-12-07 11:34:00</td>\n",
       "      <td>2.08</td>\n",
       "      <td>14446.0</td>\n",
       "    </tr>\n",
       "  </tbody>\n",
       "</table>\n",
       "<p>4877 rows × 7 columns</p>\n",
       "</div>"
      ],
      "text/plain": [
       "       orderID itemID                        description  quantity  \\\n",
       "114     538035  20728                LUNCH BAG CARS BLUE         3   \n",
       "212     538051  22659            LUNCH BOX I LOVE LONDON         2   \n",
       "1948    538155  21907          I'M ON HOLIDAY METAL SIGN         1   \n",
       "2071    538166  21915             RED  HARMONICA IN BOX          5   \n",
       "2118    538168  22739  RIBBON REEL CHRISTMAS SOCK BAUBLE         5   \n",
       "...        ...    ...                                ...       ...   \n",
       "477684  581538  22068        BLACK PIRATE TREASURE CHEST         1   \n",
       "477698  581538  23318     BOX OF 6 MINI VINTAGE CRACKERS         1   \n",
       "477701  581538  22992             REVOLVER WOODEN RULER          1   \n",
       "477708  581538  22694                       WICKER STAR          1   \n",
       "477710  581538  23343       JUMBO BAG VINTAGE CHRISTMAS          1   \n",
       "\n",
       "                 orderDate  unitPrice  customerID  \n",
       "114    2018-12-07 13:03:00       1.65     16065.0  \n",
       "212    2018-12-07 13:24:00       1.95     18041.0  \n",
       "1948   2018-12-07 16:52:00       2.10     16907.0  \n",
       "2071   2018-12-07 18:09:00       1.25     17965.0  \n",
       "2118   2018-12-07 19:23:00       1.65     14702.0  \n",
       "...                    ...        ...         ...  \n",
       "477684 2019-12-07 11:34:00       0.39     14446.0  \n",
       "477698 2019-12-07 11:34:00       2.49     14446.0  \n",
       "477701 2019-12-07 11:34:00       1.95     14446.0  \n",
       "477708 2019-12-07 11:34:00       2.10     14446.0  \n",
       "477710 2019-12-07 11:34:00       2.08     14446.0  \n",
       "\n",
       "[4877 rows x 7 columns]"
      ]
     },
     "execution_count": 14,
     "metadata": {},
     "output_type": "execute_result"
    }
   ],
   "source": [
    "df[df.duplicated()]"
   ]
  },
  {
   "cell_type": "markdown",
   "metadata": {},
   "source": [
    "Around 4.8k of rows in the dataset were identified as having a duplicate. We'll drop these values to avoid distorting the results."
   ]
  },
  {
   "cell_type": "code",
   "execution_count": 15,
   "metadata": {
    "colab": {
     "base_uri": "https://localhost:8080/",
     "height": 35
    },
    "colab_type": "code",
    "id": "uxmx8KokqoVZ",
    "outputId": "8ed5338c-b948-4ed7-9efc-df6e66c8ef82"
   },
   "outputs": [
    {
     "data": {
      "text/plain": [
       "1.0206366579538295"
      ]
     },
     "execution_count": 15,
     "metadata": {},
     "output_type": "execute_result"
    }
   ],
   "source": [
    "df.duplicated().sum() /len(df)*100"
   ]
  },
  {
   "cell_type": "markdown",
   "metadata": {
    "colab_type": "text",
    "id": "ECZVXp-BqoVk"
   },
   "source": [
    "1% of rows identified as duplicates will be dropped."
   ]
  },
  {
   "cell_type": "code",
   "execution_count": 16,
   "metadata": {
    "colab": {},
    "colab_type": "code",
    "id": "nxVSQljcqoVm"
   },
   "outputs": [],
   "source": [
    "df = df.drop_duplicates().reset_index(drop=True)"
   ]
  },
  {
   "cell_type": "markdown",
   "metadata": {},
   "source": [
    "Checking for missing values"
   ]
  },
  {
   "cell_type": "code",
   "execution_count": 17,
   "metadata": {
    "colab": {
     "base_uri": "https://localhost:8080/",
     "height": 208
    },
    "colab_type": "code",
    "id": "x8E59nqdqoVx",
    "outputId": "cf67744d-64fc-45a0-d5b7-8cc6c776e67a"
   },
   "outputs": [
    {
     "name": "stdout",
     "output_type": "stream",
     "text": [
      "orderID\n",
      "itemID\n",
      "description\n",
      "quantity\n",
      "orderDate\n",
      "unitPrice\n",
      "customerID\n"
     ]
    },
    {
     "name": "stderr",
     "output_type": "stream",
     "text": [
      "C:\\Users\\garci\\Anaconda3\\lib\\site-packages\\pandas\\core\\ops\\array_ops.py:253: FutureWarning: elementwise comparison failed; returning scalar instead, but in the future will perform elementwise comparison\n",
      "  res_values = method(rvalues)\n"
     ]
    },
    {
     "data": {
      "text/plain": [
       "[('customerID', 'Null values in customerID: 27.14'),\n",
       " ('quantity', 'Negative values in quantity: 1.89'),\n",
       " ('description', 'Null values in description: 0.29'),\n",
       " ('unitPrice', 'Negative values in unitPrice: 0.0')]"
      ]
     },
     "execution_count": 17,
     "metadata": {},
     "output_type": "execute_result"
    }
   ],
   "source": [
    "missing_values(df)"
   ]
  },
  {
   "cell_type": "markdown",
   "metadata": {
    "colab_type": "text",
    "id": "rG1idupyqoV3"
   },
   "source": [
    "Description and customer ID contain the same amount of missing values. Maybe this may have been from the canceled transactions?\n",
    "Here we can see that quantity purchased has a small % of it's values as negative with very few of unit price being in the negative range. My best bet is that quantity is from canceled items while unit price negative value may have come from a discount or possibly technical issue."
   ]
  },
  {
   "cell_type": "markdown",
   "metadata": {},
   "source": [
    "<a id='3'></a>"
   ]
  },
  {
   "cell_type": "markdown",
   "metadata": {
    "colab_type": "text",
    "id": "VRe8UU-bqoU-"
   },
   "source": [
    "# 3. Preprocessing"
   ]
  },
  {
   "cell_type": "markdown",
   "metadata": {},
   "source": [
    "For this dataset, here's the approach for dealing with missing values: \n",
    "1. Drop customer ids where null \n",
    "1. Explore quantity and customer ID and see if we can find any pattern.\n",
    "3. Drop unit price; given it's very low % of missing values we can safely drop"
   ]
  },
  {
   "cell_type": "code",
   "execution_count": 18,
   "metadata": {
    "colab": {
     "base_uri": "https://localhost:8080/",
     "height": 156
    },
    "colab_type": "code",
    "id": "9zfMb4CjqoV4",
    "outputId": "abdd685e-e4d7-4388-fe9e-ef3839dbddcb"
   },
   "outputs": [
    {
     "name": "stdout",
     "output_type": "stream",
     "text": [
      "orderID\n",
      "itemID\n",
      "description\n",
      "quantity\n",
      "orderDate\n",
      "unitPrice\n",
      "customerID\n",
      "[('quantity', 'Negative values in quantity: 1.27'), ('unitPrice', 'Negative values in unitPrice: 0.0')]\n"
     ]
    }
   ],
   "source": [
    "customerNulls = df.fillna('Null here').query(\"customerID == 'Null here'\")\n",
    "print(missing_values(customerNulls))"
   ]
  },
  {
   "cell_type": "markdown",
   "metadata": {
    "colab_type": "text",
    "id": "4oM4M5kCqoWA"
   },
   "source": [
    "Here we can see that (1) description and customer nulls are in the same row since no description nulls were printed out and (2) most negative quantity values are in the null customer ID rows but not all of them to conclude that -> null customer ID == customers who canceled orders. Let's drop the null values given their large % of missing values.  \n"
   ]
  },
  {
   "cell_type": "code",
   "execution_count": 19,
   "metadata": {
    "colab": {
     "base_uri": "https://localhost:8080/",
     "height": 202
    },
    "colab_type": "code",
    "id": "rUnXV7bXqoWD",
    "outputId": "8abc0973-e5b2-4545-8c6c-f0eff87f9ff1"
   },
   "outputs": [
    {
     "data": {
      "text/html": [
       "<div>\n",
       "<style scoped>\n",
       "    .dataframe tbody tr th:only-of-type {\n",
       "        vertical-align: middle;\n",
       "    }\n",
       "\n",
       "    .dataframe tbody tr th {\n",
       "        vertical-align: top;\n",
       "    }\n",
       "\n",
       "    .dataframe thead th {\n",
       "        text-align: right;\n",
       "    }\n",
       "</style>\n",
       "<table border=\"1\" class=\"dataframe\">\n",
       "  <thead>\n",
       "    <tr style=\"text-align: right;\">\n",
       "      <th></th>\n",
       "      <th>orderID</th>\n",
       "      <th>itemID</th>\n",
       "      <th>description</th>\n",
       "      <th>quantity</th>\n",
       "      <th>orderDate</th>\n",
       "      <th>unitPrice</th>\n",
       "      <th>customerID</th>\n",
       "    </tr>\n",
       "  </thead>\n",
       "  <tbody>\n",
       "    <tr>\n",
       "      <th>0</th>\n",
       "      <td>538014</td>\n",
       "      <td>22969</td>\n",
       "      <td>HOMEMADE JAM SCENTED CANDLES</td>\n",
       "      <td>12</td>\n",
       "      <td>2018-12-07 12:49:00</td>\n",
       "      <td>1.45</td>\n",
       "      <td>14440.0</td>\n",
       "    </tr>\n",
       "    <tr>\n",
       "      <th>1</th>\n",
       "      <td>538014</td>\n",
       "      <td>72802B</td>\n",
       "      <td>OCEAN SCENT CANDLE IN JEWELLED BOX</td>\n",
       "      <td>12</td>\n",
       "      <td>2018-12-07 12:49:00</td>\n",
       "      <td>4.25</td>\n",
       "      <td>14440.0</td>\n",
       "    </tr>\n",
       "    <tr>\n",
       "      <th>2</th>\n",
       "      <td>538014</td>\n",
       "      <td>85066</td>\n",
       "      <td>CREAM SWEETHEART MINI CHEST</td>\n",
       "      <td>12</td>\n",
       "      <td>2018-12-07 12:49:00</td>\n",
       "      <td>12.75</td>\n",
       "      <td>14440.0</td>\n",
       "    </tr>\n",
       "    <tr>\n",
       "      <th>3</th>\n",
       "      <td>538014</td>\n",
       "      <td>82483</td>\n",
       "      <td>WOOD 2 DRAWER CABINET WHITE FINISH</td>\n",
       "      <td>6</td>\n",
       "      <td>2018-12-07 12:49:00</td>\n",
       "      <td>5.95</td>\n",
       "      <td>14440.0</td>\n",
       "    </tr>\n",
       "    <tr>\n",
       "      <th>4</th>\n",
       "      <td>538014</td>\n",
       "      <td>82486</td>\n",
       "      <td>WOOD S/3 CABINET ANT WHITE FINISH</td>\n",
       "      <td>6</td>\n",
       "      <td>2018-12-07 12:49:00</td>\n",
       "      <td>7.95</td>\n",
       "      <td>14440.0</td>\n",
       "    </tr>\n",
       "  </tbody>\n",
       "</table>\n",
       "</div>"
      ],
      "text/plain": [
       "  orderID  itemID                         description  quantity  \\\n",
       "0  538014   22969        HOMEMADE JAM SCENTED CANDLES        12   \n",
       "1  538014  72802B  OCEAN SCENT CANDLE IN JEWELLED BOX        12   \n",
       "2  538014   85066         CREAM SWEETHEART MINI CHEST        12   \n",
       "3  538014   82483  WOOD 2 DRAWER CABINET WHITE FINISH         6   \n",
       "4  538014   82486   WOOD S/3 CABINET ANT WHITE FINISH         6   \n",
       "\n",
       "            orderDate  unitPrice  customerID  \n",
       "0 2018-12-07 12:49:00       1.45     14440.0  \n",
       "1 2018-12-07 12:49:00       4.25     14440.0  \n",
       "2 2018-12-07 12:49:00      12.75     14440.0  \n",
       "3 2018-12-07 12:49:00       5.95     14440.0  \n",
       "4 2018-12-07 12:49:00       7.95     14440.0  "
      ]
     },
     "execution_count": 19,
     "metadata": {},
     "output_type": "execute_result"
    }
   ],
   "source": [
    "df =df.dropna().reset_index(drop=True)\n",
    "df.head()"
   ]
  },
  {
   "cell_type": "markdown",
   "metadata": {
    "colab_type": "text",
    "id": "Edc9QfQvqoWL"
   },
   "source": [
    "Let's do a check and see if negative values in quantity match a positive quantity. If so, we may need to make some adjustments to the data to take that into account.\n",
    "-unit price not much of a deal and we'll drop."
   ]
  },
  {
   "cell_type": "code",
   "execution_count": 20,
   "metadata": {
    "colab": {},
    "colab_type": "code",
    "id": "LloOOlnmqoWM"
   },
   "outputs": [],
   "source": [
    "df = df.query(\"unitPrice >0\")"
   ]
  },
  {
   "cell_type": "markdown",
   "metadata": {
    "colab_type": "text",
    "id": "NOHQtbj9qoWR"
   },
   "source": [
    "Investigating negative quantity values (defined as canceled)."
   ]
  },
  {
   "cell_type": "code",
   "execution_count": 21,
   "metadata": {
    "colab": {},
    "colab_type": "code",
    "id": "ZQYZkZSdqoWS"
   },
   "outputs": [],
   "source": [
    "canceledOrders = df.query(\"quantity <0\")"
   ]
  },
  {
   "cell_type": "markdown",
   "metadata": {
    "colab_type": "text",
    "id": "6SE7oNbNqoWb"
   },
   "source": [
    "Checking for unique letters in the order column. Are negative quantity values all canceled (**labeled as c**) orders?"
   ]
  },
  {
   "cell_type": "code",
   "execution_count": 22,
   "metadata": {
    "colab": {
     "base_uri": "https://localhost:8080/",
     "height": 52
    },
    "colab_type": "code",
    "id": "fayG7UJMqoWc",
    "outputId": "6eb278f9-5593-422f-a38a-4c97bfbfdfb1"
   },
   "outputs": [
    {
     "data": {
      "text/plain": [
       "C    7294\n",
       "Name: orderID, dtype: int64"
      ]
     },
     "execution_count": 22,
     "metadata": {},
     "output_type": "execute_result"
    }
   ],
   "source": [
    "canceledOrders['orderID'].apply(lambda x: x[0]).value_counts()"
   ]
  },
  {
   "cell_type": "markdown",
   "metadata": {
    "colab_type": "text",
    "id": "Ha_rrYyGqoWm"
   },
   "source": [
    "So as hypothesized,considering that the column contains all negative quantity values, 'C' is a reference to canceled orders. We'll first try to test whether we can drop both the the negative an positive canceled quantity as it'll make our data more reliable. \n",
    "\n",
    "The approach:\n",
    "1. Create a variable containing positive quantity values and reset index as it'll be used to filter out canceled quantity match (+ and -)\n",
    "2. Reset index for canceled orders as well. Get the absolute value of quantity as it'll be one of the columns used to merge the dataframes on.\n",
    "3. Save columns that will be used to merge dataframes (canceled and non-canceled orders DFs) on. Use inner join to merge the dataframes."
   ]
  },
  {
   "cell_type": "code",
   "execution_count": 23,
   "metadata": {
    "colab": {},
    "colab_type": "code",
    "id": "C-M44KDlqoWo"
   },
   "outputs": [],
   "source": [
    "notNegative = df[df['quantity']>0].reset_index()\n",
    "canceledOrders  = canceledOrders.reset_index()\n",
    "canceledOrders['quantity'] = abs(canceledOrders['quantity'])\n",
    "columnsToCheck = ['customerID','unitPrice','quantity','description']"
   ]
  },
  {
   "cell_type": "code",
   "execution_count": 24,
   "metadata": {
    "colab": {
     "base_uri": "https://localhost:8080/",
     "height": 903
    },
    "colab_type": "code",
    "id": "0CPjhAGVqoW1",
    "outputId": "6f913aba-a2ec-4bc2-ac6c-c49c36ba5e06"
   },
   "outputs": [
    {
     "data": {
      "text/html": [
       "<div>\n",
       "<style scoped>\n",
       "    .dataframe tbody tr th:only-of-type {\n",
       "        vertical-align: middle;\n",
       "    }\n",
       "\n",
       "    .dataframe tbody tr th {\n",
       "        vertical-align: top;\n",
       "    }\n",
       "\n",
       "    .dataframe thead th {\n",
       "        text-align: right;\n",
       "    }\n",
       "</style>\n",
       "<table border=\"1\" class=\"dataframe\">\n",
       "  <thead>\n",
       "    <tr style=\"text-align: right;\">\n",
       "      <th></th>\n",
       "      <th>index_x</th>\n",
       "      <th>orderID_x</th>\n",
       "      <th>itemID_x</th>\n",
       "      <th>description</th>\n",
       "      <th>quantity</th>\n",
       "      <th>orderDate_x</th>\n",
       "      <th>unitPrice</th>\n",
       "      <th>customerID</th>\n",
       "      <th>index_y</th>\n",
       "      <th>orderID_y</th>\n",
       "      <th>itemID_y</th>\n",
       "      <th>orderDate_y</th>\n",
       "    </tr>\n",
       "  </thead>\n",
       "  <tbody>\n",
       "    <tr>\n",
       "      <th>605</th>\n",
       "      <td>21500</td>\n",
       "      <td>541431</td>\n",
       "      <td>23166</td>\n",
       "      <td>MEDIUM CERAMIC TOP STORAGE JAR</td>\n",
       "      <td>74215</td>\n",
       "      <td>2019-01-16 10:01:00</td>\n",
       "      <td>1.04</td>\n",
       "      <td>12346.0</td>\n",
       "      <td>21505</td>\n",
       "      <td>C541433</td>\n",
       "      <td>23166</td>\n",
       "      <td>2019-01-16 10:17:00</td>\n",
       "    </tr>\n",
       "    <tr>\n",
       "      <th>1497</th>\n",
       "      <td>131581</td>\n",
       "      <td>556910</td>\n",
       "      <td>22991</td>\n",
       "      <td>GIRAFFE WOODEN RULER</td>\n",
       "      <td>6</td>\n",
       "      <td>2019-06-13 13:25:00</td>\n",
       "      <td>1.95</td>\n",
       "      <td>12748.0</td>\n",
       "      <td>61208</td>\n",
       "      <td>C546997</td>\n",
       "      <td>22991</td>\n",
       "      <td>2019-03-16 13:32:00</td>\n",
       "    </tr>\n",
       "    <tr>\n",
       "      <th>1486</th>\n",
       "      <td>61085</td>\n",
       "      <td>546991</td>\n",
       "      <td>22403</td>\n",
       "      <td>MAGNETS PACK OF 4 VINTAGE LABELS</td>\n",
       "      <td>6</td>\n",
       "      <td>2019-03-16 13:08:00</td>\n",
       "      <td>1.25</td>\n",
       "      <td>12748.0</td>\n",
       "      <td>61217</td>\n",
       "      <td>C546997</td>\n",
       "      <td>22403</td>\n",
       "      <td>2019-03-16 13:32:00</td>\n",
       "    </tr>\n",
       "    <tr>\n",
       "      <th>1484</th>\n",
       "      <td>61084</td>\n",
       "      <td>546991</td>\n",
       "      <td>22923</td>\n",
       "      <td>FRIDGE MAGNETS LES ENFANTS ASSORTED</td>\n",
       "      <td>6</td>\n",
       "      <td>2019-03-16 13:08:00</td>\n",
       "      <td>0.85</td>\n",
       "      <td>12748.0</td>\n",
       "      <td>61212</td>\n",
       "      <td>C546997</td>\n",
       "      <td>22923</td>\n",
       "      <td>2019-03-16 13:32:00</td>\n",
       "    </tr>\n",
       "    <tr>\n",
       "      <th>1485</th>\n",
       "      <td>98321</td>\n",
       "      <td>552242</td>\n",
       "      <td>22923</td>\n",
       "      <td>FRIDGE MAGNETS LES ENFANTS ASSORTED</td>\n",
       "      <td>6</td>\n",
       "      <td>2019-05-04 19:22:00</td>\n",
       "      <td>0.85</td>\n",
       "      <td>12748.0</td>\n",
       "      <td>61212</td>\n",
       "      <td>C546997</td>\n",
       "      <td>22923</td>\n",
       "      <td>2019-03-16 13:32:00</td>\n",
       "    </tr>\n",
       "    <tr>\n",
       "      <th>...</th>\n",
       "      <td>...</td>\n",
       "      <td>...</td>\n",
       "      <td>...</td>\n",
       "      <td>...</td>\n",
       "      <td>...</td>\n",
       "      <td>...</td>\n",
       "      <td>...</td>\n",
       "      <td>...</td>\n",
       "      <td>...</td>\n",
       "      <td>...</td>\n",
       "      <td>...</td>\n",
       "      <td>...</td>\n",
       "    </tr>\n",
       "    <tr>\n",
       "      <th>3991</th>\n",
       "      <td>286368</td>\n",
       "      <td>575485</td>\n",
       "      <td>23245</td>\n",
       "      <td>SET OF 3 REGENCY CAKE TINS</td>\n",
       "      <td>4</td>\n",
       "      <td>2019-11-07 17:03:00</td>\n",
       "      <td>4.95</td>\n",
       "      <td>18274.0</td>\n",
       "      <td>310604</td>\n",
       "      <td>C577832</td>\n",
       "      <td>23245</td>\n",
       "      <td>2019-11-20 10:18:00</td>\n",
       "    </tr>\n",
       "    <tr>\n",
       "      <th>3992</th>\n",
       "      <td>286369</td>\n",
       "      <td>575485</td>\n",
       "      <td>22720</td>\n",
       "      <td>SET OF 3 CAKE TINS PANTRY DESIGN</td>\n",
       "      <td>3</td>\n",
       "      <td>2019-11-07 17:03:00</td>\n",
       "      <td>4.95</td>\n",
       "      <td>18274.0</td>\n",
       "      <td>310608</td>\n",
       "      <td>C577832</td>\n",
       "      <td>22720</td>\n",
       "      <td>2019-11-20 10:18:00</td>\n",
       "    </tr>\n",
       "    <tr>\n",
       "      <th>3993</th>\n",
       "      <td>286370</td>\n",
       "      <td>575485</td>\n",
       "      <td>21231</td>\n",
       "      <td>SWEETHEART CERAMIC TRINKET BOX</td>\n",
       "      <td>12</td>\n",
       "      <td>2019-11-07 17:03:00</td>\n",
       "      <td>1.25</td>\n",
       "      <td>18274.0</td>\n",
       "      <td>310611</td>\n",
       "      <td>C577832</td>\n",
       "      <td>21231</td>\n",
       "      <td>2019-11-20 10:18:00</td>\n",
       "    </tr>\n",
       "    <tr>\n",
       "      <th>3996</th>\n",
       "      <td>286373</td>\n",
       "      <td>575485</td>\n",
       "      <td>21108</td>\n",
       "      <td>FAIRY CAKE FLANNEL ASSORTED COLOUR</td>\n",
       "      <td>18</td>\n",
       "      <td>2019-11-07 17:03:00</td>\n",
       "      <td>0.79</td>\n",
       "      <td>18274.0</td>\n",
       "      <td>310612</td>\n",
       "      <td>C577832</td>\n",
       "      <td>21108</td>\n",
       "      <td>2019-11-20 10:18:00</td>\n",
       "    </tr>\n",
       "    <tr>\n",
       "      <th>3994</th>\n",
       "      <td>286371</td>\n",
       "      <td>575485</td>\n",
       "      <td>21974</td>\n",
       "      <td>SET OF 36 PAISLEY FLOWER DOILIES</td>\n",
       "      <td>12</td>\n",
       "      <td>2019-11-07 17:03:00</td>\n",
       "      <td>1.45</td>\n",
       "      <td>18274.0</td>\n",
       "      <td>310610</td>\n",
       "      <td>C577832</td>\n",
       "      <td>21974</td>\n",
       "      <td>2019-11-20 10:18:00</td>\n",
       "    </tr>\n",
       "  </tbody>\n",
       "</table>\n",
       "<p>4172 rows × 12 columns</p>\n",
       "</div>"
      ],
      "text/plain": [
       "      index_x orderID_x itemID_x                          description  \\\n",
       "605     21500    541431    23166       MEDIUM CERAMIC TOP STORAGE JAR   \n",
       "1497   131581    556910    22991                 GIRAFFE WOODEN RULER   \n",
       "1486    61085    546991    22403    MAGNETS PACK OF 4 VINTAGE LABELS    \n",
       "1484    61084    546991    22923  FRIDGE MAGNETS LES ENFANTS ASSORTED   \n",
       "1485    98321    552242    22923  FRIDGE MAGNETS LES ENFANTS ASSORTED   \n",
       "...       ...       ...      ...                                  ...   \n",
       "3991   286368    575485    23245           SET OF 3 REGENCY CAKE TINS   \n",
       "3992   286369    575485    22720    SET OF 3 CAKE TINS PANTRY DESIGN    \n",
       "3993   286370    575485    21231       SWEETHEART CERAMIC TRINKET BOX   \n",
       "3996   286373    575485    21108   FAIRY CAKE FLANNEL ASSORTED COLOUR   \n",
       "3994   286371    575485    21974     SET OF 36 PAISLEY FLOWER DOILIES   \n",
       "\n",
       "      quantity         orderDate_x  unitPrice  customerID  index_y orderID_y  \\\n",
       "605      74215 2019-01-16 10:01:00       1.04     12346.0    21505   C541433   \n",
       "1497         6 2019-06-13 13:25:00       1.95     12748.0    61208   C546997   \n",
       "1486         6 2019-03-16 13:08:00       1.25     12748.0    61217   C546997   \n",
       "1484         6 2019-03-16 13:08:00       0.85     12748.0    61212   C546997   \n",
       "1485         6 2019-05-04 19:22:00       0.85     12748.0    61212   C546997   \n",
       "...        ...                 ...        ...         ...      ...       ...   \n",
       "3991         4 2019-11-07 17:03:00       4.95     18274.0   310604   C577832   \n",
       "3992         3 2019-11-07 17:03:00       4.95     18274.0   310608   C577832   \n",
       "3993        12 2019-11-07 17:03:00       1.25     18274.0   310611   C577832   \n",
       "3996        18 2019-11-07 17:03:00       0.79     18274.0   310612   C577832   \n",
       "3994        12 2019-11-07 17:03:00       1.45     18274.0   310610   C577832   \n",
       "\n",
       "     itemID_y         orderDate_y  \n",
       "605     23166 2019-01-16 10:17:00  \n",
       "1497    22991 2019-03-16 13:32:00  \n",
       "1486    22403 2019-03-16 13:32:00  \n",
       "1484    22923 2019-03-16 13:32:00  \n",
       "1485    22923 2019-03-16 13:32:00  \n",
       "...       ...                 ...  \n",
       "3991    23245 2019-11-20 10:18:00  \n",
       "3992    22720 2019-11-20 10:18:00  \n",
       "3993    21231 2019-11-20 10:18:00  \n",
       "3996    21108 2019-11-20 10:18:00  \n",
       "3994    21974 2019-11-20 10:18:00  \n",
       "\n",
       "[4172 rows x 12 columns]"
      ]
     },
     "execution_count": 24,
     "metadata": {},
     "output_type": "execute_result"
    }
   ],
   "source": [
    "match= pd.merge(notNegative, canceledOrders, on =columnsToCheck).sort_values(\"customerID\")\n",
    "match"
   ]
  },
  {
   "cell_type": "markdown",
   "metadata": {
    "colab_type": "text",
    "id": "mPgGa9KYqoW9"
   },
   "source": [
    "The inner merged non-canceled and canceled dataframe above shows rows that were identified as sharing the same customer ID, unit price, quantity, and product description values. \n",
    "\n",
    "The last check to do before dropping these rows will be to retrieve rows that have the following logic: date X (non-canceled) has to have occurred before the date Y (canceled order)"
   ]
  },
  {
   "cell_type": "code",
   "execution_count": 25,
   "metadata": {
    "colab": {},
    "colab_type": "code",
    "id": "JxtnUALnqoW-"
   },
   "outputs": [
    {
     "name": "stdout",
     "output_type": "stream",
     "text": [
      "1.499039337810619\n"
     ]
    }
   ],
   "source": [
    "match = match[match['orderDate_x'] < match['orderDate_y']]\n",
    "\n",
    "indexToDrop = set(np.append(match['index_x'].values, match['index_y'].values))\n",
    "print(len(indexToDrop)/len(df)*100)"
   ]
  },
  {
   "cell_type": "markdown",
   "metadata": {
    "colab_type": "text",
    "id": "hRjW-S9JqoXR"
   },
   "source": [
    "Given the criteria, with some confidence, we can drop the above rows as more likely than not, they stem from the same canceled order (bought item and then returned it). We'll now go ahead and drop these rows which represent roughly 1.5% of our data."
   ]
  },
  {
   "cell_type": "code",
   "execution_count": 26,
   "metadata": {
    "colab": {},
    "colab_type": "code",
    "id": "6EFDUZf-qoXT"
   },
   "outputs": [],
   "source": [
    "df = df.query(\"index not in @indexToDrop\")"
   ]
  },
  {
   "cell_type": "markdown",
   "metadata": {
    "colab_type": "text",
    "id": "CtCoHmvgqoXe"
   },
   "source": [
    "What % of negative quantity values still remain?"
   ]
  },
  {
   "cell_type": "code",
   "execution_count": 27,
   "metadata": {
    "colab": {
     "base_uri": "https://localhost:8080/",
     "height": 35
    },
    "colab_type": "code",
    "id": "m0MFw1v4qoXg",
    "outputId": "d3938c4c-510e-460d-802a-27a440f10cdb"
   },
   "outputs": [
    {
     "data": {
      "text/plain": [
       "0.7011242116808336"
      ]
     },
     "execution_count": 27,
     "metadata": {},
     "output_type": "execute_result"
    }
   ],
   "source": [
    "len(df.query(\"quantity < 0\"))/len(canceledOrders)"
   ]
  },
  {
   "cell_type": "markdown",
   "metadata": {
    "colab_type": "text",
    "id": "Bf5ycVnLqoXv"
   },
   "source": [
    "70% of negative quantity values still remain. We'll go ahead and drop as they will not be accounted in the calculations in this task. Moreover, it may have been that these values could have been canceled orders from past dates not present in the time span of the current dataframe."
   ]
  },
  {
   "cell_type": "code",
   "execution_count": 28,
   "metadata": {
    "colab": {},
    "colab_type": "code",
    "id": "o10B5tzlqoXw"
   },
   "outputs": [],
   "source": [
    "df = df.query(\"quantity>0\").reset_index(drop=True)"
   ]
  },
  {
   "cell_type": "markdown",
   "metadata": {
    "colab_type": "text",
    "id": "qVuRJz9_qoX6"
   },
   "source": [
    "Last checks"
   ]
  },
  {
   "cell_type": "code",
   "execution_count": 29,
   "metadata": {
    "colab": {
     "base_uri": "https://localhost:8080/",
     "height": 156
    },
    "colab_type": "code",
    "id": "4gjj_RDIqoYH",
    "outputId": "bde46570-6ce2-47d2-c7cc-7cf205d81e64"
   },
   "outputs": [
    {
     "name": "stdout",
     "output_type": "stream",
     "text": [
      "0\n",
      "orderID\n",
      "itemID\n",
      "description\n",
      "quantity\n",
      "orderDate\n",
      "unitPrice\n",
      "customerID\n"
     ]
    },
    {
     "name": "stderr",
     "output_type": "stream",
     "text": [
      "C:\\Users\\garci\\Anaconda3\\lib\\site-packages\\pandas\\core\\ops\\array_ops.py:253: FutureWarning: elementwise comparison failed; returning scalar instead, but in the future will perform elementwise comparison\n",
      "  res_values = method(rvalues)\n"
     ]
    },
    {
     "data": {
      "text/plain": [
       "[]"
      ]
     },
     "execution_count": 29,
     "metadata": {},
     "output_type": "execute_result"
    }
   ],
   "source": [
    "print(df.duplicated().sum()); missing_values(df)"
   ]
  },
  {
   "cell_type": "markdown",
   "metadata": {
    "colab_type": "text",
    "id": "4vIi7DENqoYZ"
   },
   "source": [
    "Our data is relatively clean now."
   ]
  },
  {
   "cell_type": "markdown",
   "metadata": {},
   "source": [
    "<a id='4'></a>"
   ]
  },
  {
   "cell_type": "markdown",
   "metadata": {
    "colab_type": "text",
    "id": "Q9xjloXwqoYb"
   },
   "source": [
    "# 4. Exploratory Data Analysis"
   ]
  },
  {
   "cell_type": "code",
   "execution_count": 30,
   "metadata": {},
   "outputs": [],
   "source": [
    "def human_format(num, precision=2, suffixes=['', 'K', 'M', 'G', 'T', 'P']):\n",
    "    if num < 1:\n",
    "        return num  # avoid dividing by 0 or negatives\n",
    "    m = int(log10(num) // 3)\n",
    "    return f'{num/1000.0**m:.{precision}f}{suffixes[m]}'\n",
    "\n",
    "\n",
    "def turnIntoAMPM(x):\n",
    "    if x > 11:\n",
    "        if x == 12:\n",
    "            return '12 PM'\n",
    "        return \"{} PM\".format(x - 12)\n",
    "    else:\n",
    "        return \"{} AM\".format(x)\n",
    "\n",
    "\n",
    "def getRidOfColumnsWithManyValues(df):\n",
    "    columns = []\n",
    "    for col in df.columns:\n",
    "        uniqueValueCount = df[col].nunique()\n",
    "        if uniqueValueCount > 500:\n",
    "            continue\n",
    "        columns.append(col)\n",
    "    return columns"
   ]
  },
  {
   "cell_type": "markdown",
   "metadata": {},
   "source": [
    "Before starting our analysis, given that unit price is in pound sterling (£) according to the dataset's <a href = \"https://archive.ics.uci.edu/ml/datasets/Online+Retail+II\">description</a>, we'll convert it into US Dollar (USD) for ease of interpretation (we'll assume that the team requested this). We'll set the exchange ratio using the IRS's calculated yearly average currency exchange rate between the U.K. pound and U.S. dollar: <a href=\"https://www.irs.gov/individuals/international-taxpayers/yearly-average-currency-exchange-rates\">0.784 for the year 2019</a> (where most data in dataset comes from)."
   ]
  },
  {
   "cell_type": "code",
   "execution_count": 31,
   "metadata": {},
   "outputs": [],
   "source": [
    "# saving dataframe to a new variable\n",
    "transactionHistory = df.copy()\n",
    "\n",
    "poundToUSDRate = .784\n",
    "transactionHistory['unitPrice'] = transactionHistory['unitPrice'].div(\n",
    "    poundToUSDRate)"
   ]
  },
  {
   "cell_type": "markdown",
   "metadata": {
    "colab_type": "text",
    "id": "bjP1T9bXqoYg"
   },
   "source": [
    "Next, we'll go ahead an create some variables that may be helpful in understanding the data and its structure."
   ]
  },
  {
   "cell_type": "code",
   "execution_count": 32,
   "metadata": {
    "colab": {},
    "colab_type": "code",
    "id": "E9Jj22aPqoZc"
   },
   "outputs": [],
   "source": [
    "#creating variables of interest\n",
    "transactionHistory['month'] = transactionHistory['orderDate'].dt.month\n",
    "transactionHistory['day'] = transactionHistory['orderDate'].dt.date\n",
    "transactionHistory['year'] = transactionHistory['orderDate'].dt.year\n",
    "transactionHistory['isWeekend'] = transactionHistory['orderDate'].apply(lambda x: 1 if x.weekday()>= 5 else 0)\n",
    "transactionHistory['quarter'] = transactionHistory['orderDate'].dt.quarter\n",
    "transactionHistory['hour'] = transactionHistory['orderDate'].dt.hour\n",
    "transactionHistory['totalPrice']  = transactionHistory['quantity'] * transactionHistory['unitPrice']"
   ]
  },
  {
   "cell_type": "markdown",
   "metadata": {
    "colab_type": "text",
    "id": "FbDFQf7BqoZ7"
   },
   "source": [
    "Getting an overview of the data."
   ]
  },
  {
   "cell_type": "code",
   "execution_count": 33,
   "metadata": {
    "colab": {
     "base_uri": "https://localhost:8080/",
     "height": 104
    },
    "colab_type": "code",
    "id": "y0UsdseUqoZ8",
    "outputId": "7f4cdf30-14fd-416b-c393-eb7e4514bbe7"
   },
   "outputs": [
    {
     "name": "stdout",
     "output_type": "stream",
     "text": [
      "General overview - Unique orders, items, and customers\n"
     ]
    },
    {
     "data": {
      "text/plain": [
       "orderID       15858\n",
       "itemID         3606\n",
       "customerID     3851\n",
       "dtype: int64"
      ]
     },
     "execution_count": 33,
     "metadata": {},
     "output_type": "execute_result"
    }
   ],
   "source": [
    "print(\"General overview - Unique orders, items, and customers\")\n",
    "transactionHistory[['orderID', 'itemID','customerID']].apply(lambda x: x.nunique())"
   ]
  },
  {
   "cell_type": "markdown",
   "metadata": {
    "colab_type": "text",
    "id": "AEINOLgSqoaI"
   },
   "source": [
    "There are 3,852 unique customers who made a total of 15,858 orders of which consisted of 3,606 unique product items. "
   ]
  },
  {
   "cell_type": "markdown",
   "metadata": {},
   "source": [
    "<p style=\"font-size:20px;color:teal\">Note: For the frequency variable, instead of having it reflect orders, I chose transactions instead. I should mention tha this may have had some impact (see below -> One customer had 2.1k product transactions in one order). </p> "
   ]
  },
  {
   "cell_type": "code",
   "execution_count": 34,
   "metadata": {},
   "outputs": [
    {
     "data": {
      "text/plain": [
       "customerID        1.000000\n",
       "totalPrice    10746.862245\n",
       "quantity       2175.000000\n",
       "orderDate         1.000000\n",
       "dtype: float64"
      ]
     },
     "execution_count": 34,
     "metadata": {},
     "output_type": "execute_result"
    }
   ],
   "source": [
    "transactionHistory.query(\"orderID =='576339'\").agg({\"customerID\":\"nunique\",\"totalPrice\":\"sum\",\n",
    "                                                    \"quantity\":\"sum\",\"orderDate\":\"nunique\"})"
   ]
  },
  {
   "cell_type": "markdown",
   "metadata": {
    "colab_type": "text",
    "id": "NfiLO-hgqoaJ"
   },
   "source": [
    "Checking for outliers in quantity and unit price price per customer purchase."
   ]
  },
  {
   "cell_type": "code",
   "execution_count": 35,
   "metadata": {
    "colab": {
     "base_uri": "https://localhost:8080/",
     "height": 300
    },
    "colab_type": "code",
    "id": "kEhiZ-RaqoaL",
    "outputId": "057d1e15-e952-4862-9e3f-0ee517c4b232"
   },
   "outputs": [
    {
     "data": {
      "image/png": "[encoded data removed]",
      "text/plain": [
       "<Figure size 1080x360 with 3 Axes>"
      ]
     },
     "metadata": {
      "needs_background": "light"
     },
     "output_type": "display_data"
    }
   ],
   "source": [
    "fig, ax = plt.subplots(ncols=3, nrows=1, figsize=(15, 5))\n",
    "# ---------------------------------------------------------------------------------------\n",
    "sns.scatterplot(x=transactionHistory['customerID'],\n",
    "                y=transactionHistory['quantity'], ax=ax[0])\n",
    "modifyChartBasic(ax[0], \"Customer vs. Items puchased\\n Per Transaction\", 13,\n",
    "                 xLabel='Unique Customer', yLabel='Count', titleSize=16)\n",
    "modifyChartExtra(ax[0], grid='y')\n",
    "ax[0].set_yticklabels([human_format(i, precision=0)\n",
    "                       for i in ax[0].get_yticks()])\n",
    "# ----------------------------------------------------------------------------------------\n",
    "transactionHistory['unitPrice'].plot.box(ax=ax[1], figsize=(15, 5))\n",
    "modifyChartBasic(ax[1], \"Unit Price ($) Distribution\",\n",
    "                 13, yLabel='USD (S)', titleSize=16)\n",
    "modifyChartExtra(ax[1], grid='y')\n",
    "ax[1].set_yticklabels(\n",
    "    [f'${human_format(i,precision=0)}' for i in ax[1].get_yticks()])\n",
    "# ---------------------------------------------------------------------------------------\n",
    "sns.scatterplot(x=transactionHistory['customerID'],\n",
    "                y=transactionHistory['totalPrice'], ax=ax[2])\n",
    "modifyChartBasic(ax[2], \"Customer vs. Total Price ($)\\n Per Transaction\", 13,\n",
    "                 xLabel='Unique Customer', yLabel='USD ($)', titleSize=16)\n",
    "modifyChartExtra(ax[2], grid='y')\n",
    "ax[2].set_yticklabels(\n",
    "    [f'${human_format(i,precision=0)}' for i in ax[2].get_yticks()])\n",
    "plt.tight_layout()"
   ]
  },
  {
   "cell_type": "markdown",
   "metadata": {
    "colab_type": "text",
    "id": "z70UX4RTqoaU"
   },
   "source": [
    "**Per transaction**, we can see that most customers buy under 1,000 items of which predominately costs less then \\\\$<500 and spent between \\\\$0.01 to \\\\$5,000 on the online store. Some outliers such as the high $50,000 order made by one customer can be considered outliers. Without knowing further context though, we won't treat them as such since no models will be built using this data (K-means was tried). \n",
    "\n",
    "The company should look into buyers purchasing large quantity of items as well as those who spend the most in the store. From the looks of it, there might be a B2B component that the company can potentially build with such customers. "
   ]
  },
  {
   "cell_type": "markdown",
   "metadata": {},
   "source": [
    "What's the median number of orders made for the year?"
   ]
  },
  {
   "cell_type": "code",
   "execution_count": 36,
   "metadata": {},
   "outputs": [
    {
     "data": {
      "image/png": "[encoded data removed]",
      "text/plain": [
       "<Figure size 864x360 with 1 Axes>"
      ]
     },
     "metadata": {
      "needs_background": "light"
     },
     "output_type": "display_data"
    }
   ],
   "source": [
    "orders = transactionHistory.groupby('customerID').agg({\"orderID\": 'nunique'})\n",
    "fig, ax = plt.subplots(figsize=(12, 5))\n",
    "sns.distplot(orders, ax=ax)\n",
    "ax.set_yticklabels([f'{i*100:.1f}%' for i in ax.get_yticks()])\n",
    "modifyChartBasic(ax, '', 13,\n",
    "                 xLabel='Number of Orders', yLabel='Density (%)', titleSize=16)\n",
    "\n",
    "quantile50, quantile95 = orders['orderID'].quantile(\n",
    "    .50), orders['orderID'].quantile(.95)\n",
    "plt.axvline(quantile50, linestyle='--', color='black')\n",
    "plt.text(quantile50, ax.get_yticks()[\n",
    "         4], f'<|------- 50% of customers made <= {int(quantile50)} orders', fontsize=15, fontweight='semibold')\n",
    "plt.axvline(quantile95, linestyle='--', color='black')\n",
    "plt.text(quantile95, ax.get_yticks()[\n",
    "         6], f'<|------- 95% of customers made <= {int(quantile95)} orders', fontsize=15, fontweight='semibold')\n",
    "modifyChartExtra(ax, grid='y')\n",
    "plt.title(\"Distribution of Orders For Dates: 12/07/18 - 12/07/19\",\n",
    "          x=.4, y=1.06, fontsize=20)\n",
    "plt.show()"
   ]
  },
  {
   "cell_type": "markdown",
   "metadata": {},
   "source": [
    "95% of customers mad less than 14 orders and half of total customers made 2 orders or less. With such low number of orders made for the year and figures seen previously, it's highly likely that most of the customers for the store are predominantly. wholesalers.\n",
    "\n",
    "### **Note,** transactions were still inspected as it represented a unique product that a customer bought within one order. We'll hypothetically say that the company was interested in figures at the transactional level rather than single orders. Therefore, the analyses will rely more on transactional analysis at the product level."
   ]
  },
  {
   "cell_type": "markdown",
   "metadata": {},
   "source": [
    "Let's check the maximum value per variables used above to get a better understanding of them."
   ]
  },
  {
   "cell_type": "code",
   "execution_count": 37,
   "metadata": {},
   "outputs": [
    {
     "data": {
      "text/html": [
       "<div>\n",
       "<style scoped>\n",
       "    .dataframe tbody tr th:only-of-type {\n",
       "        vertical-align: middle;\n",
       "    }\n",
       "\n",
       "    .dataframe tbody tr th {\n",
       "        vertical-align: top;\n",
       "    }\n",
       "\n",
       "    .dataframe thead th {\n",
       "        text-align: right;\n",
       "    }\n",
       "</style>\n",
       "<table border=\"1\" class=\"dataframe\">\n",
       "  <thead>\n",
       "    <tr style=\"text-align: right;\">\n",
       "      <th></th>\n",
       "      <th>orderID</th>\n",
       "      <th>itemID</th>\n",
       "      <th>description</th>\n",
       "      <th>quantity</th>\n",
       "      <th>orderDate</th>\n",
       "      <th>unitPrice</th>\n",
       "      <th>customerID</th>\n",
       "      <th>month</th>\n",
       "      <th>day</th>\n",
       "      <th>year</th>\n",
       "      <th>isWeekend</th>\n",
       "      <th>quarter</th>\n",
       "      <th>hour</th>\n",
       "      <th>totalPrice</th>\n",
       "    </tr>\n",
       "  </thead>\n",
       "  <tbody>\n",
       "    <tr>\n",
       "      <th>91214</th>\n",
       "      <td>551697</td>\n",
       "      <td>POST</td>\n",
       "      <td>POSTAGE</td>\n",
       "      <td>1</td>\n",
       "      <td>2019-05-01 13:46:00</td>\n",
       "      <td>10386.160714</td>\n",
       "      <td>16029.0</td>\n",
       "      <td>5</td>\n",
       "      <td>2019-05-01</td>\n",
       "      <td>2019</td>\n",
       "      <td>0</td>\n",
       "      <td>2</td>\n",
       "      <td>13</td>\n",
       "      <td>10386.160714</td>\n",
       "    </tr>\n",
       "  </tbody>\n",
       "</table>\n",
       "</div>"
      ],
      "text/plain": [
       "      orderID itemID description  quantity           orderDate     unitPrice  \\\n",
       "91214  551697   POST     POSTAGE         1 2019-05-01 13:46:00  10386.160714   \n",
       "\n",
       "       customerID  month         day  year  isWeekend  quarter  hour  \\\n",
       "91214     16029.0      5  2019-05-01  2019          0        2    13   \n",
       "\n",
       "         totalPrice  \n",
       "91214  10386.160714  "
      ]
     },
     "metadata": {},
     "output_type": "display_data"
    },
    {
     "data": {
      "text/html": [
       "<div>\n",
       "<style scoped>\n",
       "    .dataframe tbody tr th:only-of-type {\n",
       "        vertical-align: middle;\n",
       "    }\n",
       "\n",
       "    .dataframe tbody tr th {\n",
       "        vertical-align: top;\n",
       "    }\n",
       "\n",
       "    .dataframe thead th {\n",
       "        text-align: right;\n",
       "    }\n",
       "</style>\n",
       "<table border=\"1\" class=\"dataframe\">\n",
       "  <thead>\n",
       "    <tr style=\"text-align: right;\">\n",
       "      <th></th>\n",
       "      <th>orderID</th>\n",
       "      <th>itemID</th>\n",
       "      <th>description</th>\n",
       "      <th>quantity</th>\n",
       "      <th>orderDate</th>\n",
       "      <th>unitPrice</th>\n",
       "      <th>customerID</th>\n",
       "      <th>month</th>\n",
       "      <th>day</th>\n",
       "      <th>year</th>\n",
       "      <th>isWeekend</th>\n",
       "      <th>quarter</th>\n",
       "      <th>hour</th>\n",
       "      <th>totalPrice</th>\n",
       "    </tr>\n",
       "  </thead>\n",
       "  <tbody>\n",
       "    <tr>\n",
       "      <th>254409</th>\n",
       "      <td>573008</td>\n",
       "      <td>84077</td>\n",
       "      <td>WORLD WAR 2 GLIDERS ASSTD DESIGNS</td>\n",
       "      <td>4800</td>\n",
       "      <td>2019-10-25 12:26:00</td>\n",
       "      <td>0.267857</td>\n",
       "      <td>12901.0</td>\n",
       "      <td>10</td>\n",
       "      <td>2019-10-25</td>\n",
       "      <td>2019</td>\n",
       "      <td>0</td>\n",
       "      <td>4</td>\n",
       "      <td>12</td>\n",
       "      <td>1285.714286</td>\n",
       "    </tr>\n",
       "  </tbody>\n",
       "</table>\n",
       "</div>"
      ],
      "text/plain": [
       "       orderID itemID                        description  quantity  \\\n",
       "254409  573008  84077  WORLD WAR 2 GLIDERS ASSTD DESIGNS      4800   \n",
       "\n",
       "                 orderDate  unitPrice  customerID  month         day  year  \\\n",
       "254409 2019-10-25 12:26:00   0.267857     12901.0     10  2019-10-25  2019   \n",
       "\n",
       "        isWeekend  quarter  hour   totalPrice  \n",
       "254409          0        4    12  1285.714286  "
      ]
     },
     "metadata": {},
     "output_type": "display_data"
    },
    {
     "data": {
      "text/html": [
       "<div>\n",
       "<style scoped>\n",
       "    .dataframe tbody tr th:only-of-type {\n",
       "        vertical-align: middle;\n",
       "    }\n",
       "\n",
       "    .dataframe tbody tr th {\n",
       "        vertical-align: top;\n",
       "    }\n",
       "\n",
       "    .dataframe thead th {\n",
       "        text-align: right;\n",
       "    }\n",
       "</style>\n",
       "<table border=\"1\" class=\"dataframe\">\n",
       "  <thead>\n",
       "    <tr style=\"text-align: right;\">\n",
       "      <th></th>\n",
       "      <th>orderID</th>\n",
       "      <th>itemID</th>\n",
       "      <th>description</th>\n",
       "      <th>quantity</th>\n",
       "      <th>orderDate</th>\n",
       "      <th>unitPrice</th>\n",
       "      <th>customerID</th>\n",
       "      <th>month</th>\n",
       "      <th>day</th>\n",
       "      <th>year</th>\n",
       "      <th>isWeekend</th>\n",
       "      <th>quarter</th>\n",
       "      <th>hour</th>\n",
       "      <th>totalPrice</th>\n",
       "    </tr>\n",
       "  </thead>\n",
       "  <tbody>\n",
       "    <tr>\n",
       "      <th>123274</th>\n",
       "      <td>556444</td>\n",
       "      <td>22502</td>\n",
       "      <td>PICNIC BASKET WICKER 60 PIECES</td>\n",
       "      <td>60</td>\n",
       "      <td>2019-06-08 15:28:00</td>\n",
       "      <td>828.443878</td>\n",
       "      <td>15098.0</td>\n",
       "      <td>6</td>\n",
       "      <td>2019-06-08</td>\n",
       "      <td>2019</td>\n",
       "      <td>1</td>\n",
       "      <td>2</td>\n",
       "      <td>15</td>\n",
       "      <td>49706.632653</td>\n",
       "    </tr>\n",
       "  </tbody>\n",
       "</table>\n",
       "</div>"
      ],
      "text/plain": [
       "       orderID itemID                     description  quantity  \\\n",
       "123274  556444  22502  PICNIC BASKET WICKER 60 PIECES        60   \n",
       "\n",
       "                 orderDate   unitPrice  customerID  month         day  year  \\\n",
       "123274 2019-06-08 15:28:00  828.443878     15098.0      6  2019-06-08  2019   \n",
       "\n",
       "        isWeekend  quarter  hour    totalPrice  \n",
       "123274          1        2    15  49706.632653  "
      ]
     },
     "metadata": {},
     "output_type": "display_data"
    }
   ],
   "source": [
    "display(transactionHistory.iloc[np.where(transactionHistory['unitPrice'] == transactionHistory['unitPrice'].max())],\n",
    "        transactionHistory.iloc[np.where(\n",
    "            transactionHistory['quantity'] == transactionHistory['quantity'].max())],\n",
    "        transactionHistory.iloc[np.where(transactionHistory['totalPrice'] == transactionHistory['totalPrice'].max())])"
   ]
  },
  {
   "cell_type": "markdown",
   "metadata": {},
   "source": [
    "1. The most expensive item sold is a postage. The product can potentially be an antique.\n",
    "2. Customer 573008 seems to be a business given the quantity bought 4,800 at a single point of time. Time of purchase is also of interest (nearing holiday).\n",
    "3. Within one order, customer 15098 spent close to \\\\$49.7k on 60 bundles consisting of 60 picnic baskets each. Product promotions for this item should  be sent to the customer."
   ]
  },
  {
   "cell_type": "code",
   "execution_count": 38,
   "metadata": {
    "colab": {
     "base_uri": "https://localhost:8080/",
     "height": 208
    },
    "colab_type": "code",
    "id": "5AGrvZH1qoaV",
    "outputId": "3673a823-6d46-44a2-e24a-4173d905bd7a"
   },
   "outputs": [
    {
     "data": {
      "text/plain": [
       "0.95    10.841837\n",
       "Name: unitPrice, dtype: float64"
      ]
     },
     "metadata": {},
     "output_type": "display_data"
    },
    {
     "data": {
      "text/plain": [
       "0.95    36.0\n",
       "Name: quantity, dtype: float64"
      ]
     },
     "metadata": {},
     "output_type": "display_data"
    },
    {
     "data": {
      "text/plain": [
       "0.95    75.765306\n",
       "Name: totalPrice, dtype: float64"
      ]
     },
     "metadata": {},
     "output_type": "display_data"
    }
   ],
   "source": [
    "display(transactionHistory['unitPrice'].quantile([.95]))\n",
    "display(transactionHistory['quantity'].quantile([.95]))\n",
    "display(transactionHistory['totalPrice'].quantile([.95]))"
   ]
  },
  {
   "cell_type": "markdown",
   "metadata": {
    "colab_type": "text",
    "id": "AiR0FOrcqoae"
   },
   "source": [
    "When we look at the percentiles of the variables investigated above we can see that 95% of transactions:\n",
    "1. Had products with a unit price less that or equal to \\\\$8.5\n",
    "2. Consisted of 36 or less items\n",
    "3. Cost a total of \\\\$59 or less"
   ]
  },
  {
   "cell_type": "code",
   "execution_count": 39,
   "metadata": {},
   "outputs": [
    {
     "data": {
      "text/plain": [
       "quantity      150.00000\n",
       "totalPrice    375.96301\n",
       "dtype: float64"
      ]
     },
     "execution_count": 39,
     "metadata": {},
     "output_type": "execute_result"
    }
   ],
   "source": [
    "# get total number of items and price for each unique order\n",
    "transactionHistory.groupby('orderID').agg(\n",
    "    {'quantity': 'sum', 'totalPrice': 'sum', }).median()"
   ]
  },
  {
   "cell_type": "markdown",
   "metadata": {},
   "source": [
    "On average, on a given order, a customer will purchase 533 items at a total price of \\\\$533.07. Such high amounts reflect buying behavior for wholesalers rather than individuals. Now having a rough understanding of the company's customers, let's take a look at patterns by accounting for dates now. We'll start with distribution of purchases made per day and month."
   ]
  },
  {
   "cell_type": "code",
   "execution_count": 40,
   "metadata": {
    "colab": {
     "base_uri": "https://localhost:8080/",
     "height": 497
    },
    "colab_type": "code",
    "id": "1Gt28-svqobD",
    "outputId": "eaa06984-47f7-436d-da06-3d38ce6f3246"
   },
   "outputs": [
    {
     "data": {
      "image/png": "[encoded data removed]",
      "text/plain": [
       "<Figure size 1152x576 with 4 Axes>"
      ]
     },
     "metadata": {},
     "output_type": "display_data"
    }
   ],
   "source": [
    "fig, ax = plt.subplots(ncols=2, nrows=2, figsize=(15, 5))\n",
    "axes = [(row, col) for row in range(2) for col in range(2)]\n",
    "dateNVariable = [(\"day\", \"quantity\"), (\"customerID\", \"quantity\"),\n",
    "                 (\"day\", \"totalPrice\"), (\"customerID\", \"totalPrice\")]\n",
    "data = transactionHistory.copy()\n",
    "\n",
    "for dateNVariable, i in zip(dateNVariable, axes):\n",
    "    date, variable = dateNVariable[0], dateNVariable[1]\n",
    "    df = (data.groupby(date)\n",
    "          .agg({variable: 'sum'})  # sum of quantity/total price\n",
    "          .reset_index().sort_values(date))\n",
    "    df.plot.line(x=date, y=variable, figsize=(16, 8),\n",
    "                 legend=False, rot=90, ax=ax[i], color='#00A5B8')\n",
    "\n",
    "    #ticks and limits\n",
    "    ax[i].set_xlim(df[date].min(), df[date].max())\n",
    "    if date == 'day':\n",
    "        ax[i].set_xticks(pd.date_range(df[date].min(), df[date].max(), 12))\n",
    "        ax[i].set_xticklabels([\n",
    "            i.date()  # set x tick labels as date format and in 12 intervals\n",
    "            for i in (pd.date_range(df[date].min(), df[date].max(), 12))])\n",
    "\n",
    "    variableTitle = 'Revenue' if variable == 'totalPrice' else variable.title()\n",
    "    title = f\"{variableTitle} Per Customer Over the Year\" if date != 'day' else f\"Daily {variableTitle}\"\n",
    "    ylabel = 'Revenue' if variable == 'totalPrice' else 'Quantity'\n",
    "    xlabel = 'Date' if date == 'day' else 'Customer ID'\n",
    "    modifyChartBasic(ax[i], title, 13, titleSize=15,\n",
    "                     xLabel=xlabel, yLabel=ylabel)\n",
    "    modifyChartExtra(ax[i], grid='both', maxs=df[variable].max(),\n",
    "                     grayTickLabels=True, highlightTop=True)\n",
    "    ax[i].set_yticklabels([f'${human_format(i,precision=0)}' if variable == 'totalPrice'\n",
    "                           else f'{human_format(i,precision=0)}' for i in ax[i].get_yticks()[:-1]\n",
    "                           ]+[f'{ax[i].get_yticks()[-1]:,.0f}'])\n",
    "\n",
    "plt.suptitle(\"Total Quantity and Revenue Made\\n Per Day and Per Customer\",\n",
    "             fontsize=18, y=1.1, fontweight='bold')\n",
    "plt.tight_layout()"
   ]
  },
  {
   "cell_type": "markdown",
   "metadata": {
    "colab_type": "text",
    "id": "2j5gU-0JqobK"
   },
   "source": [
    "Summary:\n",
    "1. The later months see the most purchases in the months of July to December with trends between those months .\n",
    "2. August was the most profitable month for the store of which may have been due to the large quantity spent during that month.\n",
    "3. A selective few customers bring more than \\\\$50k to the company over the year; top two customers each bringing ~\\\\$245k and ~\\\\$298.1k.\n",
    "4. There seems to be customers who buy large quantities of low unit price items as indicated by the difference in year quantity and year revenue per customer graphs; top two customers seem to buy expensive items as the revenue graph shows them trumping the others in terms of money spent on the store."
   ]
  },
  {
   "cell_type": "markdown",
   "metadata": {},
   "source": [
    "Let's take a look at the variables in our dataframe with less than 500 unique values (any more is computationally taxing)."
   ]
  },
  {
   "cell_type": "code",
   "execution_count": 41,
   "metadata": {
    "colab": {},
    "colab_type": "code",
    "id": "ZSnn1usdqobN"
   },
   "outputs": [
    {
     "name": "stdout",
     "output_type": "stream",
     "text": [
      "8\n"
     ]
    }
   ],
   "source": [
    "columnsForChart = getRidOfColumnsWithManyValues(transactionHistory)\n",
    "print(len(columnsForChart))"
   ]
  },
  {
   "cell_type": "code",
   "execution_count": 42,
   "metadata": {
    "colab": {
     "base_uri": "https://localhost:8080/",
     "height": 704
    },
    "colab_type": "code",
    "id": "Lp0Y75phqobl",
    "outputId": "cc62f87c-a95b-486b-d109-0a54cbbad9f6"
   },
   "outputs": [
    {
     "data": {
      "image/png": "[encoded data removed]",
      "text/plain": [
       "<Figure size 1080x504 with 8 Axes>"
      ]
     },
     "metadata": {
      "needs_background": "light"
     },
     "output_type": "display_data"
    }
   ],
   "source": [
    "fig, ax = plt.subplots(ncols=4, nrows=2, figsize=(15, 7))\n",
    "axes = [(row, col) for row in range(2) for col in range(4)]\n",
    "data = transactionHistory.copy()\n",
    "\n",
    "for col, i in zip(columnsForChart, axes):\n",
    "    if data[col].nunique() < 50:\n",
    "        data[col].value_counts().plot.bar(ax=ax[i], color='#C6CD23')\n",
    "        maxs = data[col].value_counts().max()\n",
    "    else:\n",
    "        data[col].hist(bins=50, ax=ax[i], color='#C6CD23', xrot=90)\n",
    "        maxs = False\n",
    "    modifyChartExtra(ax[i], grid='y', maxs=maxs)\n",
    "    modifyChartBasic(ax[i], f'{col}', 12,\n",
    "                     xLabel='Variable Value', yLabel='Count')\n",
    "    ax[i].set_yticklabels([human_format(i, precision=1)\n",
    "                           for i in ax[i].get_yticks()])\n",
    "plt.tight_layout()"
   ]
  },
  {
   "cell_type": "markdown",
   "metadata": {
    "colab_type": "text",
    "id": "d0z4Oza-qobw"
   },
   "source": [
    "## Relevant points: \n",
    "1. Clear outliers in quantity and unit price. As mentioned, this might be normal for the store given that (1) customer may be a business and (2) the store may be selling item(s) considered to be antiques (hence large price tag).\n",
    "2. Most transactions are made in the 4th quarter. "
   ]
  },
  {
   "cell_type": "markdown",
   "metadata": {},
   "source": [
    "What quarter brings in the most revenue?"
   ]
  },
  {
   "cell_type": "code",
   "execution_count": 43,
   "metadata": {
    "colab": {
     "base_uri": "https://localhost:8080/",
     "height": 368
    },
    "colab_type": "code",
    "id": "vN3ZJLqwqocD",
    "outputId": "78623ab2-4d1a-4e7e-a92b-c2fe58b7d5ed"
   },
   "outputs": [
    {
     "data": {
      "image/png": "[encoded data removed]",
      "text/plain": [
       "<Figure size 432x288 with 1 Axes>"
      ]
     },
     "metadata": {},
     "output_type": "display_data"
    }
   ],
   "source": [
    "groups = (transactionHistory.groupby(\"quarter\")  # quarter\n",
    "          .agg({'quantity': 'sum'})  # total items bought\n",
    "          .reset_index().sort_values('quarter', ascending=False))  # in descending order by quarter\n",
    "explode = (0.05, 0.05, 0.05, 0.05)\n",
    "\n",
    "patches, texts, autotexts = plt.pie(\n",
    "    groups['quantity'].divide(groups['quantity'].sum()),  # relative value\n",
    "    shadow=True, colors=['#ff9999', '#66b3ff', 'papayawhip', '#E2F7CE'],\n",
    "    labels=groups['quarter'], autopct='%1.1f%%',\n",
    "    textprops={'fontsize': 17, 'fontweight': 'bold'}, wedgeprops=dict(width=0.7),\n",
    "    explode=explode, startangle=90, pctdistance=0.75, radius=1.5)\n",
    "\n",
    "for text in autotexts:\n",
    "    text.set_fontsize(14)\n",
    "    text.set_color('#43464b')\n",
    "plt.title(f\"Share of Sales Per Quarter\\nFrom 12/07/18 - 12/07/19\", pad=55, size=20, x=.5,\n",
    "          fontweight='bold', color='darkslategray', fontname='sans-serif')\n",
    "plt.show()"
   ]
  },
  {
   "cell_type": "markdown",
   "metadata": {},
   "source": [
    "- More than 1/3 of revenue is earned during months in the 4th quarter with the first quarter bringing in the least.\n",
    "- Sales increase over each quarter "
   ]
  },
  {
   "cell_type": "markdown",
   "metadata": {},
   "source": [
    "What hour do customers make the most purchases?"
   ]
  },
  {
   "cell_type": "code",
   "execution_count": 44,
   "metadata": {},
   "outputs": [],
   "source": [
    "hourOrders = transactionHistory.groupby('hour').agg({\"orderID\": \"nunique\"})"
   ]
  },
  {
   "cell_type": "code",
   "execution_count": null,
   "metadata": {},
   "outputs": [],
   "source": [
    "def turnIntoAMPM(x):\n",
    "    if x > 11:\n",
    "        if x == 12:\n",
    "            return '12 PM'\n",
    "        return \"{} PM\".format(x - 12)\n",
    "    else:\n",
    "        return \"{} AM\".format(x)\n",
    "    \n",
    "def textFormat(textParams,value, num =True,comma =True,decimal = 0 ):\n",
    "    percent = textParams[\"percent\"]\n",
    "    dollar = textParams[\"dollar\"] \n",
    "    if num:\n",
    "        if comma: return f\"{dollar}{round(int(float(value)),decimal):,} {percent}\" \n",
    "        else: return f\"{round(int(float(value)),decimal):} {percent}\" \n",
    "        \n",
    "    else: return f\"{dollar}{value}\"\n",
    "    \n",
    "def shorten(num, precision=2, suffixes=['', 'K', 'M', 'G', 'T', 'P']):\n",
    "    if num < 1:\n",
    "        return num  # avoid dividing by 0 or negatives\n",
    "    m = int(log10(num) // 3)\n",
    "    return f'{num/1000.0**m:.{precision}f}{suffixes[m]}'\n",
    "              \n",
    "def textAnnotationV(ax, modifyAxisText = False, precision = 2, textParams={\"percent\":\"\",\"dollar\":\"\"},**kwargs): \n",
    "    for bar in ax.patches:\n",
    "        height = bar.get_height()\n",
    "        position = bar.get_x()\n",
    "        centerOfBarWidth = bar.get_width()/2\n",
    "        s = textFormat(textParams,shorten(height,precision=precision)) if modifyAxisText else textFormat(textParams,height)\n",
    "        ax.text(( position + centerOfBarWidth), height,s, **kwargs)\n",
    "        \n",
    "def textAnnotationH(ax,modifyAxisText = False,precision=2,textParams={\"percent\":\"\",\"dollar\":\"\"},**kwargs):\n",
    "    for bar in ax.patches:\n",
    "        x = bar.get_height()/2+ bar.get_width()\n",
    "        y = bar.get_y()+ bar.get_height()/2\n",
    "        s = textFormat(textParams,shorten(bar.get_width(),precision=precision)) if modifyAxisText else textFormat(textParams,bar.get_width())\n",
    "        ax.text(x,y,s, **kwargs)"
   ]
  },
  {
   "cell_type": "code",
   "execution_count": 45,
   "metadata": {
    "colab": {
     "base_uri": "https://localhost:8080/",
     "height": 364
    },
    "colab_type": "code",
    "id": "cLEQcLW-qocs",
    "outputId": "52ba09c3-67f0-46ea-ca5c-b79b70de5bad"
   },
   "outputs": [
    {
     "data": {
      "image/png": "[encoded data removed]",
      "text/plain": [
       "<Figure size 1080x360 with 1 Axes>"
      ]
     },
     "metadata": {},
     "output_type": "display_data"
    }
   ],
   "source": [
    "fig = plt.figure(figsize=(15, 5))\n",
    "ax = plt.gca()\n",
    "ax.bar(x=list(map(turnIntoAMPM, hourOrders.index)),\n",
    "       height=hourOrders['orderID'], color='#00A5B8')\n",
    "modifyChartBasic(ax, '', 13)\n",
    "ax.set_yticklabels([])\n",
    "ax.spines['left'].set_visible(False)  # left spine and ticks off\n",
    "ax.spines['bottom'].set_linewidth(3)\n",
    "ax.spines['bottom'].set_color('silver')  # bottom spine adjustments\n",
    "\n",
    "# for average line\n",
    "Mean = hourOrders.mean() .iloc[0]\n",
    "plt.axhline(Mean, color='gray', linestyle='--')\n",
    "plt.text(ax.patches[-2].get_x()+.05, Mean+50,\n",
    "         f'Mean: {int(Mean):,}', color='#8a8a8d', fontsize=14)\n",
    "\n",
    "# annotation bars with their respective values\n",
    "for bar in ax.patches:\n",
    "    # gray bar if value less than mean\n",
    "    bar.set_color('#00A5B8' if bar.get_height() > Mean else 'silver')\n",
    "    plt.text((bar.get_x() + bar.get_width() / 2), bar.get_height(), s=f'{bar.get_height():,}',\n",
    "             ha='center', va='bottom', fontsize=14, color='black' if bar.get_height() > Mean else '#8a8a8d')\n",
    "# gray tick labels if value less than mean\n",
    "[ax.get_xticklabels()[i].set_color('#8a8a8d')\n",
    " if rec.get_height() < Mean else 'black' for i, rec in zip(range(len(ax.patches)), ax.patches)]\n",
    "\n",
    "plt.title(\"For the year, what hour did customers make the most orders?\",\n",
    "          fontsize=18, y=1.08, fontweight='semibold')\n",
    "plt.show()"
   ]
  },
  {
   "cell_type": "markdown",
   "metadata": {
    "colab_type": "text",
    "id": "5PgYyAUIqocz"
   },
   "source": [
    "- In terms of purchases, 12 to 2 pm are the online store's peak hours. \n",
    "- The company can expect most revenue to have been made during 10 am to 4 pm. \n",
    "\n",
    "(**Note:** may differ given timezone differences; shows distribution based on **time log of software**)"
   ]
  },
  {
   "cell_type": "markdown",
   "metadata": {
    "colab_type": "text",
    "id": "mujLLCJyqoc0"
   },
   "source": [
    "Who are the top paying customers and how much $ did they spend over the year?"
   ]
  },
  {
   "cell_type": "code",
   "execution_count": 46,
   "metadata": {
    "colab": {
     "base_uri": "https://localhost:8080/",
     "height": 331
    },
    "colab_type": "code",
    "id": "1x7mdkt0qoc5",
    "outputId": "d9933781-0144-4027-a50a-9d44c71307b9",
    "scrolled": false
   },
   "outputs": [
    {
     "name": "stdout",
     "output_type": "stream",
     "text": [
      "Total revenue $8,453,539 Customers: 3851\n"
     ]
    },
    {
     "data": {
      "image/png": "[encoded data removed]",
      "text/plain": [
       "<Figure size 1080x504 with 1 Axes>"
      ]
     },
     "metadata": {},
     "output_type": "display_data"
    }
   ],
   "source": [
    "fig, ax = plt.subplots(figsize=(15, 7))\n",
    "(transactionHistory.groupby(\"customerID\")  # unique customers\n",
    " .agg({\"totalPrice\": \"sum\"})  # total dollar spent\n",
    " .sort_values(\"totalPrice\").tail(50)  # sorted -> top 50\n",
    " # in ascending order by dollars spent\n",
    " .sort_values('totalPrice', ascending=False)\n",
    " # bar plot\n",
    " .plot.bar(ax=ax, color='#00A5B8' if i != 0 else '#C6CD23', legend=False)\n",
    " )\n",
    "plt.fill_between((0, 9.3), ax.get_yticks()[-1], 0, color='cyan', alpha=0.2)\n",
    "\n",
    "# Text variables for plot\n",
    "top10Revenue = f'${sum([i.get_height() for i in ax.patches[:10]]):,.0f}'\n",
    "otherTopRevenue = f'${sum([i.get_height() for i in ax.patches[10:]]):,.0f}'\n",
    "val, labels = [top10Revenue, otherTopRevenue], [\n",
    "    'Top 10 Customers\\n  Revenue:', 'Top 11-50 Customers\\n  Revenue']\n",
    "cor = [(4, ax.patches[4].get_height()), (32, ax.patches[32].get_height())]\n",
    "# plotting text\n",
    "[plt.text(x=xy[0]-3, y=xy[1]+100000, s=f\"{label} {val}\", color='black', fontsize=15,\n",
    "          fontweight='bold',) for val, xy, label in zip(val, cor, labels)]\n",
    "# extra adjustments\n",
    "maxValue = max([(patch.get_height(), patch)  # value, child (ie. spine, rectangle)\n",
    "                for patch in ax.get_children()\n",
    "                if type(patch) == matplotlib.patches.Rectangle], key=lambda x: x[0])[0]\n",
    "modifyChartBasic(ax, 'Top 50 Paying Customers (12/7/18 - 12/7/19)', 13,\n",
    "                 titleSize=20, xLabel=\"Customer ID\", yLabel='Revenue $(USD)')\n",
    "modifyChartExtra(ax, grid='y', maxs=maxValue,\n",
    "                 grayTickLabels=True, highlightTop=True)\n",
    "\n",
    "# x and y tick labels with text annotation for last bar\n",
    "ax.set_yticklabels([f\"${human_format(i,precision=0)}\" for i in ax.get_yticks()[\n",
    "                   :-1]]+[f'${ax.get_yticks()[-1]:,.0f}'])\n",
    "# turn into integer rather than float\n",
    "ax.set_xticklabels([int(float(i.get_text())) for i in ax.get_xticklabels()])\n",
    "plt.text(ax.patches[-1].get_x(), ax.patches[-1].get_height(),\n",
    "         f\"${ax.patches[-1].get_height():,.0f}\", fontweight='bold')\n",
    "\n",
    "plt.tight_layout()\n",
    "print(f\"Total revenue ${transactionHistory.totalPrice.sum().sum():,.0f}\",\n",
    "      'Customers:', transactionHistory['customerID'].nunique())"
   ]
  },
  {
   "cell_type": "code",
   "execution_count": 47,
   "metadata": {},
   "outputs": [
    {
     "data": {
      "text/plain": [
       "'$2,469,057'"
      ]
     },
     "execution_count": 47,
     "metadata": {},
     "output_type": "execute_result"
    }
   ],
   "source": [
    "f'${int(top10Revenue.replace(\",\",\"\").replace(\"$\",\"\"))+int(otherTopRevenue.replace(\",\",\"\").replace(\"$\",\"\")):,.0f}'"
   ]
  },
  {
   "cell_type": "markdown",
   "metadata": {
    "colab_type": "text",
    "id": "MPuuQ3cKqodB"
   },
   "source": [
    "- **Top 50 customers** made up **almost 30%** (~\\\\$2.5 mil) of **total revenue** (~\\\\$8.45 mil). The rest of the customers (n =3,801) brought in the other 70% of purchases. \n",
    "    - It's very likely that these stores are wholesalers and as such should deserve more attention from the company.\n",
    "- Top 10 customers brought  ~\\\\$1.15 mil whilst the others top 40 brought in ~\\\\$1.30 mil. \n",
    "- Customers **`18102 and 17450`** should be given special consideration based of their yearly revenue brought in by their purchases (total sum around ~**\\\\$550k**). "
   ]
  },
  {
   "cell_type": "markdown",
   "metadata": {},
   "source": [
    "<a id='5'></a>"
   ]
  },
  {
   "cell_type": "markdown",
   "metadata": {
    "colab_type": "text",
    "id": "yBmRFzpMqodp"
   },
   "source": [
    "# 5. Product Category Clustering - EDA (continue edit here)"
   ]
  },
  {
   "cell_type": "markdown",
   "metadata": {},
   "source": [
    "Let's now shift our attention to exploring the products by creating categories out of them. It should be noted that this will be for exploratory analyses only due to computational constraints. Nonetheless, this section should provide a rough summary of the product and their categories."
   ]
  },
  {
   "cell_type": "markdown",
   "metadata": {},
   "source": [
    "Let's start by looking at words in the description columns to look for ways to pre-process it."
   ]
  },
  {
   "cell_type": "code",
   "execution_count": 48,
   "metadata": {
    "colab": {
     "base_uri": "https://localhost:8080/",
     "height": 55
    },
    "colab_type": "code",
    "id": "nJmBw-Tmqod5",
    "outputId": "269c7fec-6f3d-410a-8b01-6baefabcd71c"
   },
   "outputs": [
    {
     "name": "stdout",
     "output_type": "stream",
     "text": [
      "['HOMEMADE', 'JAM', 'SCENTED', 'CANDLES', 'OCEAN', 'SCENT', 'CANDLE', 'IN', 'JEWELLED', 'BOX', 'CREAM', 'SWEETHEART', 'MINI', 'CHEST', 'WOOD', '2', 'DRAWER', 'CABINET', 'WHITE', 'FINISH', 'S/3', 'ANT', 'GRAND', 'CHOCOLATECANDLE', 'SET/3', 'ROSE', 'JEWEL', 'VANILLA', 'NATURAL', 'SLATE', 'HEART', 'CHALKBOARD', 'HOME', 'BUILDING', 'BLOCK', 'WORD', 'WOODEN', 'PICTURE', 'FRAME', 'ANTIQUE', 'GAOLERS', 'KEYS', 'DECORATIVE', 'GARDEN', 'GLASS', 'STAR', 'FROSTED', 'T-LIGHT', 'HOLDER', 'CINNAMON', 'VOTIVE', 'ORANGE', 'IVORY', 'LOVE', 'BIRD', 'BLACK', 'SILVER', 'LATTICE', 'POT', 'S/4', 'BOWL', 'CUT', 'OCTAGON', 'CLOCHE', 'SMALL', 'COLOUR', 'GLASS.', 'SQUARE', 'CANDLESTICK', 'DECORATION', 'ALL', 'TRELLIS', 'CANDLEPOT', 'GREY', 'HOT', 'WATER', 'BOTTLE', 'SET/6', 'S/15', 'BAUBLES', 'BAG', 'SOAP', 'DISH', 'BROCANTE', 'CHRISTMAS', 'METAL', 'TAGS', 'ASSORTED', 'LARGE', 'RED', 'BABY', 'BUNTING', 'HANGING', 'LANTERN', 'ALARM', 'CLOCK', 'BAKELIKE', 'GREEN', 'ROUND', 'CAKE', 'TIN', 'VINTAGE', 'OF', 'WICKER', '3', 'HEARTS', 'RUSTIC', 'PARTY', 'WREATH', 'PINK', 'MAGIC', 'TREE', 'FELTCRAFT', 'HAIRBAND', 'AND', 'PURPLE', 'HAIRBANDS', 'BLUE', 'CARAVAN', 'DOORSTOP', 'FAIRY', 'CHILDRENS', 'APRON', 'SPACEBOY', 'DESIGN', 'JUMBO', 'OWLS', 'LIGHTS', '10', 'REINDEER', 'SHOPPER', 'PAISLEY', 'STORAGE', 'SKULLS', 'RETROSPOT', 'SCANDINAVIAN', 'DOLLY', 'GIRL', 'MAKING', 'SET', 'WITH', 'JARS', 'FUNKY', 'DIVA', 'PEN', 'HERB', 'MARKER', 'MINT', 'ROTATING', 'ANGELS', 'HLDR', 'LEAVES', 'STOCKING', 'SCANDISPOT', 'ROCKING', 'HORSE', '60', 'CASES', 'PACK', '72', 'TOILET', 'ROLL', 'RIBBON', 'REEL', 'LACE', 'TEATIME', 'MERRY', 'CHIVES', 'THYME', 'PARSLEY', 'ROSEMARY', 'BASIL', 'I', 'CAN', 'ONLY', 'PLEASE', 'ONE', 'PERSON', 'MUG', 'REDS', 'RIBBONS', 'PATCH', 'PURSE', '36', 'FOIL', 'BABUSHKA', 'NOTEBOOK', 'YELLOW', 'GAZEBO', 'RETRO', 'COFFEE', 'MUGS', 'SKULL', 'WOOLLY', 'HOTTIE', 'HEART.', 'SET/4', 'SPRING', 'FLOWER', 'CIRCULAR', 'MOBILE', 'ASS', 'COL', 'CIRCLE', 'DOMINOES', 'TUBE', 'CHIME', 'ON', 'BAMBOO', 'WIRE', 'SPIRAL', 'AIRLINE', 'TOKYO', '78', '20', 'NAPKINS', 'BATHS', 'SIGN', \"I'M\", 'HOLIDAY', 'GINGHAM', 'JEWELLERY', 'LUNCH', 'CARS', 'CERAMIC', 'CHERRY', 'MONEY', 'BANK', 'OWL', 'SOFT', 'TOY', '12', 'PENCILS', 'GROW', 'YOUR', 'OWN', 'ENAMEL', 'PICNIC', 'BASKET', 'CARDHOLDER', 'HOLLY', 'BAROQUE', 'POLKADOT', 'STRAWBERRY', 'RIBS', 'LAMPSHADE', '6', '3D', 'KIT', 'CARDS', 'FOR', 'KIDS', 'COAT', 'RACK', 'PARIS', 'FASHION', 'GIANT', 'THERMOMETER', 'BALLOON', 'ART', 'MAKE', 'FLOWERS', '4', 'NAPKIN', 'CHARMS', 'TAKE', 'IT', 'OR', 'LEAVE', 'MESSAGE', 'ENVELOPES', 'EMPIRE', 'TEA', \"YOU'RE\", 'CONFUSING', 'ME', 'BINGO', 'COOK', 'WINE', 'SNAP', 'SLICE', 'FLANNEL', 'SPOT', 'BATH', 'SPONGE', 'PUMP', 'BALLOONS', 'CAT', 'FOOD', 'CONTAINER', '125g', 'SWIRLY', 'MARBLES', 'ZINC', 'CUTLERY', 'CHALK', 'STICKS', 'PLASTERS', 'CIRCUS', 'PARADE', 'TRAVEL', 'SEWING', 'HAND', 'WARMER', 'CHOCOLATE', 'THIS', 'WAY', 'PIZZA', 'PLATE', 'HEADS', 'TAILS', 'SPORTING', 'FUN', 'CARD', 'GAME', 'AREA', 'PATROLLED', 'LONDON', 'CUPCAKE', 'PAPER', 'KNITTED', 'UNION', 'FLAG', 'DOORMAT', 'TABLE', 'LAMP', 'SHADE', 'BASE', 'A5', 'SIZE', 'DRESSING', 'TOWEL', 'CLASSIC', 'FLORAL', 'SHOULDER', 'ENGLISH', 'MOROCCAN', 'PEACE', 'LETTERS', 'TOTE', 'TOWELS', 'CIGAR', 'MATCHES', 'ENCHANTED', 'FOREST', 'PLACEMAT', 'BOXES', 'PANNETONE', 'DOILIES', 'TRADITIONAL', 'MODELLING', 'CLAY', 'ADVENT', 'CALENDAR', 'SACK', 'SHAPE', 'CUP', 'CHARLOTTE', 'APPLES', 'CHICK', 'OVEN', 'MITT', 'ANGEL', 'CHILLI', 'SET/5', 'LID', 'BOWLS', 'SCOTTIE', 'DOG', 'CUPID', 'HANGER', 'PHOTO', 'CLIP', 'ROPE', 'LADDER', 'PLASTIC', 'DAISY', 'TRAY', 'POLKA', \"70'S\", 'CHAIN', \"50'S\", 'BATHROOM', 'CRAFT', 'LITTLE', 'FRIENDS', 'FOUR', 'HOOK', 'LOVEBIRDS', 'PRINT', 'MIX', 'GINGERBREAD', 'MAN', 'COOKIE', 'CUTTER', 'SANDWICH', 'RECIPE', 'PANTRY', 'STAND', 'DAIRY']\n"
     ]
    }
   ],
   "source": [
    "counts = count_values(transactionHistory['description'].apply(lambda x: x.split()).reset_index(), 'description')\n",
    "print([val for val in counts.keys()][:400])"
   ]
  },
  {
   "cell_type": "markdown",
   "metadata": {
    "colab_type": "text",
    "id": "fMAD26SQqod_"
   },
   "source": [
    "We can see that there seems to be some words that may be filtered out. I decided to filter out special characters, colors, and numbers from the description columns. "
   ]
  },
  {
   "cell_type": "code",
   "execution_count": 49,
   "metadata": {
    "colab": {},
    "colab_type": "code",
    "id": "xNKiuej3qoeB"
   },
   "outputs": [],
   "source": [
    "charsToSkip = \"!@#$%^&*()[]{};:,./<>?\\|`~-=_+\"\n",
    "rePattern = ['pink', 'blue', 'grey', 'brown', 'purple',\n",
    "             'black', 'red', 'green', 'orange', 'white', '[0-9]']\n",
    "\n",
    "\n",
    "def removeSelectWords(strings):\n",
    "    \"\"\"\n",
    "    Remove special characters, colors, and numbers from word decription\n",
    "    \"\"\"\n",
    "    newString = strings.translate({ord(c): \"\" for c in charsToSkip}).strip()\n",
    "    for pattern in rePattern:\n",
    "        newString = re.sub(pattern, '', newString).strip()\n",
    "    return ''.join(newString)"
   ]
  },
  {
   "cell_type": "markdown",
   "metadata": {
    "colab_type": "text",
    "id": "gF_Z8I4xqoeT"
   },
   "source": [
    "Now let's filter out the special characters and words defined above."
   ]
  },
  {
   "cell_type": "code",
   "execution_count": 50,
   "metadata": {
    "colab": {},
    "colab_type": "code",
    "id": "9Cef0a29qoeU"
   },
   "outputs": [],
   "source": [
    "transactionHistory['description'] =transactionHistory['description'].apply(lambda x: removeSelectWords(x.lower()))"
   ]
  },
  {
   "cell_type": "markdown",
   "metadata": {},
   "source": [
    "Next up, we'll filter out English stop words from the column as they won't provide any relevance when grouping the categories together."
   ]
  },
  {
   "cell_type": "code",
   "execution_count": 51,
   "metadata": {},
   "outputs": [],
   "source": [
    "# setting stop words\n",
    "stop_words = set(stopwords.words('english'))\n",
    "\n",
    "# removing stop words\n",
    "words = transactionHistory['description'].apply(\n",
    "    lambda words: [w for w in words.split() if not w in stop_words])\n",
    "\n",
    "# initialize the wordnet lemmatizer\n",
    "wordnet_lemma = WordNetLemmatizer()\n",
    "\n",
    "# lemmatize nouns\n",
    "lemmas = words.apply(\n",
    "    lambda x: [wordnet_lemma.lemmatize(w, pos='n') for w in x])\n",
    "\n",
    "# join preprocessed words back together and save as words in dataframe\n",
    "transactionHistory['words'] = lemmas.str.join(' ')"
   ]
  },
  {
   "cell_type": "markdown",
   "metadata": {},
   "source": [
    "**At this stage, no assumptions in K-Means was checked -> sorry Anastasia, was in a hurry to turn in after taking a long time**\n",
    "\n",
    "For clustering, we will be using Facebook's fastText library to train an unsupervised classifier (no labels-target variable). From there, we will be using the output from this model to cluster the words using the K-means algorithm.\n",
    "\n",
    "Per Facebook's fastText library description, the library is used \"for efficient learning of word representations and sentence classification.\" Explaining the classifier is not within my current knowledge but I thought I'd attach their code reference:\n",
    "\n",
    "train_unsupervised: \n",
    "\n",
    "    \"\"\"\n",
    "    Train an unsupervised model and return a model object.\n",
    "    input must be a filepath. The input text does not need to be tokenized\n",
    "    as per the tokenize function, but it must be preprocessed and encoded\n",
    "    as UTF-8. You might want to consult standard preprocessing scripts such\n",
    "    as tokenizer.perl mentioned here: http://www.statmt.org/wmt07/baseline.html\n",
    "    The input field must not contain any labels or use the specified label prefix\n",
    "    unless it is ok for those words to be ignored. For an example consult the\n",
    "    dataset pulled by the example script word-vector-example.sh, which is\n",
    "    part of the fastText repository.\n",
    "    \"\"\"\n",
    "    \n",
    " See <a href=\"https://fasttext.cc/docs/en/unsupervised-tutorial.html\">docs</a> for more information."
   ]
  },
  {
   "cell_type": "markdown",
   "metadata": {},
   "source": [
    "## 5.1  Clustering"
   ]
  },
  {
   "cell_type": "markdown",
   "metadata": {},
   "source": [
    "# saving preprocessed words column to a text file in utf-8\n",
    "with open('file.txt', 'a') as f:\n",
    "    f.write(transactionHistory['words'].to_csv(\n",
    "        header=False, index=False, encoding=\"utf-8\"))\n",
    "# training with vectors set at a size of 300 dimensions\n",
    "ft_model = fasttext.train_unsupervised('file.txt', dim=300)\n",
    "# get vectors\n",
    "transactionHistory['vec'] = transactionHistory['words'].apply(\n",
    "    lambda x: ft_model.get_sentence_vector(x))\n",
    "# save as X for elbow plot\n",
    "X = np.asarray(list(transactionHistory['vec'].values))"
   ]
  },
  {
   "cell_type": "markdown",
   "metadata": {},
   "source": [
    "Next, since the K-means model is unsupervised and hence performance can be difficult to quantify, we'll go ahead and use the commonly used elbow method to attempt to define our starting cluster (K) for use in the K means model. \n",
    "\n",
    "For obtaining the plot values:\n",
    "1. Loop over 2 to 11 Ks (clusters) (center points of K selected at random)\n",
    "2. Save the intertia/within-cluster sum-of-squares (sum of distance for each point to its cluster center)\n",
    "3. Plot a scatterplot (x will be K and y will be intertia score)\n",
    "4. Choose the elbow (or point where curve start converting into line) as K  ; adding a cluster won't give as much improvement in modeling of the data."
   ]
  },
  {
   "cell_type": "markdown",
   "metadata": {},
   "source": [
    "distortions = []\n",
    "K = range(2, 11)\n",
    "for k in K:\n",
    "    kmeanModel = KMeans(n_clusters=k)\n",
    "    kmeanModel.fit(X)\n",
    "    distortions.append(kmeanModel.inertia_)\n",
    "\n",
    "# Plot the elbow\n",
    "plt.plot(K, distortions, 'bx-')\n",
    "plt.xlabel('k')\n",
    "plt.ylabel('Distortion')\n",
    "plt.title('The Elbow Method showing the optimal k')\n",
    "plt.show()"
   ]
  },
  {
   "cell_type": "markdown",
   "metadata": {},
   "source": [
    "Based on the plot, we'll be using 5 clusters as it looks like the closest to the middle.\n"
   ]
  },
  {
   "cell_type": "markdown",
   "metadata": {},
   "source": [
    "kmeans = KMeans(5)\n",
    "transactionaHistory['clusters'] = kmeans.fit_predict(\n",
    "    X)  # vectorized words from text classifier\n",
    "transactionHistory['clusters'] = transactionHistory['clusters'].apply(\n",
    "    lambda x: x+1)\n",
    "[transactionHistory['clusters'].value_counts(\n",
    "    normalize=i).sort_values(ascending=False) for i in [True, False]]"
   ]
  },
  {
   "cell_type": "markdown",
   "metadata": {},
   "source": [
    "Roughly 40% of products got placed into the 4th and 6th clusters. We'll keep this in mind for further analysis."
   ]
  },
  {
   "cell_type": "markdown",
   "metadata": {},
   "source": [
    "Let's take a look at the clusters that were formed using wordclouds."
   ]
  },
  {
   "cell_type": "markdown",
   "metadata": {
    "colab": {
     "base_uri": "https://localhost:8080/",
     "height": 1000
    },
    "colab_type": "code",
    "id": "xjJrawY0qofn",
    "outputId": "6b4ecf6c-081c-4360-f999-8f629ce90bf0"
   },
   "source": [
    "fig, ax = plt.subplots(nrows=3, ncols=2, figsize=(15, 15))\n",
    "axes = [(row, col) for row in range(3) for col in range(2)]\n",
    "for clust, i in zip(sorted(list(transactionHistory['clusters'].unique())), axes):\n",
    "    cluster = transactionHistory.query(\"clusters==@clust\")['words'].to_list()\n",
    "    text = ' '.join(cluster)\n",
    "    # lower max_font_size, change the maximum number of word and lighten the background:\n",
    "    wordcloud = WordCloud(scale=3).generate(text)\n",
    "    # Display the generated image:\n",
    "    plt.sca(ax[i])\n",
    "    plt.imshow(wordcloud)\n",
    "    plt.axis(\"off\")\n",
    "    plt.title(f'Cluster: {clust}', fontsize=18, y=1.01)\n",
    "ax[axes[-1]].set_axis_off()\n",
    "plt.tight_layout()"
   ]
  },
  {
   "cell_type": "markdown",
   "metadata": {
    "colab_type": "text",
    "id": "a2bgfVc-qof2"
   },
   "source": [
    "Roughly speaking, the clusters seem to be characterized by\n",
    "- Cluster 1: Holiday items (card, Christmas, ribbon)\n",
    "- Cluster 2: Bags or purses\n",
    "- Cluster 3: Home signs (metal sign,'keep calm' sign, 'home sweet home') \n",
    "- Cluster 4: Pantry items (cake, coffee mug)\n",
    "- Cluster 5: Home decoration (wicker heart, hanging heart)\n",
    "- Cluster 6: Other (water bottle,alarm clock etc)."
   ]
  },
  {
   "cell_type": "markdown",
   "metadata": {},
   "source": [
    "clusterAgg = transactionHistory.groupby(['clusters']).agg(\n",
    "    {\"quantity\": \"sum\", \"totalPrice\": \"sum\"})"
   ]
  },
  {
   "cell_type": "markdown",
   "metadata": {},
   "source": [
    "fig, ax = plt.subplots(ncols=2, nrows=2, figsize=(16, 7))\n",
    "clusterAgg['quantity'].plot.bar(\n",
    "    ax=ax[1, 0], rot=0, color='#C6CD23')  # quantity\n",
    "clusterAgg['totalPrice'].plot.bar(\n",
    "    ax=ax[0, 0], rot=0, color='#00A5B8')  # revenue\n",
    "(clusterAgg['totalPrice'] / clusterAgg['quantity']\n",
    " ).plot.bar(ax=ax[0, 1], rot=0, legend=False, color='#00A5B8')\n",
    "\n",
    "[ax[i].set_yticklabels([f'${human_format(val,precision=1)}' for val in ax[i].get_yticks()])\n",
    " for i in [(0, 0), (0, 1)]]  # total revenue\n",
    "[ax[1, 0].set_yticklabels([human_format(val, precision=0)\n",
    "                           for val in ax[1, 0].get_yticks()])]  # quantity\n",
    "\n",
    "[ax[1, 0].text(rec.get_x(), rec.get_height(), f'{rec.get_height():,.0f}',\n",
    "               fontsize=13, fontweight='bold') for rec in ax[1, 0].patches]\n",
    "[[ax[i].text(rec.get_x(), rec.get_height(), f'${round(rec.get_height(),precision):,}',\n",
    "             fontsize=13, fontweight='bold') for rec in ax[i].patches] for i, precision in zip([(0, 0), (0, 1)], [0, 2])]\n",
    "\n",
    "[modifyChartBasic(ax[i], text, 13, titleSize=18, xLabel='Cluster', yLabel=' '.join(text.split()[1:3]))\n",
    "    for text, i in zip(['Total Revenue', 'Avg. Unit Price Per Product Cluster', 'Total Items Bought'], [(0, 0), (0, 1), (1, 0)])]\n",
    "[modifyChartExtra(ax[i], grid='y') for i in [(0, 0), (1, 0), (0, 1)]]\n",
    "\n",
    "plt.suptitle(\n",
    "    'Transactions From: 12/07/18 - 12/07/19 By Product Clusters', fontsize=20, y=1.10)\n",
    "ax[(1, 1)].axis('off')\n",
    "plt.tight_layout()"
   ]
  },
  {
   "cell_type": "code",
   "execution_count": 52,
   "metadata": {},
   "outputs": [
    {
     "data": {
      "text/plain": [
       "0.4700000000000002"
      ]
     },
     "execution_count": 52,
     "metadata": {},
     "output_type": "execute_result"
    }
   ],
   "source": [
    "2.79 - 2.32"
   ]
  },
  {
   "cell_type": "markdown",
   "metadata": {},
   "source": [
    "Without info on costs, here's a short albeit limited analysis on our clusters. On the aggregate level:\n",
    "- Products in cluster 6,on average cost ~\\\\$.47 to \\\\$1 more relative to the other clusters. The impact of this shows in the total revenue and items bough chart: Cluster 5 and 6 had roughly the same amount of quantity of items sold but cluster 6 saw more than \\\\$470k in revenue relative to cluster 5.\n",
    "- Cluster 1 seems to contain products with the lowest price per item.\n",
    "- Clusters 4 and 6 in terms of revenue, are the most valuable for the company. "
   ]
  },
  {
   "cell_type": "markdown",
   "metadata": {
    "colab": {},
    "colab_type": "code",
    "id": "MTecH3pPcIf2"
   },
   "source": [
    "Let's create a bar plot for the top 25 customers to see which clusters brought in the most revenue amongst them."
   ]
  },
  {
   "cell_type": "markdown",
   "metadata": {},
   "source": [
    "categoryPurchases = transactionHistory.pivot_table(\n",
    "    index='customerID', columns='clusters', values='totalPrice', aggfunc='sum').fillna(0).assign(All=lambda x: x.mean(1))\n",
    "fig, ax = plt.subplots(figsize=(20, 7))\n",
    "chart = (categoryPurchases.apply(lambda x: x.sort_values().values)  # sorted across all columns\n",
    "         .tail(25).iloc[::-1]  # sorted in descending order\n",
    "         .plot.bar(ax=ax, width=.80, rot=0))\n",
    "\n",
    "modifyChartBasic(ax, 'Total Purchases ($) Per Category For Top 25 Customers', 13,\n",
    "                 xLabel='Customer Rank', yLabel='USD ($)', titleSize=20)\n",
    "maxs = max([chart.patches[i].get_height() for i in range(len(chart.patches))])\n",
    "modifyChartExtra(ax, maxs=maxs, grid='y')\n",
    "ax.set_xticklabels([int(i)+1 for i in ax.get_xticks()])\n",
    "ax.set_yticklabels(\n",
    "    [f'${human_format(i,precision=1)}' for i in ax.get_yticks()])\n",
    "\n",
    "plt.show()"
   ]
  },
  {
   "cell_type": "markdown",
   "metadata": {
    "colab_type": "text",
    "id": "Cc7AlPrEqogD"
   },
   "source": [
    "- For the top customer, cluster 6 bring in the most revenue. Given the large revenue contribution, this may have affected the charts seen in the previous step. For that customer, the company should consider tailoring their offers around products in the cluster 6.\n",
    "- For the other top customers, clusters 4 and 6 yielded the most revenue reflecting the observations seen in the chart earlier."
   ]
  },
  {
   "cell_type": "markdown",
   "metadata": {},
   "source": [
    "<a id='6'></a>"
   ]
  },
  {
   "cell_type": "markdown",
   "metadata": {
    "colab_type": "text",
    "id": "swwp6ORzqogL"
   },
   "source": [
    "# 6. RFM Modeling"
   ]
  },
  {
   "cell_type": "markdown",
   "metadata": {},
   "source": [
    "To segment the customers, we'll be using the RFM model.RFM segmentation is a method of identifying the most important types of customers by grouping them and giving scores to their recency, frequency and monetary values. \n",
    "\n",
    "Definitions: \n",
    "- Recency = Latest Date - Last Invoice Data (**days since last purchase**)\n",
    "- Frequency = number of transactions (**orders**)\n",
    "- Monetary = Sum of **total purchases ($)**\n",
    "\n",
    "In a nutshell, RFM is based on the Pareto principle (20% of customers make 80% of purchases) and states that customers who purchased recently, more frequently, and in larger monetary amounts, are more likely to respond to one's marketing campaigns and have higher customer lifetime values than those who have the opposite purchasing behavior(low RFM values). (see Reference 8 -> Charlotte Mason, 2003, University of North Carolina).\n",
    "\n",
    "The three aforementioned variables are strong indicators of a customer's future value and is commonly used to segment users/customers. For this case, such a model fits the problem as the aim is to identify the most valuable customers as well as to develop a more nuanced marketing strategy through the resulting customer segments."
   ]
  },
  {
   "cell_type": "code",
   "execution_count": 53,
   "metadata": {
    "colab": {},
    "colab_type": "code",
    "id": "sEuCo5M1qogl"
   },
   "outputs": [
    {
     "data": {
      "text/html": [
       "<div>\n",
       "<style scoped>\n",
       "    .dataframe tbody tr th:only-of-type {\n",
       "        vertical-align: middle;\n",
       "    }\n",
       "\n",
       "    .dataframe tbody tr th {\n",
       "        vertical-align: top;\n",
       "    }\n",
       "\n",
       "    .dataframe thead th {\n",
       "        text-align: right;\n",
       "    }\n",
       "</style>\n",
       "<table border=\"1\" class=\"dataframe\">\n",
       "  <thead>\n",
       "    <tr style=\"text-align: right;\">\n",
       "      <th></th>\n",
       "      <th>customerID</th>\n",
       "      <th>Recency</th>\n",
       "      <th>Frequency</th>\n",
       "      <th>Monetary</th>\n",
       "    </tr>\n",
       "  </thead>\n",
       "  <tbody>\n",
       "    <tr>\n",
       "      <th>0</th>\n",
       "      <td>12747.0</td>\n",
       "      <td>2</td>\n",
       "      <td>96</td>\n",
       "      <td>4894.706633</td>\n",
       "    </tr>\n",
       "    <tr>\n",
       "      <th>1</th>\n",
       "      <td>12748.0</td>\n",
       "      <td>0</td>\n",
       "      <td>4019</td>\n",
       "      <td>37587.244898</td>\n",
       "    </tr>\n",
       "    <tr>\n",
       "      <th>2</th>\n",
       "      <td>12749.0</td>\n",
       "      <td>3</td>\n",
       "      <td>199</td>\n",
       "      <td>5217.959184</td>\n",
       "    </tr>\n",
       "    <tr>\n",
       "      <th>3</th>\n",
       "      <td>12820.0</td>\n",
       "      <td>3</td>\n",
       "      <td>59</td>\n",
       "      <td>1201.964286</td>\n",
       "    </tr>\n",
       "    <tr>\n",
       "      <th>4</th>\n",
       "      <td>12821.0</td>\n",
       "      <td>214</td>\n",
       "      <td>6</td>\n",
       "      <td>118.265306</td>\n",
       "    </tr>\n",
       "  </tbody>\n",
       "</table>\n",
       "</div>"
      ],
      "text/plain": [
       "   customerID  Recency  Frequency      Monetary\n",
       "0     12747.0        2         96   4894.706633\n",
       "1     12748.0        0       4019  37587.244898\n",
       "2     12749.0        3        199   5217.959184\n",
       "3     12820.0        3         59   1201.964286\n",
       "4     12821.0      214          6    118.265306"
      ]
     },
     "execution_count": 53,
     "metadata": {},
     "output_type": "execute_result"
    }
   ],
   "source": [
    "latestDate = transactionHistory['day'].max()\n",
    "\n",
    "# Creating RFM Modelling scores for each customer\n",
    "RFMScores = transactionHistory.groupby('customerID').agg(\n",
    "    {'day': lambda x: (latestDate - x.max()).days,  # dys since last purchase\n",
    "     \"orderID\": 'count',  # total number of transactions\n",
    "     'totalPrice': lambda x: x.sum()})  # total revenue\n",
    "\n",
    "# Convert Invoice Date into type int\n",
    "RFMScores['day'] = RFMScores['day'].astype(int)  # converting day as integer\n",
    "\n",
    "# Rename column names to Recency, Frequency and Monetary\n",
    "RFMScores.rename(columns={'day': 'Recency',\n",
    "                          'orderID': 'Frequency',\n",
    "                          'totalPrice': 'Monetary'}, inplace=True)\n",
    "\n",
    "RFMScores.reset_index().head()"
   ]
  },
  {
   "cell_type": "markdown",
   "metadata": {},
   "source": [
    "Let's check the distributions of our customers."
   ]
  },
  {
   "cell_type": "code",
   "execution_count": 54,
   "metadata": {
    "colab": {},
    "colab_type": "code",
    "id": "JGa2YYYrqogx",
    "outputId": "00dc6b05-3ec1-45c3-8a99-c1f4ecc3851a"
   },
   "outputs": [
    {
     "data": {
      "image/png": "[encoded data removed]",
      "text/plain": [
       "<Figure size 1080x720 with 3 Axes>"
      ]
     },
     "metadata": {
      "needs_background": "light"
     },
     "output_type": "display_data"
    }
   ],
   "source": [
    "fig, ax = plt.subplots(figsize=(15, 10), nrows=3)\n",
    "sns.distplot(RFMScores['Recency'], ax=ax[0])\n",
    "sns.distplot(RFMScores['Frequency'], ax=ax[1])\n",
    "sns.distplot(RFMScores['Monetary'], ax=ax[2])\n",
    "xlabel = ['Days Since Last Purchase',\n",
    "          'Total Transactions Made', 'Total Sales Per Customer']\n",
    "[ax[x].set_yticklabels(\n",
    "    [f'{i*100:.2f}%' for i in ax[x].get_yticks()], fontsize=15) for x in [0, 1, 2]]\n",
    "[ax[x].set_xticklabels([human_format(int(i), precision=0)\n",
    "                        for i in ax[x].get_xticks()], fontsize=15) for x in [0, 1, 2]]\n",
    "[modifyChartBasic(ax[i], var, 18, titleSize=20, xLabel=x)\n",
    " for i, var, x in zip(range(0, 3), ['R', 'F', 'M'], xlabel)]\n",
    "ax[1].set_ylabel('Density (%)', fontsize=20, labelpad=15)\n",
    "plt.suptitle(\"RFM Density Distributions\", y=1.05, fontsize=27)\n",
    "plt.tight_layout(1.1)"
   ]
  },
  {
   "cell_type": "markdown",
   "metadata": {
    "colab_type": "text",
    "id": "gCb7k5NSqog2"
   },
   "source": [
    "Each variable is heavily skewed to the right with Frequency and Monetary values being extremely skewed to the right. This makes sense though if we are to consider the impact that the wholesalers have on monetary and frequency (see previous charts for reference). Since we'll split the segments into quantiles we will slightly account for this. It should be mentioned that frequency was the only one split using the Pareto (99.%-100% | 95.%-99% | 80.%-95% | 50.%-80% | 0%-50%) principle rather than using quantiles given the long tails in their distributions."
   ]
  },
  {
   "cell_type": "code",
   "execution_count": 55,
   "metadata": {
    "colab": {},
    "colab_type": "code",
    "id": "zjfZkCIrqog3"
   },
   "outputs": [
    {
     "name": "stdout",
     "output_type": "stream",
     "text": [
      "84\n"
     ]
    },
    {
     "data": {
      "text/html": [
       "<div>\n",
       "<style scoped>\n",
       "    .dataframe tbody tr th:only-of-type {\n",
       "        vertical-align: middle;\n",
       "    }\n",
       "\n",
       "    .dataframe tbody tr th {\n",
       "        vertical-align: top;\n",
       "    }\n",
       "\n",
       "    .dataframe thead tr th {\n",
       "        text-align: left;\n",
       "    }\n",
       "\n",
       "    .dataframe thead tr:last-of-type th {\n",
       "        text-align: right;\n",
       "    }\n",
       "</style>\n",
       "<table border=\"1\" class=\"dataframe\">\n",
       "  <thead>\n",
       "    <tr>\n",
       "      <th></th>\n",
       "      <th>Recency</th>\n",
       "      <th>Frequency</th>\n",
       "      <th colspan=\"2\" halign=\"left\">Monetary</th>\n",
       "    </tr>\n",
       "    <tr>\n",
       "      <th></th>\n",
       "      <th>mean</th>\n",
       "      <th>mean</th>\n",
       "      <th>mean</th>\n",
       "      <th>count</th>\n",
       "    </tr>\n",
       "    <tr>\n",
       "      <th>RFMGroup</th>\n",
       "      <th></th>\n",
       "      <th></th>\n",
       "      <th></th>\n",
       "      <th></th>\n",
       "    </tr>\n",
       "  </thead>\n",
       "  <tbody>\n",
       "    <tr>\n",
       "      <th>111.0</th>\n",
       "      <td>257.996587</td>\n",
       "      <td>14.578498</td>\n",
       "      <td>320.818242</td>\n",
       "      <td>586</td>\n",
       "    </tr>\n",
       "    <tr>\n",
       "      <th>112.0</th>\n",
       "      <td>238.181818</td>\n",
       "      <td>22.250000</td>\n",
       "      <td>1196.355519</td>\n",
       "      <td>44</td>\n",
       "    </tr>\n",
       "    <tr>\n",
       "      <th>113.0</th>\n",
       "      <td>206.000000</td>\n",
       "      <td>7.666667</td>\n",
       "      <td>3075.578231</td>\n",
       "      <td>3</td>\n",
       "    </tr>\n",
       "    <tr>\n",
       "      <th>115.0</th>\n",
       "      <td>208.500000</td>\n",
       "      <td>4.000000</td>\n",
       "      <td>41116.326531</td>\n",
       "      <td>2</td>\n",
       "    </tr>\n",
       "    <tr>\n",
       "      <th>121.0</th>\n",
       "      <td>257.224138</td>\n",
       "      <td>59.879310</td>\n",
       "      <td>484.270320</td>\n",
       "      <td>58</td>\n",
       "    </tr>\n",
       "    <tr>\n",
       "      <th>...</th>\n",
       "      <td>...</td>\n",
       "      <td>...</td>\n",
       "      <td>...</td>\n",
       "      <td>...</td>\n",
       "    </tr>\n",
       "    <tr>\n",
       "      <th>544.0</th>\n",
       "      <td>4.621622</td>\n",
       "      <td>432.972973</td>\n",
       "      <td>11301.084528</td>\n",
       "      <td>37</td>\n",
       "    </tr>\n",
       "    <tr>\n",
       "      <th>545.0</th>\n",
       "      <td>3.000000</td>\n",
       "      <td>432.333333</td>\n",
       "      <td>97225.651927</td>\n",
       "      <td>9</td>\n",
       "    </tr>\n",
       "    <tr>\n",
       "      <th>553.0</th>\n",
       "      <td>6.818182</td>\n",
       "      <td>803.090909</td>\n",
       "      <td>4875.644712</td>\n",
       "      <td>11</td>\n",
       "    </tr>\n",
       "    <tr>\n",
       "      <th>554.0</th>\n",
       "      <td>2.800000</td>\n",
       "      <td>1151.800000</td>\n",
       "      <td>12317.926020</td>\n",
       "      <td>10</td>\n",
       "    </tr>\n",
       "    <tr>\n",
       "      <th>555.0</th>\n",
       "      <td>3.545455</td>\n",
       "      <td>2417.818182</td>\n",
       "      <td>53178.269944</td>\n",
       "      <td>11</td>\n",
       "    </tr>\n",
       "  </tbody>\n",
       "</table>\n",
       "<p>84 rows × 4 columns</p>\n",
       "</div>"
      ],
      "text/plain": [
       "             Recency    Frequency      Monetary      \n",
       "                mean         mean          mean count\n",
       "RFMGroup                                             \n",
       "111.0     257.996587    14.578498    320.818242   586\n",
       "112.0     238.181818    22.250000   1196.355519    44\n",
       "113.0     206.000000     7.666667   3075.578231     3\n",
       "115.0     208.500000     4.000000  41116.326531     2\n",
       "121.0     257.224138    59.879310    484.270320    58\n",
       "...              ...          ...           ...   ...\n",
       "544.0       4.621622   432.972973  11301.084528    37\n",
       "545.0       3.000000   432.333333  97225.651927     9\n",
       "553.0       6.818182   803.090909   4875.644712    11\n",
       "554.0       2.800000  1151.800000  12317.926020    10\n",
       "555.0       3.545455  2417.818182  53178.269944    11\n",
       "\n",
       "[84 rows x 4 columns]"
      ]
     },
     "execution_count": 55,
     "metadata": {},
     "output_type": "execute_result"
    }
   ],
   "source": [
    "# Create labels for Recency and Frequency\n",
    "# rency with 0 is good, recney with 4 is worst (reverse order)\n",
    "r_labels = range(5, 0, -1)\n",
    "f_labels, m_labels = range(1, 6), range(1, 6)  # more frequency the best\n",
    "# [0,.50,.80,.95,.99,1]\n",
    "\n",
    "# Assign these labels to 4 equal percentile groups\n",
    "r_groups = pd.qcut(RFMScores['Recency'], q=5, labels=r_labels)\n",
    "# Assign these labels to 4 equal percentile groups -> pareto prinicple\n",
    "f_groups = pd.qcut(RFMScores['Frequency'], q=[\n",
    "                   0, .50, .80, .95, .99, 1], labels=f_labels)\n",
    "# Assign these labels to three equal percentile groups\n",
    "m_groups = pd.qcut(RFMScores['Monetary'], q=[\n",
    "                   0, .50, .80, .95, .99, 1], labels=m_labels)\n",
    "\n",
    "# Create new columns R and F\n",
    "RFMScores = RFMScores.assign(\n",
    "    R=r_groups.values, F=f_groups.values, M=m_groups.values)\n",
    "\n",
    "# Calculate and Add RFMGroup value column showing combined concatenated score of RFM\n",
    "RFMScores['RFMGroup'] = RFMScores[['R', 'F', 'M']].applymap(str).sum(1)\n",
    "\n",
    "print(RFMScores['RFMGroup'].nunique())\n",
    "RFMScores.groupby(['RFMGroup']).agg(\n",
    "    {\"Recency\": \"mean\", \"Frequency\": \"mean\", \"Monetary\": ['mean', 'count']})"
   ]
  },
  {
   "cell_type": "markdown",
   "metadata": {},
   "source": [
    "So 84 total combinations were made from the RFM scores.  The top customers (555 group) had an average of 3 days since last purchase date; these 11 customers made ~2,417 orders of which amounts to ~\\\\$53k in revenue over the year."
   ]
  },
  {
   "cell_type": "markdown",
   "metadata": {},
   "source": [
    "For defining the scores of our segment I used <a href=\"https://linpack-for-tableau.com/data-visualizations/tableau-dashboards/sales-dashboard/rfm-analysis/\">LinPack For Tableau's</a> (all credit for this part goes to them) suggested segment score. I downloaded a table of which will be used as the scoring table."
   ]
  },
  {
   "cell_type": "code",
   "execution_count": 56,
   "metadata": {},
   "outputs": [
    {
     "data": {
      "text/html": [
       "<div>\n",
       "<style scoped>\n",
       "    .dataframe tbody tr th:only-of-type {\n",
       "        vertical-align: middle;\n",
       "    }\n",
       "\n",
       "    .dataframe tbody tr th {\n",
       "        vertical-align: top;\n",
       "    }\n",
       "\n",
       "    .dataframe thead th {\n",
       "        text-align: right;\n",
       "    }\n",
       "</style>\n",
       "<table border=\"1\" class=\"dataframe\">\n",
       "  <thead>\n",
       "    <tr style=\"text-align: right;\">\n",
       "      <th></th>\n",
       "      <th>Recency</th>\n",
       "      <th>Frequency</th>\n",
       "      <th>5</th>\n",
       "      <th>4</th>\n",
       "      <th>3</th>\n",
       "      <th>2</th>\n",
       "      <th>1</th>\n",
       "    </tr>\n",
       "  </thead>\n",
       "  <tbody>\n",
       "    <tr>\n",
       "      <th>0</th>\n",
       "      <td>5.0</td>\n",
       "      <td>5</td>\n",
       "      <td>Champions</td>\n",
       "      <td>Champions</td>\n",
       "      <td>Loyal</td>\n",
       "      <td>Potential Loyalist</td>\n",
       "      <td>Potential Loyalist</td>\n",
       "    </tr>\n",
       "    <tr>\n",
       "      <th>1</th>\n",
       "      <td>5.0</td>\n",
       "      <td>4</td>\n",
       "      <td>Champions</td>\n",
       "      <td>Champions</td>\n",
       "      <td>Loyal</td>\n",
       "      <td>Potential Loyalist</td>\n",
       "      <td>Potential Loyalist</td>\n",
       "    </tr>\n",
       "    <tr>\n",
       "      <th>2</th>\n",
       "      <td>5.0</td>\n",
       "      <td>3</td>\n",
       "      <td>Potential Loyalist</td>\n",
       "      <td>Potential Loyalist</td>\n",
       "      <td>Potential Loyalist</td>\n",
       "      <td>Potential Loyalist</td>\n",
       "      <td>Potential Loyalist</td>\n",
       "    </tr>\n",
       "    <tr>\n",
       "      <th>3</th>\n",
       "      <td>5.0</td>\n",
       "      <td>2</td>\n",
       "      <td>Promising</td>\n",
       "      <td>Promising</td>\n",
       "      <td>Promising</td>\n",
       "      <td>New Customers</td>\n",
       "      <td>New Customers</td>\n",
       "    </tr>\n",
       "    <tr>\n",
       "      <th>4</th>\n",
       "      <td>5.0</td>\n",
       "      <td>1</td>\n",
       "      <td>Promising</td>\n",
       "      <td>Promising</td>\n",
       "      <td>Promising</td>\n",
       "      <td>New Customers</td>\n",
       "      <td>New Customers</td>\n",
       "    </tr>\n",
       "    <tr>\n",
       "      <th>5</th>\n",
       "      <td>4.0</td>\n",
       "      <td>5</td>\n",
       "      <td>Champions</td>\n",
       "      <td>Champions</td>\n",
       "      <td>Loyal</td>\n",
       "      <td>Potential Loyalist</td>\n",
       "      <td>Potential Loyalist</td>\n",
       "    </tr>\n",
       "    <tr>\n",
       "      <th>6</th>\n",
       "      <td>4.0</td>\n",
       "      <td>4</td>\n",
       "      <td>Champions</td>\n",
       "      <td>Champions</td>\n",
       "      <td>Loyal</td>\n",
       "      <td>Potential Loyalist</td>\n",
       "      <td>Potential Loyalist</td>\n",
       "    </tr>\n",
       "    <tr>\n",
       "      <th>7</th>\n",
       "      <td>4.0</td>\n",
       "      <td>3</td>\n",
       "      <td>Potential Loyalist</td>\n",
       "      <td>Potential Loyalist</td>\n",
       "      <td>Potential Loyalist</td>\n",
       "      <td>Potential Loyalist</td>\n",
       "      <td>Potential Loyalist</td>\n",
       "    </tr>\n",
       "    <tr>\n",
       "      <th>8</th>\n",
       "      <td>4.0</td>\n",
       "      <td>2</td>\n",
       "      <td>Promising</td>\n",
       "      <td>Promising</td>\n",
       "      <td>Promising</td>\n",
       "      <td>New Customers</td>\n",
       "      <td>New Customers</td>\n",
       "    </tr>\n",
       "    <tr>\n",
       "      <th>9</th>\n",
       "      <td>4.0</td>\n",
       "      <td>1</td>\n",
       "      <td>Promising</td>\n",
       "      <td>Promising</td>\n",
       "      <td>Promising</td>\n",
       "      <td>New Customers</td>\n",
       "      <td>New Customers</td>\n",
       "    </tr>\n",
       "    <tr>\n",
       "      <th>10</th>\n",
       "      <td>3.0</td>\n",
       "      <td>5</td>\n",
       "      <td>Loyal</td>\n",
       "      <td>Loyal</td>\n",
       "      <td>Potential Loyalist</td>\n",
       "      <td>Potential Loyalist</td>\n",
       "      <td>Potential Loyalist</td>\n",
       "    </tr>\n",
       "    <tr>\n",
       "      <th>11</th>\n",
       "      <td>3.0</td>\n",
       "      <td>4</td>\n",
       "      <td>Loyal</td>\n",
       "      <td>Loyal</td>\n",
       "      <td>Need Attention</td>\n",
       "      <td>Need Attention</td>\n",
       "      <td>Need Attention</td>\n",
       "    </tr>\n",
       "    <tr>\n",
       "      <th>12</th>\n",
       "      <td>3.0</td>\n",
       "      <td>3</td>\n",
       "      <td>Need Attention</td>\n",
       "      <td>Need Attention</td>\n",
       "      <td>Need Attention</td>\n",
       "      <td>Need Attention</td>\n",
       "      <td>About to Sleep</td>\n",
       "    </tr>\n",
       "    <tr>\n",
       "      <th>13</th>\n",
       "      <td>3.0</td>\n",
       "      <td>2</td>\n",
       "      <td>Need Attention</td>\n",
       "      <td>Need Attention</td>\n",
       "      <td>Need Attention</td>\n",
       "      <td>About to Sleep</td>\n",
       "      <td>About to Sleep</td>\n",
       "    </tr>\n",
       "    <tr>\n",
       "      <th>14</th>\n",
       "      <td>3.0</td>\n",
       "      <td>1</td>\n",
       "      <td>Need Attention</td>\n",
       "      <td>Need Attention</td>\n",
       "      <td>About to Sleep</td>\n",
       "      <td>About to Sleep</td>\n",
       "      <td>About to Sleep</td>\n",
       "    </tr>\n",
       "    <tr>\n",
       "      <th>15</th>\n",
       "      <td>2.0</td>\n",
       "      <td>5</td>\n",
       "      <td>At Risk</td>\n",
       "      <td>At Risk</td>\n",
       "      <td>At Risk</td>\n",
       "      <td>About to Sleep</td>\n",
       "      <td>About to Sleep</td>\n",
       "    </tr>\n",
       "    <tr>\n",
       "      <th>16</th>\n",
       "      <td>2.0</td>\n",
       "      <td>4</td>\n",
       "      <td>At Risk</td>\n",
       "      <td>At Risk</td>\n",
       "      <td>At Risk</td>\n",
       "      <td>About to Sleep</td>\n",
       "      <td>About to Sleep</td>\n",
       "    </tr>\n",
       "    <tr>\n",
       "      <th>17</th>\n",
       "      <td>2.0</td>\n",
       "      <td>3</td>\n",
       "      <td>At Risk</td>\n",
       "      <td>At Risk</td>\n",
       "      <td>At Risk</td>\n",
       "      <td>About to Sleep</td>\n",
       "      <td>About to Sleep</td>\n",
       "    </tr>\n",
       "    <tr>\n",
       "      <th>18</th>\n",
       "      <td>2.0</td>\n",
       "      <td>2</td>\n",
       "      <td>At Risk</td>\n",
       "      <td>At Risk</td>\n",
       "      <td>Hibernating</td>\n",
       "      <td>Hibernating</td>\n",
       "      <td>About to Sleep</td>\n",
       "    </tr>\n",
       "    <tr>\n",
       "      <th>19</th>\n",
       "      <td>2.0</td>\n",
       "      <td>1</td>\n",
       "      <td>At Risk</td>\n",
       "      <td>At Risk</td>\n",
       "      <td>Hibernating</td>\n",
       "      <td>Hibernating</td>\n",
       "      <td>Hibernating</td>\n",
       "    </tr>\n",
       "    <tr>\n",
       "      <th>20</th>\n",
       "      <td>1.0</td>\n",
       "      <td>5</td>\n",
       "      <td>Cannot Lose Them</td>\n",
       "      <td>Cannot Lose Them</td>\n",
       "      <td>Hibernating</td>\n",
       "      <td>Hibernating</td>\n",
       "      <td>Lost</td>\n",
       "    </tr>\n",
       "    <tr>\n",
       "      <th>21</th>\n",
       "      <td>1.0</td>\n",
       "      <td>4</td>\n",
       "      <td>Cannot Lose Them</td>\n",
       "      <td>Cannot Lose Them</td>\n",
       "      <td>Hibernating</td>\n",
       "      <td>Hibernating</td>\n",
       "      <td>Lost</td>\n",
       "    </tr>\n",
       "    <tr>\n",
       "      <th>22</th>\n",
       "      <td>1.0</td>\n",
       "      <td>3</td>\n",
       "      <td>Cannot Lose Them</td>\n",
       "      <td>Cannot Lose Them</td>\n",
       "      <td>Hibernating</td>\n",
       "      <td>Hibernating</td>\n",
       "      <td>Lost</td>\n",
       "    </tr>\n",
       "    <tr>\n",
       "      <th>23</th>\n",
       "      <td>1.0</td>\n",
       "      <td>2</td>\n",
       "      <td>Cannot Lose Them</td>\n",
       "      <td>Cannot Lose Them</td>\n",
       "      <td>Hibernating</td>\n",
       "      <td>Lost</td>\n",
       "      <td>Lost</td>\n",
       "    </tr>\n",
       "    <tr>\n",
       "      <th>24</th>\n",
       "      <td>1.0</td>\n",
       "      <td>1</td>\n",
       "      <td>Cannot Lose Them</td>\n",
       "      <td>Cannot Lose Them</td>\n",
       "      <td>Lost</td>\n",
       "      <td>Lost</td>\n",
       "      <td>Lost</td>\n",
       "    </tr>\n",
       "  </tbody>\n",
       "</table>\n",
       "</div>"
      ],
      "text/plain": [
       "    Recency  Frequency                   5                   4  \\\n",
       "0       5.0          5           Champions           Champions   \n",
       "1       5.0          4           Champions           Champions   \n",
       "2       5.0          3  Potential Loyalist  Potential Loyalist   \n",
       "3       5.0          2           Promising           Promising   \n",
       "4       5.0          1           Promising           Promising   \n",
       "5       4.0          5           Champions           Champions   \n",
       "6       4.0          4           Champions           Champions   \n",
       "7       4.0          3  Potential Loyalist  Potential Loyalist   \n",
       "8       4.0          2           Promising           Promising   \n",
       "9       4.0          1           Promising           Promising   \n",
       "10      3.0          5               Loyal               Loyal   \n",
       "11      3.0          4               Loyal               Loyal   \n",
       "12      3.0          3      Need Attention      Need Attention   \n",
       "13      3.0          2      Need Attention      Need Attention   \n",
       "14      3.0          1      Need Attention      Need Attention   \n",
       "15      2.0          5             At Risk             At Risk   \n",
       "16      2.0          4             At Risk             At Risk   \n",
       "17      2.0          3             At Risk             At Risk   \n",
       "18      2.0          2             At Risk             At Risk   \n",
       "19      2.0          1             At Risk             At Risk   \n",
       "20      1.0          5    Cannot Lose Them    Cannot Lose Them   \n",
       "21      1.0          4    Cannot Lose Them    Cannot Lose Them   \n",
       "22      1.0          3    Cannot Lose Them    Cannot Lose Them   \n",
       "23      1.0          2    Cannot Lose Them    Cannot Lose Them   \n",
       "24      1.0          1    Cannot Lose Them    Cannot Lose Them   \n",
       "\n",
       "                     3                   2                   1  \n",
       "0                Loyal  Potential Loyalist  Potential Loyalist  \n",
       "1                Loyal  Potential Loyalist  Potential Loyalist  \n",
       "2   Potential Loyalist  Potential Loyalist  Potential Loyalist  \n",
       "3            Promising       New Customers       New Customers  \n",
       "4            Promising       New Customers       New Customers  \n",
       "5                Loyal  Potential Loyalist  Potential Loyalist  \n",
       "6                Loyal  Potential Loyalist  Potential Loyalist  \n",
       "7   Potential Loyalist  Potential Loyalist  Potential Loyalist  \n",
       "8            Promising       New Customers       New Customers  \n",
       "9            Promising       New Customers       New Customers  \n",
       "10  Potential Loyalist  Potential Loyalist  Potential Loyalist  \n",
       "11      Need Attention      Need Attention      Need Attention  \n",
       "12      Need Attention      Need Attention      About to Sleep  \n",
       "13      Need Attention      About to Sleep      About to Sleep  \n",
       "14      About to Sleep      About to Sleep      About to Sleep  \n",
       "15             At Risk      About to Sleep      About to Sleep  \n",
       "16             At Risk      About to Sleep      About to Sleep  \n",
       "17             At Risk      About to Sleep      About to Sleep  \n",
       "18         Hibernating         Hibernating      About to Sleep  \n",
       "19         Hibernating         Hibernating         Hibernating  \n",
       "20         Hibernating         Hibernating                Lost  \n",
       "21         Hibernating         Hibernating                Lost  \n",
       "22         Hibernating         Hibernating                Lost  \n",
       "23         Hibernating                Lost                Lost  \n",
       "24                Lost                Lost                Lost  "
      ]
     },
     "execution_count": 56,
     "metadata": {},
     "output_type": "execute_result"
    }
   ],
   "source": [
    "# fill in null in R and F column\n",
    "segmentDefinitions = pd.read_csv(\n",
    "    r\"C:\\Users\\garci\\Downloads\\RFM Matrix.png.csv\", skiprows=1).fillna(method='ffill')\n",
    "\n",
    "\n",
    "def retrieveSegment(R, F, M):\n",
    "    try:\n",
    "        return segmentDefinitions.query(\"Recency ==@R and Frequency == @F\")[str(M)].iloc[0]\n",
    "    except:\n",
    "        return 'No Match'\n",
    "\n",
    "\n",
    "# retrieve segment\n",
    "RFMScores['segment'] = RFMScores.iloc[:, 3:-\n",
    "                                      1].applymap(int).apply(lambda x: retrieveSegment(x[0], x[1], x[2]), 1)\n",
    "\n",
    "segmentDefinitions"
   ]
  },
  {
   "cell_type": "markdown",
   "metadata": {},
   "source": [
    "With the segments labeled, let's plot a Treemap based of the resulting segments."
   ]
  },
  {
   "cell_type": "code",
   "execution_count": 57,
   "metadata": {
    "colab": {},
    "colab_type": "code",
    "id": "ICV_xq5MqojV",
    "scrolled": false
   },
   "outputs": [
    {
     "ename": "KeyError",
     "evalue": "'Customer Count'",
     "output_type": "error",
     "traceback": [
      "\u001b[1;31m---------------------------------------------------------------------------\u001b[0m",
      "\u001b[1;31mKeyError\u001b[0m                                  Traceback (most recent call last)",
      "\u001b[1;32m~\\Anaconda3\\lib\\site-packages\\pandas\\core\\indexes\\base.py\u001b[0m in \u001b[0;36mget_loc\u001b[1;34m(self, key, method, tolerance)\u001b[0m\n\u001b[0;32m   2645\u001b[0m             \u001b[1;32mtry\u001b[0m\u001b[1;33m:\u001b[0m\u001b[1;33m\u001b[0m\u001b[1;33m\u001b[0m\u001b[0m\n\u001b[1;32m-> 2646\u001b[1;33m                 \u001b[1;32mreturn\u001b[0m \u001b[0mself\u001b[0m\u001b[1;33m.\u001b[0m\u001b[0m_engine\u001b[0m\u001b[1;33m.\u001b[0m\u001b[0mget_loc\u001b[0m\u001b[1;33m(\u001b[0m\u001b[0mkey\u001b[0m\u001b[1;33m)\u001b[0m\u001b[1;33m\u001b[0m\u001b[1;33m\u001b[0m\u001b[0m\n\u001b[0m\u001b[0;32m   2647\u001b[0m             \u001b[1;32mexcept\u001b[0m \u001b[0mKeyError\u001b[0m\u001b[1;33m:\u001b[0m\u001b[1;33m\u001b[0m\u001b[1;33m\u001b[0m\u001b[0m\n",
      "\u001b[1;32mpandas\\_libs\\index.pyx\u001b[0m in \u001b[0;36mpandas._libs.index.IndexEngine.get_loc\u001b[1;34m()\u001b[0m\n",
      "\u001b[1;32mpandas\\_libs\\index.pyx\u001b[0m in \u001b[0;36mpandas._libs.index.IndexEngine.get_loc\u001b[1;34m()\u001b[0m\n",
      "\u001b[1;32mpandas\\_libs\\hashtable_class_helper.pxi\u001b[0m in \u001b[0;36mpandas._libs.hashtable.PyObjectHashTable.get_item\u001b[1;34m()\u001b[0m\n",
      "\u001b[1;32mpandas\\_libs\\hashtable_class_helper.pxi\u001b[0m in \u001b[0;36mpandas._libs.hashtable.PyObjectHashTable.get_item\u001b[1;34m()\u001b[0m\n",
      "\u001b[1;31mKeyError\u001b[0m: 'Customer Count'",
      "\nDuring handling of the above exception, another exception occurred:\n",
      "\u001b[1;31mKeyError\u001b[0m                                  Traceback (most recent call last)",
      "\u001b[1;32m<ipython-input-57-cdc487420793>\u001b[0m in \u001b[0;36m<module>\u001b[1;34m\u001b[0m\n\u001b[0;32m      3\u001b[0m \u001b[0max\u001b[0m \u001b[1;33m=\u001b[0m \u001b[0mfig\u001b[0m\u001b[1;33m.\u001b[0m\u001b[0madd_subplot\u001b[0m\u001b[1;33m(\u001b[0m\u001b[1;33m)\u001b[0m\u001b[1;33m\u001b[0m\u001b[1;33m\u001b[0m\u001b[0m\n\u001b[0;32m      4\u001b[0m \u001b[0mfig\u001b[0m\u001b[1;33m.\u001b[0m\u001b[0mset_size_inches\u001b[0m\u001b[1;33m(\u001b[0m\u001b[1;36m16\u001b[0m\u001b[1;33m,\u001b[0m \u001b[1;36m9\u001b[0m\u001b[1;33m)\u001b[0m\u001b[1;33m\u001b[0m\u001b[1;33m\u001b[0m\u001b[0m\n\u001b[1;32m----> 5\u001b[1;33m squarify.plot(sizes=df['Customer Count'],\n\u001b[0m\u001b[0;32m      6\u001b[0m               label=df.index, alpha=.6)\n\u001b[0;32m      7\u001b[0m \u001b[0mplt\u001b[0m\u001b[1;33m.\u001b[0m\u001b[0mtitle\u001b[0m\u001b[1;33m(\u001b[0m\u001b[1;34m\"RFM Segments\"\u001b[0m\u001b[1;33m,\u001b[0m \u001b[0mfontsize\u001b[0m\u001b[1;33m=\u001b[0m\u001b[1;36m18\u001b[0m\u001b[1;33m,\u001b[0m \u001b[0mfontweight\u001b[0m\u001b[1;33m=\u001b[0m\u001b[1;34m\"bold\"\u001b[0m\u001b[1;33m)\u001b[0m\u001b[1;33m\u001b[0m\u001b[1;33m\u001b[0m\u001b[0m\n",
      "\u001b[1;32m~\\Anaconda3\\lib\\site-packages\\pandas\\core\\frame.py\u001b[0m in \u001b[0;36m__getitem__\u001b[1;34m(self, key)\u001b[0m\n\u001b[0;32m   2798\u001b[0m             \u001b[1;32mif\u001b[0m \u001b[0mself\u001b[0m\u001b[1;33m.\u001b[0m\u001b[0mcolumns\u001b[0m\u001b[1;33m.\u001b[0m\u001b[0mnlevels\u001b[0m \u001b[1;33m>\u001b[0m \u001b[1;36m1\u001b[0m\u001b[1;33m:\u001b[0m\u001b[1;33m\u001b[0m\u001b[1;33m\u001b[0m\u001b[0m\n\u001b[0;32m   2799\u001b[0m                 \u001b[1;32mreturn\u001b[0m \u001b[0mself\u001b[0m\u001b[1;33m.\u001b[0m\u001b[0m_getitem_multilevel\u001b[0m\u001b[1;33m(\u001b[0m\u001b[0mkey\u001b[0m\u001b[1;33m)\u001b[0m\u001b[1;33m\u001b[0m\u001b[1;33m\u001b[0m\u001b[0m\n\u001b[1;32m-> 2800\u001b[1;33m             \u001b[0mindexer\u001b[0m \u001b[1;33m=\u001b[0m \u001b[0mself\u001b[0m\u001b[1;33m.\u001b[0m\u001b[0mcolumns\u001b[0m\u001b[1;33m.\u001b[0m\u001b[0mget_loc\u001b[0m\u001b[1;33m(\u001b[0m\u001b[0mkey\u001b[0m\u001b[1;33m)\u001b[0m\u001b[1;33m\u001b[0m\u001b[1;33m\u001b[0m\u001b[0m\n\u001b[0m\u001b[0;32m   2801\u001b[0m             \u001b[1;32mif\u001b[0m \u001b[0mis_integer\u001b[0m\u001b[1;33m(\u001b[0m\u001b[0mindexer\u001b[0m\u001b[1;33m)\u001b[0m\u001b[1;33m:\u001b[0m\u001b[1;33m\u001b[0m\u001b[1;33m\u001b[0m\u001b[0m\n\u001b[0;32m   2802\u001b[0m                 \u001b[0mindexer\u001b[0m \u001b[1;33m=\u001b[0m \u001b[1;33m[\u001b[0m\u001b[0mindexer\u001b[0m\u001b[1;33m]\u001b[0m\u001b[1;33m\u001b[0m\u001b[1;33m\u001b[0m\u001b[0m\n",
      "\u001b[1;32m~\\Anaconda3\\lib\\site-packages\\pandas\\core\\indexes\\base.py\u001b[0m in \u001b[0;36mget_loc\u001b[1;34m(self, key, method, tolerance)\u001b[0m\n\u001b[0;32m   2646\u001b[0m                 \u001b[1;32mreturn\u001b[0m \u001b[0mself\u001b[0m\u001b[1;33m.\u001b[0m\u001b[0m_engine\u001b[0m\u001b[1;33m.\u001b[0m\u001b[0mget_loc\u001b[0m\u001b[1;33m(\u001b[0m\u001b[0mkey\u001b[0m\u001b[1;33m)\u001b[0m\u001b[1;33m\u001b[0m\u001b[1;33m\u001b[0m\u001b[0m\n\u001b[0;32m   2647\u001b[0m             \u001b[1;32mexcept\u001b[0m \u001b[0mKeyError\u001b[0m\u001b[1;33m:\u001b[0m\u001b[1;33m\u001b[0m\u001b[1;33m\u001b[0m\u001b[0m\n\u001b[1;32m-> 2648\u001b[1;33m                 \u001b[1;32mreturn\u001b[0m \u001b[0mself\u001b[0m\u001b[1;33m.\u001b[0m\u001b[0m_engine\u001b[0m\u001b[1;33m.\u001b[0m\u001b[0mget_loc\u001b[0m\u001b[1;33m(\u001b[0m\u001b[0mself\u001b[0m\u001b[1;33m.\u001b[0m\u001b[0m_maybe_cast_indexer\u001b[0m\u001b[1;33m(\u001b[0m\u001b[0mkey\u001b[0m\u001b[1;33m)\u001b[0m\u001b[1;33m)\u001b[0m\u001b[1;33m\u001b[0m\u001b[1;33m\u001b[0m\u001b[0m\n\u001b[0m\u001b[0;32m   2649\u001b[0m         \u001b[0mindexer\u001b[0m \u001b[1;33m=\u001b[0m \u001b[0mself\u001b[0m\u001b[1;33m.\u001b[0m\u001b[0mget_indexer\u001b[0m\u001b[1;33m(\u001b[0m\u001b[1;33m[\u001b[0m\u001b[0mkey\u001b[0m\u001b[1;33m]\u001b[0m\u001b[1;33m,\u001b[0m \u001b[0mmethod\u001b[0m\u001b[1;33m=\u001b[0m\u001b[0mmethod\u001b[0m\u001b[1;33m,\u001b[0m \u001b[0mtolerance\u001b[0m\u001b[1;33m=\u001b[0m\u001b[0mtolerance\u001b[0m\u001b[1;33m)\u001b[0m\u001b[1;33m\u001b[0m\u001b[1;33m\u001b[0m\u001b[0m\n\u001b[0;32m   2650\u001b[0m         \u001b[1;32mif\u001b[0m \u001b[0mindexer\u001b[0m\u001b[1;33m.\u001b[0m\u001b[0mndim\u001b[0m \u001b[1;33m>\u001b[0m \u001b[1;36m1\u001b[0m \u001b[1;32mor\u001b[0m \u001b[0mindexer\u001b[0m\u001b[1;33m.\u001b[0m\u001b[0msize\u001b[0m \u001b[1;33m>\u001b[0m \u001b[1;36m1\u001b[0m\u001b[1;33m:\u001b[0m\u001b[1;33m\u001b[0m\u001b[1;33m\u001b[0m\u001b[0m\n",
      "\u001b[1;32mpandas\\_libs\\index.pyx\u001b[0m in \u001b[0;36mpandas._libs.index.IndexEngine.get_loc\u001b[1;34m()\u001b[0m\n",
      "\u001b[1;32mpandas\\_libs\\index.pyx\u001b[0m in \u001b[0;36mpandas._libs.index.IndexEngine.get_loc\u001b[1;34m()\u001b[0m\n",
      "\u001b[1;32mpandas\\_libs\\hashtable_class_helper.pxi\u001b[0m in \u001b[0;36mpandas._libs.hashtable.PyObjectHashTable.get_item\u001b[1;34m()\u001b[0m\n",
      "\u001b[1;32mpandas\\_libs\\hashtable_class_helper.pxi\u001b[0m in \u001b[0;36mpandas._libs.hashtable.PyObjectHashTable.get_item\u001b[1;34m()\u001b[0m\n",
      "\u001b[1;31mKeyError\u001b[0m: 'Customer Count'"
     ]
    },
    {
     "data": {
      "image/png": "[encoded data removed]",
      "text/plain": [
       "<Figure size 1152x648 with 1 Axes>"
      ]
     },
     "metadata": {
      "needs_background": "light"
     },
     "output_type": "display_data"
    }
   ],
   "source": [
    "# Create our plot and resize it.\n",
    "fig = plt.gcf()\n",
    "ax = fig.add_subplot()\n",
    "fig.set_size_inches(16, 9)\n",
    "squarify.plot(sizes=df['Customer Count'],\n",
    "              label=df.index, alpha=.6)\n",
    "plt.title(\"RFM Segments\", fontsize=18, fontweight=\"bold\")\n",
    "plt.axis('off')\n",
    "plt.show()"
   ]
  },
  {
   "cell_type": "markdown",
   "metadata": {},
   "source": [
    "Based on the Treemap, a large portion of the company's customers are considered to be either new, lost, about to sleep or hibernating customers with champions and 'cannot lose them' customers representing the least of the total customers."
   ]
  },
  {
   "cell_type": "markdown",
   "metadata": {},
   "source": [
    "Given my lack of knowledge in this area, I erred with getting general recommendations for segments based off Anish Nair's article. See <a href=\"https://www.putler.com/rfm-analysis/\">here</a> for reference. **All credit** goes to him for the recommendations. (My conclusions will be my own thoughts but segment recommendations will be used for Tableau dashboard.)"
   ]
  },
  {
   "cell_type": "code",
   "execution_count": 58,
   "metadata": {},
   "outputs": [
    {
     "data": {
      "text/plain": [
       "(array(['Champions', 'Loyal Customers', 'Potential Loyalist',\n",
       "        'Recent Customers', 'Promising', 'Customers Needing Attention',\n",
       "        'About To Sleep', 'At Risk', \"Can't Lose Them\", 'Hibernating',\n",
       "        'Lost'], dtype=object),\n",
       " array(['Promising', 'Champions', 'Potential Loyalist', 'New Customers',\n",
       "        'Lost', 'Hibernating', 'About to Sleep', 'Need Attention', 'Loyal',\n",
       "        'At Risk', 'Cannot Lose Them'], dtype=object))"
      ]
     },
     "execution_count": 58,
     "metadata": {},
     "output_type": "execute_result"
    }
   ],
   "source": [
    "recommendations = pd.read_csv(\n",
    "    r\"C:\\Users\\garci\\Downloads\\Screenshot_421.png.csv\")\n",
    "recommendations['Customer Segment'].unique(), RFMScores['segment'].unique()"
   ]
  },
  {
   "cell_type": "markdown",
   "metadata": {},
   "source": [
    "We'll need to make some slight adjustment to the segment names in order to map them. After doing that, we'll create two columns: Activity (describing segment) and Recommendations (recommendation for treating segment)."
   ]
  },
  {
   "cell_type": "code",
   "execution_count": 59,
   "metadata": {},
   "outputs": [],
   "source": [
    "change = {\"Can't Lose Them\": 'Cannot Lose Them', 'Loyal Customers': 'Loyal',\n",
    "          'Customers Needing Attention': 'Need Attention', 'Recent Customers': 'New Customers'}\n",
    "recommendations['Customer Segment'] = recommendations['Customer Segment'].map(\n",
    "    lambda x: change[x].strip() if x in change.keys()else x.strip())\n",
    "\n",
    "# to apply across columns in rfm dataframe\n",
    "recommendations = recommendations.set_index(['Customer Segment']).T.to_dict()\n",
    "\n",
    "# create list containing relevant values (activity and tip)\n",
    "RFMScores['label'] = RFMScores['segment'].apply(lambda x: [recommendations[x.title(\n",
    ")]['Activity'], recommendations[x.title()]['Actionable Tip']])\n",
    "\n",
    "# create new columns from list and then drop label as it contains redundant data\n",
    "RFMScores = RFMScores.assign(activity=lambda x: x['label'].apply(lambda x: x[0]),\n",
    "                             actionableTip=lambda x: x['label'].apply(lambda x: x[1])).drop(columns='label')"
   ]
  },
  {
   "cell_type": "markdown",
   "metadata": {},
   "source": [
    "At this point, I got all the data I needed for creating the RFM and product dashboard. Data used for Tableau dashboard:\n",
    "\n",
    " `RFMScores.to_csv(\"profile.csv\")`\n",
    "\n",
    " `transactionHistory[['itemID', 'description', 'quantity', 'orderDate','totalPrice',\n",
    "       'unitPrice', 'customerID']].to_csv(\"transactions.csv\")`"
   ]
  },
  {
   "cell_type": "code",
   "execution_count": 60,
   "metadata": {},
   "outputs": [],
   "source": [
    "profiles = RFMScores[['Recency', 'Frequency',\n",
    "                      'Monetary', 'R', 'F', 'M', 'segment']]\n",
    "\n",
    "# Group by segment and retrieve revenue per product cluster, avg. RFM values, and total count\n",
    "df = profiles.groupby(\"segment\").agg({'Recency': 'mean',\n",
    "                                      'Frequency': 'mean', 'Monetary': ['mean', 'count']})\n",
    "df.columns = ['avg_recency', 'avg_frequency',\n",
    "              'Monetary Value', 'Customer Count']"
   ]
  },
  {
   "cell_type": "code",
   "execution_count": 85,
   "metadata": {},
   "outputs": [],
   "source": [
    "import commonFunctions"
   ]
  },
  {
   "cell_type": "code",
   "execution_count": 122,
   "metadata": {},
   "outputs": [
    {
     "data": {
      "image/png": "[encoded data removed]",
      "text/plain": [
       "<Figure size 1080x612 with 4 Axes>"
      ]
     },
     "metadata": {},
     "output_type": "display_data"
    }
   ],
   "source": [
    "fig, ax = plt.subplots(ncols=2, nrows=2, figsize=(15, 8.5))\n",
    "axes = [(row, col) for row in range(2) for col in range(2)]\n",
    "for col, i in zip(df.columns[:4], axes):\n",
    "    df[col].sort_values(ascending=False if col == 'avg_recency' else True).plot.barh(ax=ax[i], width=.80, rot=0,\n",
    "                                                                                     alpha=.7, color='#9CC4E4')\n",
    "    modifyChartExtra(ax[i], grid='x')\n",
    "    title = col.replace('_', ' ').title()\n",
    "    modifyChartBasic(ax[i], f\"{title}\", 13, xLabel='USD ($)' if col ==\n",
    "                     'Monetary Value' else title.split()[1], titleSize=16)\n",
    "    modifyChartExtra(ax[i], grayTickLabels=True, highlightTop=True,\n",
    "                     topValueColor='#1f77b4', topChild=ax[i].patches[-1])\n",
    "    if col == 'Monetary Value':\n",
    "        textAnnotationH(ax[i],fontweight='bold', fontsize=13,textParams = {\"dollar\":\"$\",\"percent\":\"\"})\n",
    "    else:\n",
    "        textAnnotationH(ax[i],fontweight='bold', fontsize=1)\n",
    "[ax[i].spines['bottom'].set_visible(False)for i in axes]\n",
    "[ax[i].set_xticks([]) for i in axes]\n",
    "[ax[i].set_xticklabels([]) for i in axes]\n",
    "\n",
    "plt.tight_layout()"
   ]
  },
  {
   "cell_type": "markdown",
   "metadata": {},
   "source": [
    "*Several insights can be derived from the charts. Here are a few of interest.*\n",
    "\n",
    "Over the year, for segments created from the U.K. customers: \n",
    "- 'Cannot lose' customers (n=3) have the highest average in total monetary spenditure ( ~\\\\$30,400) with low values in Recency (230 days since last purchase) and frequency (51 transactions). \n",
    "- On average, the store's champions (n= 85) made 782 transactions amounting to ~\\\\$25,900 over the year with their last purchase made a week from the max date (12/07/19). They are loyal customers who make large number of transactions with high monetary spenditure over the year. \n",
    "- Promising customers (n =138) are an interesting segment with an average of 77 orders made totaling close to \\\\$6,600 for the year. They are relatively new customers given that on average, their last purchase was made 12 days from the max date.\n",
    "- 744 customers can be considered lost as they haven't made an order for over 8 months and have on average made a low amount of orders (22) with low spenditure with total money spenditure for the year being a relatively low $464."
   ]
  },
  {
   "cell_type": "markdown",
   "metadata": {},
   "source": [
    "Having take a look at the RFM average values. Let's take a look at the share of total revenue made per segment."
   ]
  },
  {
   "cell_type": "code",
   "execution_count": 62,
   "metadata": {},
   "outputs": [
    {
     "data": {
      "text/html": [
       "<div>\n",
       "<style scoped>\n",
       "    .dataframe tbody tr th:only-of-type {\n",
       "        vertical-align: middle;\n",
       "    }\n",
       "\n",
       "    .dataframe tbody tr th {\n",
       "        vertical-align: top;\n",
       "    }\n",
       "\n",
       "    .dataframe thead th {\n",
       "        text-align: right;\n",
       "    }\n",
       "</style>\n",
       "<table border=\"1\" class=\"dataframe\">\n",
       "  <thead>\n",
       "    <tr style=\"text-align: right;\">\n",
       "      <th></th>\n",
       "      <th>Monetary</th>\n",
       "    </tr>\n",
       "    <tr>\n",
       "      <th>segment</th>\n",
       "      <th></th>\n",
       "    </tr>\n",
       "  </thead>\n",
       "  <tbody>\n",
       "    <tr>\n",
       "      <th>About to Sleep</th>\n",
       "      <td>6.393275</td>\n",
       "    </tr>\n",
       "    <tr>\n",
       "      <th>At Risk</th>\n",
       "      <td>2.127857</td>\n",
       "    </tr>\n",
       "    <tr>\n",
       "      <th>Cannot Lose Them</th>\n",
       "      <td>1.078878</td>\n",
       "    </tr>\n",
       "    <tr>\n",
       "      <th>Champions</th>\n",
       "      <td>26.004663</td>\n",
       "    </tr>\n",
       "    <tr>\n",
       "      <th>Hibernating</th>\n",
       "      <td>7.459136</td>\n",
       "    </tr>\n",
       "    <tr>\n",
       "      <th>Lost</th>\n",
       "      <td>4.086949</td>\n",
       "    </tr>\n",
       "    <tr>\n",
       "      <th>Loyal</th>\n",
       "      <td>4.130620</td>\n",
       "    </tr>\n",
       "    <tr>\n",
       "      <th>Need Attention</th>\n",
       "      <td>7.362567</td>\n",
       "    </tr>\n",
       "    <tr>\n",
       "      <th>New Customers</th>\n",
       "      <td>8.929530</td>\n",
       "    </tr>\n",
       "    <tr>\n",
       "      <th>Potential Loyalist</th>\n",
       "      <td>21.605053</td>\n",
       "    </tr>\n",
       "    <tr>\n",
       "      <th>Promising</th>\n",
       "      <td>10.821473</td>\n",
       "    </tr>\n",
       "  </tbody>\n",
       "</table>\n",
       "</div>"
      ],
      "text/plain": [
       "                     Monetary\n",
       "segment                      \n",
       "About to Sleep       6.393275\n",
       "At Risk              2.127857\n",
       "Cannot Lose Them     1.078878\n",
       "Champions           26.004663\n",
       "Hibernating          7.459136\n",
       "Lost                 4.086949\n",
       "Loyal                4.130620\n",
       "Need Attention       7.362567\n",
       "New Customers        8.929530\n",
       "Potential Loyalist  21.605053\n",
       "Promising           10.821473"
      ]
     },
     "execution_count": 62,
     "metadata": {},
     "output_type": "execute_result"
    }
   ],
   "source": [
    "(profiles.groupby('segment') #per customer segment\n",
    "    .agg({\"Monetary\":\"sum\"}) #retrieve total revenue made from them\n",
    "    .apply(lambda x: x/x.sum()*100))"
   ]
  },
  {
   "cell_type": "code",
   "execution_count": 63,
   "metadata": {},
   "outputs": [
    {
     "data": {
      "image/png": "[encoded data removed]",
      "text/plain": [
       "<Figure size 612x612 with 1 Axes>"
      ]
     },
     "metadata": {
      "needs_background": "light"
     },
     "output_type": "display_data"
    }
   ],
   "source": [
    "chart = (profiles.groupby('segment')  # per customer segment\n",
    "         .agg({\"Monetary\": \"sum\"})  # retrieve total revenue made from them\n",
    "         .apply(lambda x: x/x.sum()*100)  # and then get relative values\n",
    "         .sort_values('Monetary', ascending=False).T)  # sort by share of revenue contribution in descending order\n",
    "\n",
    "# get vector representing viridis colormap\n",
    "viridis = matplotlib.cm.get_cmap('viridis', 11)\n",
    "ax = chart.plot.bar(stacked=True, figsize=(\n",
    "    8.5, 8.5), legend=False, cmap=viridis)\n",
    "\n",
    "count = 0\n",
    "for rec, col in zip(ax.patches, chart.columns):\n",
    "    count += 1  # for switch (want to label first 6 segments within bar)\n",
    "    width, height, xy = rec.get_width(), rec.get_height(), rec.get_xy()\n",
    "\n",
    "    if count > 6:\n",
    "        ax.annotate(xy=(xy[0]+.48, xy[1]+.9), xytext=(xy[0]+.90, xy[1]+count-2.5),\n",
    "                    s=f'{col.title()} {height:.1f}%',  arrowprops=dict(arrowstyle='->', lw=1.5, alpha=.7, linestyle='--'),\n",
    "                    horizontalalignment='right',  verticalalignment='top', color='#333232', fontsize=12, fontweight='semibold')\n",
    "    else:\n",
    "        ax.text(xy[0]+.05, xy[1]+height/3,\n",
    "                f'{col.title()} {height:.1f}%', color='white', fontsize=15, fontweight='bold')\n",
    "ax.axis('off')\n",
    "plt.title(\"Share of Total Revenue\\n Per Segments\",\n",
    "          fontsize=21, fontweight='bold', y=1.02)"
   ]
  },
  {
   "cell_type": "code",
   "execution_count": 64,
   "metadata": {},
   "outputs": [
    {
     "data": {
      "text/plain": [
       "0.1625551804726045"
      ]
     },
     "execution_count": 64,
     "metadata": {},
     "output_type": "execute_result"
    }
   ],
   "source": [
    "RFMScores.query(\n",
    "    \"segment in  ['Promising', 'Potential Loyalist', 'Champions']\").shape[0] / len(RFMScores)"
   ]
  },
  {
   "cell_type": "code",
   "execution_count": 65,
   "metadata": {},
   "outputs": [
    {
     "data": {
      "text/plain": [
       "0.1931965723188782"
      ]
     },
     "execution_count": 65,
     "metadata": {},
     "output_type": "execute_result"
    }
   ],
   "source": [
    "RFMScores.query(\"segment=='Lost'\").shape[0]/len(RFMScores)"
   ]
  },
  {
   "cell_type": "markdown",
   "metadata": {},
   "source": [
    "Points of interest:\n",
    "- In the context of revenue contribution, the top 3 segments of whom make up ~16% of customers make up  ~58% of the total revenue. Each of the customers in the aforementioned segments should be of interest to the marketing team given their large revenue contribution relative to the other segments. \n",
    "- It's safe to say that segmentation was done correctly for customers in the 'lost' segment (low R,F, and M scores): despite representing ~19% of total customers, their share of contribution total revenue is a low 4%. The company can save resources as well as money by not lowering their priority on marketing efforts made for customers in this segment as it's likely that they were one or two time spenders. \n"
   ]
  },
  {
   "cell_type": "code",
   "execution_count": 66,
   "metadata": {},
   "outputs": [
    {
     "data": {
      "text/html": [
       "<div>\n",
       "<style scoped>\n",
       "    .dataframe tbody tr th:only-of-type {\n",
       "        vertical-align: middle;\n",
       "    }\n",
       "\n",
       "    .dataframe tbody tr th {\n",
       "        vertical-align: top;\n",
       "    }\n",
       "\n",
       "    .dataframe thead tr th {\n",
       "        text-align: left;\n",
       "    }\n",
       "\n",
       "    .dataframe thead tr:last-of-type th {\n",
       "        text-align: right;\n",
       "    }\n",
       "</style>\n",
       "<table border=\"1\" class=\"dataframe\">\n",
       "  <thead>\n",
       "    <tr>\n",
       "      <th></th>\n",
       "      <th colspan=\"2\" halign=\"left\">Recency</th>\n",
       "      <th>Frequency</th>\n",
       "      <th>Monetary</th>\n",
       "    </tr>\n",
       "    <tr>\n",
       "      <th></th>\n",
       "      <th>count</th>\n",
       "      <th>mean</th>\n",
       "      <th>mean</th>\n",
       "      <th>mean</th>\n",
       "    </tr>\n",
       "    <tr>\n",
       "      <th>segment</th>\n",
       "      <th></th>\n",
       "      <th></th>\n",
       "      <th></th>\n",
       "      <th></th>\n",
       "    </tr>\n",
       "  </thead>\n",
       "  <tbody>\n",
       "    <tr>\n",
       "      <th>About to Sleep</th>\n",
       "      <td>692</td>\n",
       "      <td>57.742775</td>\n",
       "      <td>45.429191</td>\n",
       "      <td>781.008706</td>\n",
       "    </tr>\n",
       "    <tr>\n",
       "      <th>At Risk</th>\n",
       "      <td>39</td>\n",
       "      <td>103.000000</td>\n",
       "      <td>175.615385</td>\n",
       "      <td>4612.287088</td>\n",
       "    </tr>\n",
       "    <tr>\n",
       "      <th>Cannot Lose Them</th>\n",
       "      <td>3</td>\n",
       "      <td>230.666667</td>\n",
       "      <td>51.333333</td>\n",
       "      <td>30401.135204</td>\n",
       "    </tr>\n",
       "    <tr>\n",
       "      <th>Champions</th>\n",
       "      <td>85</td>\n",
       "      <td>7.329412</td>\n",
       "      <td>782.141176</td>\n",
       "      <td>25862.522959</td>\n",
       "    </tr>\n",
       "    <tr>\n",
       "      <th>Hibernating</th>\n",
       "      <td>665</td>\n",
       "      <td>112.206015</td>\n",
       "      <td>32.962406</td>\n",
       "      <td>948.212047</td>\n",
       "    </tr>\n",
       "    <tr>\n",
       "      <th>Lost</th>\n",
       "      <td>744</td>\n",
       "      <td>254.239247</td>\n",
       "      <td>22.193548</td>\n",
       "      <td>464.370697</td>\n",
       "    </tr>\n",
       "    <tr>\n",
       "      <th>Loyal</th>\n",
       "      <td>76</td>\n",
       "      <td>12.394737</td>\n",
       "      <td>492.157895</td>\n",
       "      <td>4594.520845</td>\n",
       "    </tr>\n",
       "    <tr>\n",
       "      <th>Need Attention</th>\n",
       "      <td>159</td>\n",
       "      <td>47.044025</td>\n",
       "      <td>166.408805</td>\n",
       "      <td>3914.449445</td>\n",
       "    </tr>\n",
       "    <tr>\n",
       "      <th>New Customers</th>\n",
       "      <td>847</td>\n",
       "      <td>15.587957</td>\n",
       "      <td>44.762692</td>\n",
       "      <td>891.217578</td>\n",
       "    </tr>\n",
       "    <tr>\n",
       "      <th>Potential Loyalist</th>\n",
       "      <td>403</td>\n",
       "      <td>11.987593</td>\n",
       "      <td>194.868486</td>\n",
       "      <td>4531.989226</td>\n",
       "    </tr>\n",
       "    <tr>\n",
       "      <th>Promising</th>\n",
       "      <td>138</td>\n",
       "      <td>12.028986</td>\n",
       "      <td>76.898551</td>\n",
       "      <td>6628.966929</td>\n",
       "    </tr>\n",
       "  </tbody>\n",
       "</table>\n",
       "</div>"
      ],
      "text/plain": [
       "                   Recency               Frequency      Monetary\n",
       "                     count        mean        mean          mean\n",
       "segment                                                         \n",
       "About to Sleep         692   57.742775   45.429191    781.008706\n",
       "At Risk                 39  103.000000  175.615385   4612.287088\n",
       "Cannot Lose Them         3  230.666667   51.333333  30401.135204\n",
       "Champions               85    7.329412  782.141176  25862.522959\n",
       "Hibernating            665  112.206015   32.962406    948.212047\n",
       "Lost                   744  254.239247   22.193548    464.370697\n",
       "Loyal                   76   12.394737  492.157895   4594.520845\n",
       "Need Attention         159   47.044025  166.408805   3914.449445\n",
       "New Customers          847   15.587957   44.762692    891.217578\n",
       "Potential Loyalist     403   11.987593  194.868486   4531.989226\n",
       "Promising              138   12.028986   76.898551   6628.966929"
      ]
     },
     "execution_count": 66,
     "metadata": {},
     "output_type": "execute_result"
    }
   ],
   "source": [
    "profiles.groupby('segment').agg({\"Recency\":[\"count\",\"mean\"],\"Frequency\":\"mean\",\"Monetary\":\"mean\"})"
   ]
  },
  {
   "cell_type": "markdown",
   "metadata": {},
   "source": [
    "<a id='7'></a>"
   ]
  },
  {
   "cell_type": "markdown",
   "metadata": {},
   "source": [
    "# 7. Conlusion"
   ]
  },
  {
   "cell_type": "markdown",
   "metadata": {},
   "source": [
    "## 7.1 Summary\n",
    "My mains steps:\n",
    "1. Got a general idea of the underlying idea through basic exploration steps\n",
    "2. Dealt with missing values, erroneous or faulty data (ie. negative values), dropped duplicates, and changed data types.\n",
    "3. Carried out exploratory data analysis. Explored the distribution of variables (ie. `quantity`) over time (date, month) and per unique customer.\n",
    "4. Preprocessed and conducted an exploratory clustering analysis of the products; used Facebook's fastText unsupervised alogorithm to create vectors from product name and then applied K-means on the result (no statistical tests were done to test K-means clustering performance.\n",
    "5. Used RFM analysis to segment customers. \n",
    "6. Exported relevant data from analysis and created a Tableau dashboard as a deliverable for hypothetical stakeholder."
   ]
  },
  {
   "cell_type": "markdown",
   "metadata": {},
   "source": [
    "# 7.2 Suggestions\n",
    "\n",
    "1. For **champions**, **loyal**: They should be treated with extra care by offering rewards, discounts, bundle offerings (given large order size).\n",
    "2. For **'Cannot lose'**, **at risk**, and **needs attention** segment: The company should attempt to reach out to them to win them over as loyal customers through engagement.\n",
    "3. For **potential loyalist,** **new customers** and **promising:** Create relationships with them and an offer personalized discounts. \n",
    "4. For **hibernating** and **about to sleep** segments: Launch campaigns or create a win-back strategy to 'reawaken' them. \n",
    "4. For **lost** segment: Should have the lowest, if any, marketing and sales attention. They do not bring as much value to the company: have little contribution to total revenue, last active date (8 months on average) and have made very low number of orders (22) over one year. \n",
    "\n",
    "### Refer to Dashboard for further recommendations and further detailed insights. "
   ]
  },
  {
   "cell_type": "markdown",
   "metadata": {},
   "source": [
    "## 7.3 Limitations and Recommendations for Future Work\n",
    "- Cancellation orders may have distorted results (but not by much given approach)\n",
    "- Skewed distributions may have impacted RFM sore\n",
    "- RFM scores were subjectively chosen. May be improved with further clustering. Moreover, a statistical analysis (ANOVA post-hoc test could be applied to validate segment RFM differences). \n",
    "- Results based off sales data \n",
    "    - For more nuanced and personalized segments and recommendations add demographic data and psychographic variables.\n",
    "        - Also will help in detecting customers who are more likely to respond favorably to a given marketing or sales outreach.\n",
    "- Cost per product should be added to help in adding new metrics (ie. return on investment)."
   ]
  },
  {
   "cell_type": "markdown",
   "metadata": {},
   "source": [
    "---------------------------------------------------------"
   ]
  },
  {
   "cell_type": "markdown",
   "metadata": {},
   "source": [
    "## 7.4 References \n",
    "\n",
    "1. Daqing C., Sai L.S, and Kun G. Data mining for the online retail industry: A case study of RFM model-based customer segmentation using data mining (2012), Journal of Database Marketing and Customer Strategy Management.Available at: <https://www.matthias-carnein.de/pdf/pakdd19.pdf>.\n",
    "    - Read through introduction and conclusions to get a rough understanding of (1) customer segmentation and (2) obtain some background context in how to approach the customer segmentation problem. \n",
    "2. <a href=\"https://www.kaggle.com/fabiendaniel/\">fabiendaniel's</a> in-depth customer segmentation <a href=\"https://www.kaggle.com/fabiendaniel/customer-segmentation\">Kaggle notebook</a>\n",
    "    - Great reference for product clustering of which got me to look into forming a systematic approach towards addressing the cancellation orders. Was inspired by the first half of the project.  \n",
    "3. Wintermeier, N., 2020. Behavioral Segmentation Examples: Advanced Segmentation For Retailers. [online] Blog.crobox.com. Available at: <https://blog.crobox.com/article/behavioral-segmentation-examples>.\n",
    "    - Overview of applied data analysis approached to the customer segmentation problem. I obtained information on potential features of interest, in particular the RFM model as well as saw the potential of the K-Means clustering algorithm to aide in the exploration phase as well.\n",
    "4. <a href=\"https://towardsdatascience.com/@amjadaburmileh?source=post_page-----513ba9e302e7--------------------------------\">Amjad Abu-Rmileh's</a> blog: <a href=\"https://towardsdatascience.com/fasttext-bag-of-tricks-for-efficient-text-classification-513ba9e302e7\">How does FastText classifier work under the hood?</a>\n",
    "    - Introduced me to Facebook's fastText libary of which I used in vectorizing and intial clustering of the the word names in the product description.\n",
    "5. <a href=\"https://www.moengage.com/blog/aditya/\">Aditya's</a> blog: <a href=\"https://www.moengage.com/blog/rfm-analysis-using-predictive-segments/\">Predictive Segments using RFM Analysis: An In-Depth Guide.</a>\n",
    "6. <a href=\"https://linpack-for-tableau.com/data-visualizations/tableau-dashboards/sales-dashboard/rfm-analysis/\">LinPack For Tableau</a>: used customer sergment scoring to segment customer as well as drew inspiration from their dashboard.\n",
    "    - Other Tableau inspirations: <a href=\"https://linpack-for-tableau.com/data-visualizations/tableau-dashboards/sales-dashboard/rfm-analysis/\">Joao Correia's Tableau dashboard.</a>\n",
    "7. Anish Nair's article <a href=\"https://www.putler.com/rfm-analysis/\">RFM Analysis For Successful Customer Segmentation.</a> Used for obtaining general recommandation for RFM segments as well as actvity description (RFM explanation).  \n",
    "8. Professor <a href=\"https://www.linkedin.com/in/charlotte-mason-1108a32\">Charlotte Mason's</a> lecture on <a href=\"https://www.coursehero.com/file/11703324/Case-Study-RFM-Analysis/\">RFM Analysis.</a>\n",
    "    - Professor Charlotte Mason had a great lecture on RFM. I adopted her definition of RFM when explaining what the RFM model is. "
   ]
  },
  {
   "cell_type": "code",
   "execution_count": null,
   "metadata": {},
   "outputs": [],
   "source": []
  }
 ],
 "metadata": {
  "colab": {
   "name": "graduationProject.ipynb",
   "provenance": [],
   "toc_visible": true
  },
  "kernelspec": {
   "display_name": "Python 3",
   "language": "python",
   "name": "python3"
  },
  "language_info": {
   "codemirror_mode": {
    "name": "ipython",
    "version": 3
   },
   "file_extension": ".py",
   "mimetype": "text/x-python",
   "name": "python",
   "nbconvert_exporter": "python",
   "pygments_lexer": "ipython3",
   "version": "3.7.4"
  },
  "varInspector": {
   "cols": {
    "lenName": 16,
    "lenType": 16,
    "lenVar": 40
   },
   "kernels_config": {
    "python": {
     "delete_cmd_postfix": "",
     "delete_cmd_prefix": "del ",
     "library": "var_list.py",
     "varRefreshCmd": "print(var_dic_list())"
    },
    "r": {
     "delete_cmd_postfix": ") ",
     "delete_cmd_prefix": "rm(",
     "library": "var_list.r",
     "varRefreshCmd": "cat(var_dic_list()) "
    }
   },
   "types_to_exclude": [
    "module",
    "function",
    "builtin_function_or_method",
    "instance",
    "_Feature"
   ],
   "window_display": false
  }
 },
 "nbformat": 4,
 "nbformat_minor": 1
}
