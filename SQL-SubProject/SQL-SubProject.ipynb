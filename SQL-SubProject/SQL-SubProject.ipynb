{
 "cells": [
  {
   "cell_type": "markdown",
   "metadata": {},
   "source": [
    "# SQL (sub-project)"
   ]
  },
  {
   "cell_type": "markdown",
   "metadata": {},
   "source": [
    "## Description"
   ]
  },
  {
   "cell_type": "markdown",
   "metadata": {},
   "source": [
    "The coronavirus took the entire world by surprise, changing everyone's daily routine. City dwellers no longer spent their free time outside, going to cafes and malls; more people were at home, reading books. That attracted the attention of startups that rushed to develop new apps for book lovers. \n",
    "\n",
    "You've been given a database of one of the services competing in this market. It contains data on books, publishers, authors, and customer ratings and reviews of books. This information will be used to generate a value proposition for a new product."
   ]
  },
  {
   "cell_type": "markdown",
   "metadata": {},
   "source": [
    "## Goal\n",
    "This information will be used to generate a value proposition for a new product. "
   ]
  },
  {
   "cell_type": "markdown",
   "metadata": {},
   "source": [
    "## Task\n",
    "\n",
    "- Find the number of books released after January 1, 2000.\n",
    "- Find the number of user reviews and the average rating for each book.\n",
    "- Identify the publisher that has released the greatest number of books with more than 50 pages (this will help you exclude brochures and similar publications from your analysis).\n",
    "- Identify the author with the highest average book rating (look only at books with at least 50 ratings).\n",
    "- Find the average number of text reviews among users who rated more than 50 books."
   ]
  },
  {
   "cell_type": "markdown",
   "metadata": {},
   "source": [
    "<script>\n",
    "document.body.style.display = \"none\"; \n",
    "document.createElement(\"markdown\");\n",
    "var md_tags = document.getElementsByTagName(\"markdown\"); \n",
    "\n",
    "for (var i = 0; i < md_tags.length; i++) { \n",
    "    var md_text = md_tags[i].textContent.replace(/^[^\\S\\n]+/mg, \"\"); \n",
    "    var md_div = document.createElement(\"div\"); \n",
    "    md_div.id = \"content\";\n",
    "    md_div.innerHTML = marked(md_text);\n",
    "    md_tags[i].parentNode.appendChild(md_div); \n",
    "    md_tags[i].parentNode.removeChild(md_tags[i]);\n",
    "}\n",
    "document.body.style.display = \"\"; \n",
    "</script>\n",
    "<style>\n",
    ".row:after {\n",
    "  content: \"\";\n",
    "  display: table;\n",
    "  clear: both;\n",
    "}\n",
    " </style>\n",
    "   <h2 style=\"padding-left:350px;\">Data Description</h2>\n",
    "   <hr>\n",
    "<div class=\"row\">\n",
    "<div class='markdown' style='float:left;width:50%'>\n",
    "\n",
    "**`books`**\n",
    "\n",
    "Contains data on books:\n",
    "\n",
    "- `book_id`\n",
    "- `author_id`\n",
    "- `title`\n",
    "- `num_pages` — number of pages\n",
    "- `publication_date`\n",
    "- `publisher_id`\n",
    "\n",
    "\n",
    "**`ratings`**\n",
    "\n",
    "Contains data on user ratings:\n",
    "\n",
    "- `rating_id`\n",
    "- `book_id`\n",
    "- `username` — the name of the user who rated the book\n",
    "- `rating`\n",
    "</div>\n",
    "<div class='markdown' style='float:left;width:50%'>\n",
    "\n",
    "**`authors`**\n",
    "\n",
    "Contains data on authors:\n",
    "\n",
    "- `author_id`\n",
    "- `author`\n",
    "\n",
    "**`publishers`**\n",
    "\n",
    "Contains data on publishers: \n",
    "- `publisher_id`\n",
    "- `publisher`\n",
    "\n",
    "**`reviews`**\n",
    "\n",
    "Contains data on customer reviews:\n",
    "\n",
    "- `review_id`\n",
    "- `book_id`\n",
    "- `username` — the name of the user who reviewed the book\n",
    "- `text` — the text of the review\n",
    "</div>\n",
    "</div>"
   ]
  },
  {
   "cell_type": "markdown",
   "metadata": {},
   "source": [
    "## Commonly Used Functions"
   ]
  },
  {
   "cell_type": "code",
   "execution_count": 2,
   "metadata": {},
   "outputs": [],
   "source": [
    "def modifyChartBasic(ax,title,labelSize,xLabel='',yLabel='',\n",
    "                titleSize=False):\n",
    "    \"\"\"\n",
    "    Function that takes in graph variables for the purpose of customizing basic \n",
    "    default settings (ie. setting label size)\n",
    "    \"\"\"\n",
    "    if titleSize != False:\n",
    "        ax.set_title(title,fontsize=titleSize,fontweight='semibold', pad=10)\n",
    "    else:\n",
    "        ax.set_title(title)\n",
    "\n",
    "    # spines\n",
    "    sns.despine()\n",
    "    ax.spines['bottom'].set_color('gray')\n",
    "    ax.spines['left'].set_color('lightgrey')\n",
    "\n",
    "    # labels\n",
    "    ax.set_ylabel(yLabel, labelpad=5, fontsize=16)\n",
    "    ax.set_xlabel(xLabel, labelpad=5, fontsize=16)\n",
    "\n",
    "    # tick settings\n",
    "    ax.tick_params(labelsize=labelSize)\n",
    "    ax.tick_params(axis='both', left=False, bottom=False)"
   ]
  },
  {
   "cell_type": "code",
   "execution_count": 3,
   "metadata": {},
   "outputs": [],
   "source": [
    "def modifyChartExtra(ax,maxs=False,grid=False,highlightTop =False,\n",
    "                 highlightXVal=False, topValueColor=False,grayTickLabels=False,topChild=None):\n",
    "    \"\"\"\n",
    "    Main Function used to create extra modifications to chart. \n",
    "    \"\"\"\n",
    "    if grid:\n",
    "        ax.grid(axis=grid, alpha=.4)\n",
    "    if maxs:\n",
    "        modifyMaxYTick(ax,maxs,highlightTop)\n",
    "    if topValueColor:\n",
    "        modifyMaxValueColor(ax,topValueColor,topChild)\n",
    "     # changing size and color of tick labels (ticks are set to 0 to not display)   \n",
    "    ax.tick_params(labelsize=15, size=0, labelcolor='#8a8a8d' if grayTickLabels else 'black')\n",
    "    if highlightTop:\n",
    "        ax.get_yticklabels()[-1].set_color('black')\n",
    "    if highlightXVal:\n",
    "        # get first x ticklabel and set color to black\n",
    "        ax.get_xticklabels()[0].set_color('black')\n",
    "        "
   ]
  },
  {
   "cell_type": "code",
   "execution_count": 4,
   "metadata": {},
   "outputs": [],
   "source": [
    "def modifyMaxYTick(ax, maxValue,highlightTop):\n",
    "    \"\"\"\n",
    "    Function that modifies y-scale to have the top y-tick label represent the maximum value\n",
    "    whilst 'preventing' overlap between the last and second to last tick labels \n",
    "    \"\"\"  \n",
    "    # keep all except last  tick - ensure that the ticks don't overlap\n",
    "    midCenterQuarter = (ax.get_yticks()[1] - ax.get_yticks()[0]) / 4\n",
    "\n",
    "    ax.set_ylim(0, maxValue)  # set the yticks\n",
    "    # add the last tick value\n",
    "    y_ticks = np.append(\n",
    "        [i for i in ax.get_yticks() if i < (maxValue - midCenterQuarter)], [maxValue])\n",
    "    # set the modified y ticks\n",
    "    ax.set_yticks(y_ticks)"
   ]
  },
  {
   "cell_type": "code",
   "execution_count": 5,
   "metadata": {},
   "outputs": [],
   "source": [
    "def modifyMaxValueColor(ax,topValueColor,topChild):\n",
    "    \"\"\"\n",
    "    Function that modifies the color of the first child artist \n",
    "    (here meant to represent the rectangle artist that maps to the top value; if values in descending order and a bar graph)\n",
    "    of the main artist object\n",
    "    \"\"\"  \n",
    "    if topChild is None:\n",
    "        topChild = ax.get_children()[0]\n",
    "    topChild.set_color(topValueColor)\n",
    "    topChild.set_alpha(.8)"
   ]
  },
  {
   "cell_type": "code",
   "execution_count": 34,
   "metadata": {},
   "outputs": [],
   "source": [
    "from IPython.display import display_html\n",
    "def display_side_by_side(*args):\n",
    "    html_str=''\n",
    "    for df in args:\n",
    "        html_str+=df.to_html()\n",
    "    display_html(html_str.replace('table','table style=\"display:inline\"'),raw=True)"
   ]
  },
  {
   "cell_type": "markdown",
   "metadata": {},
   "source": [
    "# Libraries Used"
   ]
  },
  {
   "cell_type": "code",
   "execution_count": 6,
   "metadata": {},
   "outputs": [],
   "source": [
    "# import libraries\n",
    "import pandas as pd\n",
    "from sqlalchemy import create_engine\n",
    "import os\n",
    "from matplotlib import pyplot as plt\n",
    "import seaborn as sns\n",
    "%matplotlib inline"
   ]
  },
  {
   "cell_type": "code",
   "execution_count": 7,
   "metadata": {},
   "outputs": [],
   "source": [
    "db_config = {'user': 'praktikum_student',         # user name\n",
    "             'pwd': 'Sdf4$2;d-d30pp', # password\n",
    "             'host': 'rc1b-wcoijxj3yxfsf3fs.mdb.yandexcloud.net',\n",
    "             'port': 6432,              # connection port\n",
    "             'db': 'data-analyst-final-project-db'}          # the name of the data base\n",
    "\n",
    "connection_string = 'postgresql://{}:{}@{}:{}/{}'.format(db_config['user'],\n",
    "                                                                     db_config['pwd'],\n",
    "                                                                       db_config['host'],\n",
    "                                                                       db_config['port'],\n",
    "                                                                       db_config['db'])\n",
    "\n",
    "engine = create_engine(connection_string, connect_args={'sslmode':'require'})\n"
   ]
  },
  {
   "cell_type": "code",
   "execution_count": 10,
   "metadata": {},
   "outputs": [],
   "source": [
    "def executeQuery(query, con=engine):\n",
    "    return pd.read_sql(query, con)"
   ]
  },
  {
   "cell_type": "code",
   "execution_count": 17,
   "metadata": {},
   "outputs": [],
   "source": [
    "tables = ['books','authors', 'publishers','ratings','reviews']"
   ]
  },
  {
   "cell_type": "code",
   "execution_count": 31,
   "metadata": {},
   "outputs": [
    {
     "name": "stdout",
     "output_type": "stream",
     "text": [
      "books count: 1000\n",
      "authors count: 636\n",
      "publishers count: 340\n",
      "ratings count: 6456\n",
      "reviews count: 2793\n"
     ]
    },
    {
     "data": {
      "text/plain": [
       "[None, None, None, None, None]"
      ]
     },
     "execution_count": 31,
     "metadata": {},
     "output_type": "execute_result"
    }
   ],
   "source": [
    "[print(table, 'count:',executeQuery(f'SELECT COUNT(*) FROM {table}')['count'][0]) for table in tables]"
   ]
  },
  {
   "cell_type": "code",
   "execution_count": 41,
   "metadata": {},
   "outputs": [
    {
     "name": "stdout",
     "output_type": "stream",
     "text": [
      "books\n"
     ]
    },
    {
     "data": {
      "text/html": [
       "<table style=\"display:inline\" border=\"1\" class=\"dataframe\">\n",
       "  <thead>\n",
       "    <tr style=\"text-align: right;\">\n",
       "      <th></th>\n",
       "      <th>book_id</th>\n",
       "      <th>author_id</th>\n",
       "      <th>title</th>\n",
       "      <th>num_pages</th>\n",
       "      <th>publication_date</th>\n",
       "      <th>publisher_id</th>\n",
       "    </tr>\n",
       "  </thead>\n",
       "  <tbody>\n",
       "    <tr>\n",
       "      <th>0</th>\n",
       "      <td>1</td>\n",
       "      <td>546</td>\n",
       "      <td>'Salem's Lot</td>\n",
       "      <td>594</td>\n",
       "      <td>2005-11-01</td>\n",
       "      <td>93</td>\n",
       "    </tr>\n",
       "    <tr>\n",
       "      <th>1</th>\n",
       "      <td>2</td>\n",
       "      <td>465</td>\n",
       "      <td>1 000 Places to See Before You Die</td>\n",
       "      <td>992</td>\n",
       "      <td>2003-05-22</td>\n",
       "      <td>336</td>\n",
       "    </tr>\n",
       "    <tr>\n",
       "      <th>2</th>\n",
       "      <td>3</td>\n",
       "      <td>407</td>\n",
       "      <td>13 Little Blue Envelopes (Little Blue Envelope  #1)</td>\n",
       "      <td>322</td>\n",
       "      <td>2010-12-21</td>\n",
       "      <td>135</td>\n",
       "    </tr>\n",
       "    <tr>\n",
       "      <th>3</th>\n",
       "      <td>4</td>\n",
       "      <td>82</td>\n",
       "      <td>1491: New Revelations of the Americas Before Columbus</td>\n",
       "      <td>541</td>\n",
       "      <td>2006-10-10</td>\n",
       "      <td>309</td>\n",
       "    </tr>\n",
       "    <tr>\n",
       "      <th>4</th>\n",
       "      <td>5</td>\n",
       "      <td>125</td>\n",
       "      <td>1776</td>\n",
       "      <td>386</td>\n",
       "      <td>2006-07-04</td>\n",
       "      <td>268</td>\n",
       "    </tr>\n",
       "  </tbody>\n",
       "</table style=\"display:inline\">"
      ]
     },
     "metadata": {},
     "output_type": "display_data"
    },
    {
     "name": "stdout",
     "output_type": "stream",
     "text": [
      "authors\n"
     ]
    },
    {
     "data": {
      "text/html": [
       "<table style=\"display:inline\" border=\"1\" class=\"dataframe\">\n",
       "  <thead>\n",
       "    <tr style=\"text-align: right;\">\n",
       "      <th></th>\n",
       "      <th>author_id</th>\n",
       "      <th>author</th>\n",
       "    </tr>\n",
       "  </thead>\n",
       "  <tbody>\n",
       "    <tr>\n",
       "      <th>0</th>\n",
       "      <td>1</td>\n",
       "      <td>A.S. Byatt</td>\n",
       "    </tr>\n",
       "    <tr>\n",
       "      <th>1</th>\n",
       "      <td>2</td>\n",
       "      <td>Aesop/Laura Harris/Laura Gibbs</td>\n",
       "    </tr>\n",
       "    <tr>\n",
       "      <th>2</th>\n",
       "      <td>3</td>\n",
       "      <td>Agatha Christie</td>\n",
       "    </tr>\n",
       "    <tr>\n",
       "      <th>3</th>\n",
       "      <td>4</td>\n",
       "      <td>Alan Brennert</td>\n",
       "    </tr>\n",
       "    <tr>\n",
       "      <th>4</th>\n",
       "      <td>5</td>\n",
       "      <td>Alan Moore/David   Lloyd</td>\n",
       "    </tr>\n",
       "  </tbody>\n",
       "</table style=\"display:inline\">"
      ]
     },
     "metadata": {},
     "output_type": "display_data"
    },
    {
     "name": "stdout",
     "output_type": "stream",
     "text": [
      "publishers\n"
     ]
    },
    {
     "data": {
      "text/html": [
       "<table style=\"display:inline\" border=\"1\" class=\"dataframe\">\n",
       "  <thead>\n",
       "    <tr style=\"text-align: right;\">\n",
       "      <th></th>\n",
       "      <th>publisher_id</th>\n",
       "      <th>publisher</th>\n",
       "    </tr>\n",
       "  </thead>\n",
       "  <tbody>\n",
       "    <tr>\n",
       "      <th>0</th>\n",
       "      <td>1</td>\n",
       "      <td>Ace</td>\n",
       "    </tr>\n",
       "    <tr>\n",
       "      <th>1</th>\n",
       "      <td>2</td>\n",
       "      <td>Ace Book</td>\n",
       "    </tr>\n",
       "    <tr>\n",
       "      <th>2</th>\n",
       "      <td>3</td>\n",
       "      <td>Ace Books</td>\n",
       "    </tr>\n",
       "    <tr>\n",
       "      <th>3</th>\n",
       "      <td>4</td>\n",
       "      <td>Ace Hardcover</td>\n",
       "    </tr>\n",
       "    <tr>\n",
       "      <th>4</th>\n",
       "      <td>5</td>\n",
       "      <td>Addison Wesley Publishing Company</td>\n",
       "    </tr>\n",
       "  </tbody>\n",
       "</table style=\"display:inline\">"
      ]
     },
     "metadata": {},
     "output_type": "display_data"
    },
    {
     "name": "stdout",
     "output_type": "stream",
     "text": [
      "ratings\n"
     ]
    },
    {
     "data": {
      "text/html": [
       "<table style=\"display:inline\" border=\"1\" class=\"dataframe\">\n",
       "  <thead>\n",
       "    <tr style=\"text-align: right;\">\n",
       "      <th></th>\n",
       "      <th>rating_id</th>\n",
       "      <th>book_id</th>\n",
       "      <th>username</th>\n",
       "      <th>rating</th>\n",
       "    </tr>\n",
       "  </thead>\n",
       "  <tbody>\n",
       "    <tr>\n",
       "      <th>0</th>\n",
       "      <td>1</td>\n",
       "      <td>1</td>\n",
       "      <td>ryanfranco</td>\n",
       "      <td>4</td>\n",
       "    </tr>\n",
       "    <tr>\n",
       "      <th>1</th>\n",
       "      <td>2</td>\n",
       "      <td>1</td>\n",
       "      <td>grantpatricia</td>\n",
       "      <td>2</td>\n",
       "    </tr>\n",
       "    <tr>\n",
       "      <th>2</th>\n",
       "      <td>3</td>\n",
       "      <td>1</td>\n",
       "      <td>brandtandrea</td>\n",
       "      <td>5</td>\n",
       "    </tr>\n",
       "    <tr>\n",
       "      <th>3</th>\n",
       "      <td>4</td>\n",
       "      <td>2</td>\n",
       "      <td>lorichen</td>\n",
       "      <td>3</td>\n",
       "    </tr>\n",
       "    <tr>\n",
       "      <th>4</th>\n",
       "      <td>5</td>\n",
       "      <td>2</td>\n",
       "      <td>mariokeller</td>\n",
       "      <td>2</td>\n",
       "    </tr>\n",
       "  </tbody>\n",
       "</table style=\"display:inline\">"
      ]
     },
     "metadata": {},
     "output_type": "display_data"
    },
    {
     "name": "stdout",
     "output_type": "stream",
     "text": [
      "reviews\n"
     ]
    },
    {
     "data": {
      "text/html": [
       "<table style=\"display:inline\" border=\"1\" class=\"dataframe\">\n",
       "  <thead>\n",
       "    <tr style=\"text-align: right;\">\n",
       "      <th></th>\n",
       "      <th>review_id</th>\n",
       "      <th>book_id</th>\n",
       "      <th>username</th>\n",
       "      <th>text</th>\n",
       "    </tr>\n",
       "  </thead>\n",
       "  <tbody>\n",
       "    <tr>\n",
       "      <th>0</th>\n",
       "      <td>1</td>\n",
       "      <td>1</td>\n",
       "      <td>brandtandrea</td>\n",
       "      <td>Mention society tell send professor analysis. Over provide race technology continue these.</td>\n",
       "    </tr>\n",
       "    <tr>\n",
       "      <th>1</th>\n",
       "      <td>2</td>\n",
       "      <td>1</td>\n",
       "      <td>ryanfranco</td>\n",
       "      <td>Foot glass pretty audience hit themselves. Among admit investment argue security.</td>\n",
       "    </tr>\n",
       "    <tr>\n",
       "      <th>2</th>\n",
       "      <td>3</td>\n",
       "      <td>2</td>\n",
       "      <td>lorichen</td>\n",
       "      <td>Listen treat keep worry. Miss husband tax but person sport treatment industry. Kitchen decision deep the. Social party body the.</td>\n",
       "    </tr>\n",
       "    <tr>\n",
       "      <th>3</th>\n",
       "      <td>4</td>\n",
       "      <td>3</td>\n",
       "      <td>johnsonamanda</td>\n",
       "      <td>Finally month interesting blue could nature cultural bit. Prepare beat finish grow that smile teach. Dream me play near.</td>\n",
       "    </tr>\n",
       "    <tr>\n",
       "      <th>4</th>\n",
       "      <td>5</td>\n",
       "      <td>3</td>\n",
       "      <td>scotttamara</td>\n",
       "      <td>Nation purpose heavy give wait song will. List dinner another whole positive radio fast. Music staff many green.</td>\n",
       "    </tr>\n",
       "  </tbody>\n",
       "</table style=\"display:inline\">"
      ]
     },
     "metadata": {},
     "output_type": "display_data"
    },
    {
     "data": {
      "text/plain": [
       "[(None, None), (None, None), (None, None), (None, None), (None, None)]"
      ]
     },
     "execution_count": 41,
     "metadata": {},
     "output_type": "execute_result"
    }
   ],
   "source": [
    "[(print(table),display_side_by_side(executeQuery(f'SELECT * FROM {table} LIMIT 5'))) \n",
    " for table in tables]"
   ]
  },
  {
   "cell_type": "markdown",
   "metadata": {},
   "source": [
    "# Number of books released after January 1, 2000."
   ]
  },
  {
   "cell_type": "code",
   "execution_count": 11,
   "metadata": {},
   "outputs": [
    {
     "data": {
      "text/html": [
       "<div>\n",
       "<style scoped>\n",
       "    .dataframe tbody tr th:only-of-type {\n",
       "        vertical-align: middle;\n",
       "    }\n",
       "\n",
       "    .dataframe tbody tr th {\n",
       "        vertical-align: top;\n",
       "    }\n",
       "\n",
       "    .dataframe thead th {\n",
       "        text-align: right;\n",
       "    }\n",
       "</style>\n",
       "<table border=\"1\" class=\"dataframe\">\n",
       "  <thead>\n",
       "    <tr style=\"text-align: right;\">\n",
       "      <th></th>\n",
       "      <th>count</th>\n",
       "    </tr>\n",
       "  </thead>\n",
       "  <tbody>\n",
       "    <tr>\n",
       "      <td>0</td>\n",
       "      <td>819</td>\n",
       "    </tr>\n",
       "  </tbody>\n",
       "</table>\n",
       "</div>"
      ],
      "text/plain": [
       "   count\n",
       "0    819"
      ]
     },
     "execution_count": 11,
     "metadata": {},
     "output_type": "execute_result"
    }
   ],
   "source": [
    "executeQuery(\"SELECT COUNT(book_id) from books where publication_date::DATE > '2000-01-01'\")"
   ]
  },
  {
   "cell_type": "markdown",
   "metadata": {},
   "source": [
    "### There are 819 books that were released after January 1, 2020. "
   ]
  },
  {
   "cell_type": "code",
   "execution_count": 12,
   "metadata": {},
   "outputs": [
    {
     "name": "stderr",
     "output_type": "stream",
     "text": [
      "/opt/conda/lib/python3.7/site-packages/pandas/plotting/_matplotlib/converter.py:103: FutureWarning: Using an implicitly registered datetime converter for a matplotlib plotting method. The converter was registered by pandas on import. Future versions of pandas will require you to explicitly register matplotlib converters.\n",
      "\n",
      "To register the converters:\n",
      "\t>>> from pandas.plotting import register_matplotlib_converters\n",
      "\t>>> register_matplotlib_converters()\n",
      "  warnings.warn(msg, FutureWarning)\n"
     ]
    },
    {
     "data": {
      "image/png": "[encoded data removed]",
      "text/plain": [
       "<Figure size 1080x360 with 1 Axes>"
      ]
     },
     "metadata": {
      "needs_background": "light"
     },
     "output_type": "display_data"
    }
   ],
   "source": [
    "ax=executeQuery(\"select publication_date::date from books\")['publication_date'].hist(bins=100,figsize=(15,5))\n",
    "modifyChartBasic(ax,'Distribution of Book Release Dates',15,titleSize=18)\n",
    "plt.grid('both',alpha=.2)"
   ]
  },
  {
   "cell_type": "markdown",
   "metadata": {},
   "source": [
    "### A large portion of the books in the database were released in the 2000s."
   ]
  },
  {
   "cell_type": "markdown",
   "metadata": {},
   "source": [
    "Number of user reviews and the average rating for each book."
   ]
  },
  {
   "cell_type": "code",
   "execution_count": 63,
   "metadata": {},
   "outputs": [],
   "source": [
    "tables, aggs, labels = ['ratings','reviews'],['COUNT(*)', 'COUNT(DISTINCT book_id)'],['count','unique count']"
   ]
  },
  {
   "cell_type": "code",
   "execution_count": 80,
   "metadata": {},
   "outputs": [
    {
     "name": "stdout",
     "output_type": "stream",
     "text": [
      "ratings book count: 6456\n",
      "ratings book count: 1000\n",
      "reviews book unique count: 2793\n",
      "reviews book unique count: 994\n"
     ]
    },
    {
     "data": {
      "text/plain": [
       "[None, None, None, None]"
      ]
     },
     "execution_count": 80,
     "metadata": {},
     "output_type": "execute_result"
    }
   ],
   "source": [
    "[print(table,f'book {label}:',executeQuery(     #table name, aggregate function name\n",
    "    f'SELECT {agg} FROM {table} GROUP BY book_id').sum()['count']) #sum of SQL count query\n",
    " for table,label in zip(tables,labels) for agg in aggs]"
   ]
  },
  {
   "cell_type": "code",
   "execution_count": 79,
   "metadata": {},
   "outputs": [
    {
     "data": {
      "text/html": [
       "<div>\n",
       "<style scoped>\n",
       "    .dataframe tbody tr th:only-of-type {\n",
       "        vertical-align: middle;\n",
       "    }\n",
       "\n",
       "    .dataframe tbody tr th {\n",
       "        vertical-align: top;\n",
       "    }\n",
       "\n",
       "    .dataframe thead th {\n",
       "        text-align: right;\n",
       "    }\n",
       "</style>\n",
       "<table border=\"1\" class=\"dataframe\">\n",
       "  <thead>\n",
       "    <tr style=\"text-align: right;\">\n",
       "      <th></th>\n",
       "      <th>book_id</th>\n",
       "      <th>review_count</th>\n",
       "      <th>avg_rating</th>\n",
       "    </tr>\n",
       "  </thead>\n",
       "  <tbody>\n",
       "    <tr>\n",
       "      <td>0</td>\n",
       "      <td>948</td>\n",
       "      <td>7</td>\n",
       "      <td>3.662500</td>\n",
       "    </tr>\n",
       "    <tr>\n",
       "      <td>1</td>\n",
       "      <td>656</td>\n",
       "      <td>6</td>\n",
       "      <td>4.264151</td>\n",
       "    </tr>\n",
       "    <tr>\n",
       "      <td>2</td>\n",
       "      <td>497</td>\n",
       "      <td>6</td>\n",
       "      <td>4.125000</td>\n",
       "    </tr>\n",
       "    <tr>\n",
       "      <td>3</td>\n",
       "      <td>963</td>\n",
       "      <td>6</td>\n",
       "      <td>3.977273</td>\n",
       "    </tr>\n",
       "    <tr>\n",
       "      <td>4</td>\n",
       "      <td>696</td>\n",
       "      <td>6</td>\n",
       "      <td>3.830508</td>\n",
       "    </tr>\n",
       "    <tr>\n",
       "      <td>...</td>\n",
       "      <td>...</td>\n",
       "      <td>...</td>\n",
       "      <td>...</td>\n",
       "    </tr>\n",
       "    <tr>\n",
       "      <td>989</td>\n",
       "      <td>599</td>\n",
       "      <td>1</td>\n",
       "      <td>5.000000</td>\n",
       "    </tr>\n",
       "    <tr>\n",
       "      <td>990</td>\n",
       "      <td>187</td>\n",
       "      <td>1</td>\n",
       "      <td>3.000000</td>\n",
       "    </tr>\n",
       "    <tr>\n",
       "      <td>991</td>\n",
       "      <td>156</td>\n",
       "      <td>1</td>\n",
       "      <td>4.333333</td>\n",
       "    </tr>\n",
       "    <tr>\n",
       "      <td>992</td>\n",
       "      <td>984</td>\n",
       "      <td>1</td>\n",
       "      <td>4.500000</td>\n",
       "    </tr>\n",
       "    <tr>\n",
       "      <td>993</td>\n",
       "      <td>760</td>\n",
       "      <td>1</td>\n",
       "      <td>4.000000</td>\n",
       "    </tr>\n",
       "  </tbody>\n",
       "</table>\n",
       "<p>994 rows × 3 columns</p>\n",
       "</div>"
      ],
      "text/plain": [
       "     book_id  review_count  avg_rating\n",
       "0        948             7    3.662500\n",
       "1        656             6    4.264151\n",
       "2        497             6    4.125000\n",
       "3        963             6    3.977273\n",
       "4        696             6    3.830508\n",
       "..       ...           ...         ...\n",
       "989      599             1    5.000000\n",
       "990      187             1    3.000000\n",
       "991      156             1    4.333333\n",
       "992      984             1    4.500000\n",
       "993      760             1    4.000000\n",
       "\n",
       "[994 rows x 3 columns]"
      ]
     },
     "execution_count": 79,
     "metadata": {},
     "output_type": "execute_result"
    }
   ],
   "source": [
    "question2 = executeQuery('''\n",
    "SELECT NumUserReview.book_id, \n",
    "       NumUserReview.review_count, \n",
    "       avg_rating \n",
    "FROM   (SELECT book_id,    /*--------Number of reviews per unique book----------*/\n",
    "               Count(*) AS review_count \n",
    "        FROM   reviews \n",
    "        GROUP  BY book_id) AS NumUserReview \n",
    "LEFT JOIN (SELECT book_id,   /*--------Average rating per unique book----------*/\n",
    "               Avg(rating) AS avg_rating \n",
    "           FROM   ratings \n",
    "          GROUP  BY book_id) AS rating \n",
    "               ON NumUserReview.book_id = rating.book_id \n",
    "ORDER  BY review_count DESC; \n",
    "             ''')\n",
    "question2"
   ]
  },
  {
   "cell_type": "code",
   "execution_count": 68,
   "metadata": {},
   "outputs": [
    {
     "data": {
      "image/png": "[encoded data removed]",
      "text/plain": [
       "<Figure size 1080x360 with 2 Axes>"
      ]
     },
     "metadata": {
      "needs_background": "light"
     },
     "output_type": "display_data"
    }
   ],
   "source": [
    "fig, ax= plt.subplots(ncols=2,figsize=(15,5))\n",
    "sns.countplot(question2['review_count'],\n",
    "              order =question2['review_count'].value_counts().index,\n",
    "              color='#9cffbc',alpha=.3,ax=ax[0])\n",
    "sns.distplot(question2['avg_rating'],ax=ax[1])\n",
    "\n",
    "Xlabels = '# of Reviews', 'Average Rating'\n",
    "Ylabels= 'Count',  'Density Distribution (%)'\n",
    "\n",
    "[modifyChartBasic(ax[i], '' , 13,xLabel=Xlabels[i],yLabel=Ylabels[i]) for i in [0,1]]\n",
    "[modifyChartExtra(ax[i], topValueColor='#80DE9F', highlightXVal=True if i==0  else False) for i in [0,1]]\n",
    "[ax[i].grid(axis='y', alpha=.2) for i in range(0,2)]\n",
    "\n",
    "for rec in  ax[0].patches:\n",
    "    ax[0].text(rec.get_x()+.3,rec.get_height(), rec.get_height(),\n",
    "               fontsize=15,color='black' if rec.get_height()>400 else '#A9A9A9', horizontalalignment='center')\n",
    "ax[0].set_yticklabels([])\n",
    "ax[0].spines['left'].set_visible(False)\n",
    "ax[0].spines['bottom'].set_color('#ebebeb') \n",
    "ax[0].spines['bottom'].set_linewidth(3)\n",
    "\n",
    "plt.suptitle(\"Number of Users Review and Average Rating Per Book\",fontsize=20, y=1,fontweight='bold')\n",
    "plt.show()"
   ]
  },
  {
   "cell_type": "markdown",
   "metadata": {},
   "source": [
    "### On average, books are reviewed by 2 users and are left with a rating of 4/5.  Books on the aggregate seem to have a favorable rating considering the low % 1-2 ratings. "
   ]
  },
  {
   "cell_type": "markdown",
   "metadata": {},
   "source": [
    "- Identify the publisher that has released the greatest number of books with more than 50 pages (this will help you exclude brochuresA and similar publications from your analysis)."
   ]
  },
  {
   "cell_type": "code",
   "execution_count": 71,
   "metadata": {},
   "outputs": [
    {
     "data": {
      "image/png": "[encoded data removed]",
      "text/plain": [
       "<Figure size 864x504 with 1 Axes>"
      ]
     },
     "metadata": {},
     "output_type": "display_data"
    }
   ],
   "source": [
    "fig, ax= plt.subplots(figsize=(12,7))\n",
    "(executeQuery('''\n",
    "SELECT publisher, \n",
    "       Count(books.book_id) \n",
    "FROM   books \n",
    "       INNER JOIN publishers \n",
    "               ON books.publisher_id = publishers.publisher_id \n",
    "WHERE  num_pages > 50 \n",
    "GROUP  BY publisher \n",
    "ORDER  BY count DESC \n",
    "LIMIT  10 \n",
    "''')\n",
    " .set_index('publisher')\n",
    " .sort_values('count')\n",
    " .plot.barh(ax=ax,color='#9CC4E4',legend=False))\n",
    "\n",
    "modifyChartBasic(ax, 'Publishers That Released Books W/ Pages > 50 (Top 15)',13,\n",
    "                 xLabel='Number of Book Releases',titleSize=18)\n",
    "modifyChartExtra(ax,grid='x',topValueColor='#1f77b4', grayTickLabels=True,\n",
    "                 topChild=ax.get_children()[9], highlightTop='black')\n",
    "plt.text(ax.get_children()[9].get_width()+.2, 8.9,\n",
    "         ax.get_children()[9].get_width(),fontsize=15)\n",
    "\n",
    "plt.show()"
   ]
  },
  {
   "cell_type": "markdown",
   "metadata": {},
   "source": [
    "### Penguin books has the most number of book releases (42) for books with > 50 pages. "
   ]
  },
  {
   "cell_type": "markdown",
   "metadata": {},
   "source": [
    "- Identify the author with the highest average book rating (look only at books with at least 50 ratings).\n"
   ]
  },
  {
   "cell_type": "code",
   "execution_count": 93,
   "metadata": {},
   "outputs": [
    {
     "data": {
      "text/html": [
       "<style  type=\"text/css\" >\n",
       "    #T_f6768aea_f860_11ea_a24d_02420a391797row0_col1 {\n",
       "            background-color:  #00441b;\n",
       "            color:  #f1f1f1;\n",
       "        }    #T_f6768aea_f860_11ea_a24d_02420a391797row0_col2 {\n",
       "            background-color:  #00441b;\n",
       "            color:  #f1f1f1;\n",
       "        }    #T_f6768aea_f860_11ea_a24d_02420a391797row1_col1 {\n",
       "            background-color:  #00682a;\n",
       "            color:  #f1f1f1;\n",
       "        }    #T_f6768aea_f860_11ea_a24d_02420a391797row1_col2 {\n",
       "            background-color:  #f7fcf5;\n",
       "            color:  #000000;\n",
       "        }    #T_f6768aea_f860_11ea_a24d_02420a391797row2_col1 {\n",
       "            background-color:  #137d39;\n",
       "            color:  #f1f1f1;\n",
       "        }    #T_f6768aea_f860_11ea_a24d_02420a391797row2_col2 {\n",
       "            background-color:  #aedea7;\n",
       "            color:  #000000;\n",
       "        }    #T_f6768aea_f860_11ea_a24d_02420a391797row3_col1 {\n",
       "            background-color:  #63bc6e;\n",
       "            color:  #000000;\n",
       "        }    #T_f6768aea_f860_11ea_a24d_02420a391797row3_col2 {\n",
       "            background-color:  #f7fcf5;\n",
       "            color:  #000000;\n",
       "        }    #T_f6768aea_f860_11ea_a24d_02420a391797row4_col1 {\n",
       "            background-color:  #f7fcf5;\n",
       "            color:  #000000;\n",
       "        }    #T_f6768aea_f860_11ea_a24d_02420a391797row4_col2 {\n",
       "            background-color:  #f7fcf5;\n",
       "            color:  #000000;\n",
       "        }</style><table id=\"T_f6768aea_f860_11ea_a24d_02420a391797\" ><thead>    <tr>        <th class=\"blank level0\" ></th>        <th class=\"col_heading level0 col0\" >author</th>        <th class=\"col_heading level0 col1\" >avg</th>        <th class=\"col_heading level0 col2\" >book_count</th>    </tr></thead><tbody>\n",
       "                <tr>\n",
       "                        <th id=\"T_f6768aea_f860_11ea_a24d_02420a391797level0_row0\" class=\"row_heading level0 row0\" >0</th>\n",
       "                        <td id=\"T_f6768aea_f860_11ea_a24d_02420a391797row0_col0\" class=\"data row0 col0\" >J.K. Rowling/Mary GrandPré</td>\n",
       "                        <td id=\"T_f6768aea_f860_11ea_a24d_02420a391797row0_col1\" class=\"data row0 col1\" >4.2871</td>\n",
       "                        <td id=\"T_f6768aea_f860_11ea_a24d_02420a391797row0_col2\" class=\"data row0 col2\" >4</td>\n",
       "            </tr>\n",
       "            <tr>\n",
       "                        <th id=\"T_f6768aea_f860_11ea_a24d_02420a391797level0_row1\" class=\"row_heading level0 row1\" >1</th>\n",
       "                        <td id=\"T_f6768aea_f860_11ea_a24d_02420a391797row1_col0\" class=\"data row1 col0\" >Markus Zusak/Cao Xuân Việt Khương</td>\n",
       "                        <td id=\"T_f6768aea_f860_11ea_a24d_02420a391797row1_col1\" class=\"data row1 col1\" >4.26415</td>\n",
       "                        <td id=\"T_f6768aea_f860_11ea_a24d_02420a391797row1_col2\" class=\"data row1 col2\" >1</td>\n",
       "            </tr>\n",
       "            <tr>\n",
       "                        <th id=\"T_f6768aea_f860_11ea_a24d_02420a391797level0_row2\" class=\"row_heading level0 row2\" >2</th>\n",
       "                        <td id=\"T_f6768aea_f860_11ea_a24d_02420a391797row2_col0\" class=\"data row2 col0\" >J.R.R. Tolkien</td>\n",
       "                        <td id=\"T_f6768aea_f860_11ea_a24d_02420a391797row2_col1\" class=\"data row2 col1\" >4.24691</td>\n",
       "                        <td id=\"T_f6768aea_f860_11ea_a24d_02420a391797row2_col2\" class=\"data row2 col2\" >2</td>\n",
       "            </tr>\n",
       "            <tr>\n",
       "                        <th id=\"T_f6768aea_f860_11ea_a24d_02420a391797level0_row3\" class=\"row_heading level0 row3\" >3</th>\n",
       "                        <td id=\"T_f6768aea_f860_11ea_a24d_02420a391797row3_col0\" class=\"data row3 col0\" >Louisa May Alcott</td>\n",
       "                        <td id=\"T_f6768aea_f860_11ea_a24d_02420a391797row3_col1\" class=\"data row3 col1\" >4.19231</td>\n",
       "                        <td id=\"T_f6768aea_f860_11ea_a24d_02420a391797row3_col2\" class=\"data row3 col2\" >1</td>\n",
       "            </tr>\n",
       "            <tr>\n",
       "                        <th id=\"T_f6768aea_f860_11ea_a24d_02420a391797level0_row4\" class=\"row_heading level0 row4\" >4</th>\n",
       "                        <td id=\"T_f6768aea_f860_11ea_a24d_02420a391797row4_col0\" class=\"data row4 col0\" >Rick Riordan</td>\n",
       "                        <td id=\"T_f6768aea_f860_11ea_a24d_02420a391797row4_col1\" class=\"data row4 col1\" >4.08065</td>\n",
       "                        <td id=\"T_f6768aea_f860_11ea_a24d_02420a391797row4_col2\" class=\"data row4 col2\" >1</td>\n",
       "            </tr>\n",
       "    </tbody></table>"
      ],
      "text/plain": [
       "<pandas.io.formats.style.Styler at 0x7fc2db336490>"
      ]
     },
     "execution_count": 93,
     "metadata": {},
     "output_type": "execute_result"
    }
   ],
   "source": [
    "executeQuery('''\n",
    "SELECT author,  /*--------Author and average book rating----------*/\n",
    "       Avg(rating),\n",
    "       COUNT(DISTINCT books.book_id) as book_count\n",
    "FROM   books \n",
    "       LEFT JOIN ratings   \n",
    "               ON books.book_id = ratings.book_id \n",
    "       LEFT JOIN authors     \n",
    "               ON authors.author_id = books.author_id \n",
    "WHERE  books.book_id IN (SELECT book_id  /*--------Books > 50 rating count----------*/\n",
    "                         FROM   ratings \n",
    "                         GROUP  BY book_id \n",
    "                         HAVING Count(rating) > 49) \n",
    "GROUP  BY authors.author \n",
    "ORDER  BY Avg(rating) DESC \n",
    "LIMIT  5 \n",
    "''').style.background_gradient(cmap='Greens')"
   ]
  },
  {
   "cell_type": "markdown",
   "metadata": {},
   "source": [
    "### The top 3 authors with the highest average book rating having at least 50 user ratings are: J.K. Rowling/Mary GrandPré, Markus Zusak/Cao Xuân Việt Khương, and J.R.R. Tolkien. "
   ]
  },
  {
   "cell_type": "markdown",
   "metadata": {},
   "source": [
    "- Find the average number of text reviews among users who rated more than 50 books."
   ]
  },
  {
   "cell_type": "code",
   "execution_count": 73,
   "metadata": {},
   "outputs": [
    {
     "data": {
      "text/html": [
       "<div>\n",
       "<style scoped>\n",
       "    .dataframe tbody tr th:only-of-type {\n",
       "        vertical-align: middle;\n",
       "    }\n",
       "\n",
       "    .dataframe tbody tr th {\n",
       "        vertical-align: top;\n",
       "    }\n",
       "\n",
       "    .dataframe thead th {\n",
       "        text-align: right;\n",
       "    }\n",
       "</style>\n",
       "<table border=\"1\" class=\"dataframe\">\n",
       "  <thead>\n",
       "    <tr style=\"text-align: right;\">\n",
       "      <th></th>\n",
       "      <th>avg_num_text_reviews</th>\n",
       "    </tr>\n",
       "  </thead>\n",
       "  <tbody>\n",
       "    <tr>\n",
       "      <td>0</td>\n",
       "      <td>24.333333</td>\n",
       "    </tr>\n",
       "  </tbody>\n",
       "</table>\n",
       "</div>"
      ],
      "text/plain": [
       "   avg_num_text_reviews\n",
       "0             24.333333"
      ]
     },
     "execution_count": 73,
     "metadata": {},
     "output_type": "execute_result"
    }
   ],
   "source": [
    "executeQuery('''\n",
    "SELECT Avg(count) AS avg_num_text_reviews \n",
    "FROM   (SELECT Count(text) \n",
    "        FROM   reviews \n",
    "        WHERE  username IN (SELECT username \n",
    "                            FROM   ratings \n",
    "                            GROUP  BY username \n",
    "                            HAVING Count(book_id) > 50) \n",
    "        GROUP  BY username) AS counts \n",
    "''')"
   ]
  },
  {
   "cell_type": "markdown",
   "metadata": {},
   "source": [
    "### There are on average roughly 24 number of text reviews among users who rated more than 50 books."
   ]
  }
 ],
 "metadata": {
  "kernelspec": {
   "display_name": "Python 3",
   "language": "python",
   "name": "python3"
  },
  "language_info": {
   "codemirror_mode": {
    "name": "ipython",
    "version": 3
   },
   "file_extension": ".py",
   "mimetype": "text/x-python",
   "name": "python",
   "nbconvert_exporter": "python",
   "pygments_lexer": "ipython3",
   "version": "3.7.4"
  },
  "varInspector": {
   "cols": {
    "lenName": 16,
    "lenType": 16,
    "lenVar": 40
   },
   "kernels_config": {
    "python": {
     "delete_cmd_postfix": "",
     "delete_cmd_prefix": "del ",
     "library": "var_list.py",
     "varRefreshCmd": "print(var_dic_list())"
    },
    "r": {
     "delete_cmd_postfix": ") ",
     "delete_cmd_prefix": "rm(",
     "library": "var_list.r",
     "varRefreshCmd": "cat(var_dic_list()) "
    }
   },
   "types_to_exclude": [
    "module",
    "function",
    "builtin_function_or_method",
    "instance",
    "_Feature"
   ],
   "window_display": false
  }
 },
 "nbformat": 4,
 "nbformat_minor": 2
}
